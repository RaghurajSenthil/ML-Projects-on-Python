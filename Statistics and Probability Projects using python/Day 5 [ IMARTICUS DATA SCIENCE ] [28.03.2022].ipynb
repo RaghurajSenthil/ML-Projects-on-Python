{
 "cells": [
  {
   "cell_type": "code",
   "execution_count": 2,
   "id": "864f20e6",
   "metadata": {},
   "outputs": [
    {
     "name": "stdout",
     "output_type": "stream",
     "text": [
      "Original array:\n",
      " [[1 3 5 7]\n",
      " [2 4 6 8]]\n",
      "Flattend array:\n",
      " [1 3 5 7 2 4 6 8]\n"
     ]
    }
   ],
   "source": [
    "#Flatend function\n",
    "\n",
    "import numpy as np\n",
    "num_array = np.array([[1,3,5,7],[2,4,6,8]])\n",
    "print(\"Original array:\\n\",num_array)\n",
    "print(\"Flattend array:\\n\",np.ndarray.flatten(num_array))"
   ]
  },
  {
   "cell_type": "code",
   "execution_count": 5,
   "id": "d4792485",
   "metadata": {},
   "outputs": [
    {
     "name": "stdout",
     "output_type": "stream",
     "text": [
      "The array 'books' is 1 dimensional array\n",
      "\n",
      "Data Science with Python\n",
      "Machines are Learning\n",
      "DIY - Deep Learning\n"
     ]
    }
   ],
   "source": [
    "#Iteration for 1D array\n",
    "\n",
    "books = np.array([\"Data Science with Python\",\"Machines are Learning\",\"DIY - Deep Learning\"])\n",
    "print(\"The array 'books' is\", books.ndim , \"dimensional array\\n\")\n",
    "for i in books:\n",
    "    print(i)"
   ]
  },
  {
   "cell_type": "code",
   "execution_count": 6,
   "id": "f71909e1",
   "metadata": {},
   "outputs": [
    {
     "name": "stdout",
     "output_type": "stream",
     "text": [
      "The array 'books' is 2 dimensional array\n",
      "\n",
      "['Data Science with Python' 'Machines are Learning' 'DIY - Deep Learning']\n"
     ]
    }
   ],
   "source": [
    "#Iteration for 2D array\n",
    "\n",
    "books = np.array([[\"Data Science with Python\",\"Machines are Learning\",\"DIY - Deep Learning\"]])\n",
    "print(\"The array 'books' is\", books.ndim , \"dimensional array\\n\")\n",
    "for i in books:\n",
    "    print(i)"
   ]
  },
  {
   "cell_type": "code",
   "execution_count": 8,
   "id": "8b946519",
   "metadata": {},
   "outputs": [
    {
     "name": "stdout",
     "output_type": "stream",
     "text": [
      "The array 'books' is 2 dimensional array\n",
      "\n",
      "Data Science with Python\n",
      "Machines are Learning\n",
      "DIY - Deep Learning\n"
     ]
    }
   ],
   "source": [
    "#Iteration for 2D array\n",
    "\n",
    "books = np.array([[\"Data Science with Python\",\"Machines are Learning\",\"DIY - Deep Learning\"]])\n",
    "print(\"The array 'books' is\", books.ndim , \"dimensional array\\n\")\n",
    "for i in books:\n",
    "    for j in i:\n",
    "        print(j)\n",
    "    "
   ]
  },
  {
   "cell_type": "code",
   "execution_count": 11,
   "id": "5ed74186",
   "metadata": {},
   "outputs": [
    {
     "name": "stdout",
     "output_type": "stream",
     "text": [
      "Time Taken by lists : 0.21642160415649414 Seconds\n"
     ]
    }
   ],
   "source": [
    "#importing required library\n",
    "\n",
    "import numpy\n",
    "import time\n",
    "\n",
    "size = 1000000\n",
    "\n",
    "num_list1 = range(size)\n",
    "num_list2 = range(size)\n",
    "\n",
    "initialTime = time.time()\n",
    "resultant_list = [(a*b) for a,b in zip(num_list1,num_list2)]\n",
    "\n",
    "print(\"Time Taken by lists :\",(time.time() - initialTime),\"Seconds\")\n"
   ]
  },
  {
   "cell_type": "code",
   "execution_count": 18,
   "id": "c3b027cf",
   "metadata": {},
   "outputs": [
    {
     "name": "stdout",
     "output_type": "stream",
     "text": [
      "Time Taken by lists : 0.0049877166748046875 Seconds\n"
     ]
    }
   ],
   "source": [
    "#calculating time\n",
    "\n",
    "\n",
    "num_array1 = numpy.arange(size)\n",
    "num_array2 = numpy.arange(size)\n",
    "\n",
    "initialTime = time.time()\n",
    "resultant_array = num_array1 * num_array2\n",
    "\n",
    "print(\"Time Taken by lists :\",(time.time() - initialTime),\"Seconds\")\n"
   ]
  },
  {
   "cell_type": "code",
   "execution_count": 36,
   "id": "4b7b6e23",
   "metadata": {},
   "outputs": [
    {
     "name": "stdout",
     "output_type": "stream",
     "text": [
      "Mean temp_9am:\n",
      " 31.428571428571427 0 \n",
      "\n",
      "Mean temp_6pm:\n",
      " 35.857142857142854 \n",
      "\n",
      "Mean for both Column-wise:\n",
      " [34.  34.  34.  33.5 33.5 33.5 33. ] \n",
      "\n",
      "Mean for both:\n",
      " 33.642857142857146 \n",
      "\n",
      "Time Taken for completion:\n",
      " 0.0029938220977783203 Seconds\n"
     ]
    }
   ],
   "source": [
    "#Mean for row and column wise\n",
    "\n",
    "import numpy as np\n",
    "\n",
    "temp_9am = np.array([32,32,32,31,31,31,31])\n",
    "temp_6pm = np.array([36,36,36,36,36,36,35])\n",
    "\n",
    "initialTime = time.time()\n",
    "print(\"Mean temp_9am:\\n\",np.mean(temp_9am),\"\\n\")\n",
    "print(\"Mean temp_6pm:\\n\",np.mean(temp_6pm),\"\\n\")\n",
    "print(\"Mean for both Column-wise:\\n\",(temp_9am + temp_6pm)/2,\"\\n\")\n",
    "print(\"Mean for both:\\n\",np.mean(temp_9am + temp_6pm)/2,\"\\n\")\n",
    "print(\"Time Taken for completion:\\n\",(time.time() - initialTime),\"Seconds\")\n",
    "\n"
   ]
  },
  {
   "cell_type": "code",
   "execution_count": 51,
   "id": "86e561b1",
   "metadata": {},
   "outputs": [
    {
     "name": "stdout",
     "output_type": "stream",
     "text": [
      "Total_mean 33.642857142857146\n",
      "Column_mean [31.42857143 35.85714286]\n",
      "Row_mean [34.  34.  34.  33.5 33.5 33.5 33. ]\n",
      "Time Taken for completion:\n",
      " 0.0029900074005126953 Seconds\n"
     ]
    }
   ],
   "source": [
    "#using def()function\n",
    "#Mean for row and column wise\n",
    "\n",
    "import numpy as np\n",
    "\n",
    "def mean_temp(temp_9am_6pm):\n",
    "    \n",
    "    m_1=np.mean(temp_9am_6pm)\n",
    "    m_2=np.mean(temp_9am_6pm,0)\n",
    "    m_3=np.mean(temp_9am_6pm,1)\n",
    "    \n",
    "    return m_1,m_2,m_3\n",
    "\n",
    "\n",
    "temp_9am_6pm = np.array([(32,36),(32,36),(32,36),(31,36),(31,36),(31,36),(31,35)])\n",
    "m_1,m_2,m_3 = mean_temp(temp_9am_6pm)\n",
    "\n",
    "initialTime = time.time()\n",
    "\n",
    "print(\"Total_mean\",m_1)\n",
    "print(\"Column_mean\",m_2)\n",
    "#print(\"Column_mean\",np.mean(m_2))\n",
    "print(\"Row_mean\",m_3)\n",
    "#print(\"Row_mean\",np.mean(m_3))\n",
    "\n",
    "\n",
    "print(\"Time Taken for completion:\\n\",(time.time() - initialTime),\"Seconds\")\n",
    "\n",
    "\n"
   ]
  },
  {
   "cell_type": "code",
   "execution_count": 49,
   "id": "24319d80",
   "metadata": {},
   "outputs": [
    {
     "data": {
      "text/plain": [
       "120"
      ]
     },
     "execution_count": 49,
     "metadata": {},
     "output_type": "execute_result"
    }
   ],
   "source": [
    "#import reduce function\n",
    "\n",
    "from functools import reduce\n",
    "num_list = [1,2,3,4,5]\n",
    "reduce(lambda a,b: a*b,num_list)"
   ]
  },
  {
   "cell_type": "code",
   "execution_count": 71,
   "id": "77cf2f16",
   "metadata": {},
   "outputs": [
    {
     "name": "stdout",
     "output_type": "stream",
     "text": [
      "-100\n",
      "Time Taken for completion:\n",
      " 0.0009996891021728516 Seconds\n"
     ]
    }
   ],
   "source": [
    "#minimum of numeric tuple\n",
    "import time\n",
    "from functools import reduce\n",
    "initialTime = time.time()\n",
    "num_tup  = (0,-8,-100,1000,33)\n",
    "print(reduce(lambda x,y: x if (x<y) else y,num_tup))\n",
    "print(\"Time Taken for completion:\\n\",(time.time() - initialTime),\"Seconds\")"
   ]
  },
  {
   "cell_type": "code",
   "execution_count": 76,
   "id": "557ef4d4",
   "metadata": {},
   "outputs": [
    {
     "name": "stdout",
     "output_type": "stream",
     "text": [
      "-100\n",
      "Time Taken for completion:\n",
      " 0.0009965896606445312 Seconds\n"
     ]
    }
   ],
   "source": [
    "import time\n",
    "\n",
    "initialTime = time.time()\n",
    "num_tup  = (0,-8,-100,1000,33)\n",
    "print(min(num_tup))\n",
    "print(\"Time Taken for completion:\\n\",(time.time() - initialTime),\"Seconds\")"
   ]
  },
  {
   "cell_type": "code",
   "execution_count": 78,
   "id": "139ae66f",
   "metadata": {},
   "outputs": [
    {
     "name": "stdout",
     "output_type": "stream",
     "text": [
      "-100\n",
      "Time Taken for completion:\n",
      " 0.001995563507080078 Seconds\n"
     ]
    }
   ],
   "source": [
    "import time\n",
    "num_tup  = (0,-8,-100,1000,33)\n",
    "initialTime = time.time()\n",
    "a=num_tup[0]\n",
    "for i in num_tup:\n",
    "    if a>i:\n",
    "        a=i\n",
    "print(a)\n",
    "print(\"Time Taken for completion:\\n\",(time.time() - initialTime),\"Seconds\")"
   ]
  },
  {
   "cell_type": "code",
   "execution_count": 67,
   "id": "cc365eb0",
   "metadata": {},
   "outputs": [
    {
     "name": "stdout",
     "output_type": "stream",
     "text": [
      "0.0009970664978027344\n",
      "Time Taken for completion:\n",
      " 0.0009946823120117188 Seconds\n"
     ]
    }
   ],
   "source": [
    "from functools import reduce\n",
    "import time\n",
    "num=[0.0009970664978027344, 0.0009980201721191406, 0.001001119613647461]\n",
    "initialTime=time.time()\n",
    "print(reduce(lambda x,y: x if(x<y) else y,num))\n",
    "print(\"Time Taken for completion:\\n\",(time.time() - initialTime),\"Seconds\")\n"
   ]
  },
  {
   "cell_type": "code",
   "execution_count": 82,
   "id": "c6e0f2c8",
   "metadata": {},
   "outputs": [
    {
     "name": "stdout",
     "output_type": "stream",
     "text": [
      "[[[0 1 2 3]\n",
      "  [4 5 6 7]]\n",
      "\n",
      " [[0 1 2 3]\n",
      "  [4 5 6 7]]\n",
      "\n",
      " [[0 1 2 3]\n",
      "  [4 5 6 7]]]\n",
      "(3, 2, 4)\n",
      "24\n",
      "3\n"
     ]
    }
   ],
   "source": [
    "#3D\n",
    "\n",
    "import numpy as np\n",
    "array_example = np.array([[[0,1,2,3],[4,5,6,7]],[[0,1,2,3],[4,5,6,7]],[[0,1,2,3],[4,5,6,7]]])\n",
    "print(array_example)\n",
    "print(np.shape(array_example))\n",
    "print(np.size(array_example))\n",
    "print(np.ndim(array_example))"
   ]
  },
  {
   "cell_type": "code",
   "execution_count": 99,
   "id": "266b31ec",
   "metadata": {},
   "outputs": [
    {
     "name": "stdout",
     "output_type": "stream",
     "text": [
      "[[[0 1]\n",
      "  [4 5]]\n",
      "\n",
      " [[0 1]\n",
      "  [4 5]]\n",
      "\n",
      " [[0 1]\n",
      "  [4 5]]]\n",
      "SIZE:\n",
      " 12\n",
      "DIMENSION:\n",
      " 3 \n",
      "\n",
      "0(MEAN At the 0th position)\n",
      " [[0. 1.]\n",
      " [4. 5.]]\n",
      "1\n",
      " [[2. 3.]\n",
      " [2. 3.]\n",
      " [2. 3.]]\n",
      "2\n",
      " [[0.5 4.5]\n",
      " [0.5 4.5]\n",
      " [0.5 4.5]]\n"
     ]
    }
   ],
   "source": [
    "#3D\n",
    "\n",
    "import numpy as np\n",
    "example=np.array([[[0,1],[4,5]],[[0,1],[4,5]],[[0,1],[4,5]]])\n",
    "print(example)\n",
    "print(\"SIZE:\\n\",np.size(example))\n",
    "print(\"DIMENSION:\\n\",np.ndim(example),\"\\n\")\n",
    "print('0(MEAN At the 0th position)\\n',np.mean(example,0)) #mean at '0'th axis\n",
    "print('1\\n',np.mean(example,1))  #mean at '1'st axis\n",
    "print('2\\n',np.mean(example,2))   #mean at '2'nd axis"
   ]
  },
  {
   "cell_type": "code",
   "execution_count": 96,
   "id": "ac579f4f",
   "metadata": {},
   "outputs": [
    {
     "name": "stdout",
     "output_type": "stream",
     "text": [
      "[[[0 1]\n",
      "  [4 5]]\n",
      "\n",
      " [[2 4]\n",
      "  [6 8]]\n",
      "\n",
      " [[3 2]\n",
      "  [5 1]]]\n",
      "SIZE:\n",
      " 12\n",
      "DIMENSION:\n",
      " 3 \n",
      "\n",
      "1st axis mean(Column)\n",
      " [[2.  3. ]\n",
      " [4.  6. ]\n",
      " [4.  1.5]]\n"
     ]
    }
   ],
   "source": [
    "\n",
    "import numpy as np\n",
    "example=np.array([[[0,1],[4,5]],[[2,4],[6,8]],[[3,2],[5,1]]])\n",
    "print(example)\n",
    "print(\"SIZE:\\n\",np.size(example))\n",
    "print(\"DIMENSION:\\n\",np.ndim(example),\"\\n\")\n",
    "#print('0\\n',np.mean(example,0)) #mean at '0'th axis\n",
    "print('1st axis mean(Column)\\n',np.mean(example,1))  #mean at '1'st axis\n",
    "#print('2\\n',np.mean(example,2))   #mean at '2'nd axis"
   ]
  },
  {
   "cell_type": "code",
   "execution_count": 95,
   "id": "b73b3b72",
   "metadata": {},
   "outputs": [
    {
     "name": "stdout",
     "output_type": "stream",
     "text": [
      "[[[0 1]\n",
      "  [4 5]]\n",
      "\n",
      " [[2 4]\n",
      "  [6 8]]\n",
      "\n",
      " [[3 2]\n",
      "  [5 1]]]\n",
      "SIZE:\n",
      " 12\n",
      "DIMENSION:\n",
      " 3 \n",
      "\n",
      "2nd axis mean(Row)\n",
      " [[0.5 4.5]\n",
      " [3.  7. ]\n",
      " [2.5 3. ]]\n"
     ]
    }
   ],
   "source": [
    "import numpy as np\n",
    "example=np.array([[[0,1],[4,5]],[[2,4],[6,8]],[[3,2],[5,1]]])\n",
    "print(example)\n",
    "print(\"SIZE:\\n\",np.size(example))\n",
    "print(\"DIMENSION:\\n\",np.ndim(example),\"\\n\")\n",
    "#print('0\\n',np.mean(example,0)) #mean at '0'th axis\n",
    "#print('1st axis mean(Column)\\n',np.mean(example,1))  #mean at '1'st axis(Column-wise)\n",
    "print('2nd axis mean(Row)\\n',np.mean(example,2))   #mean at '2'nd axis(Row-wise)"
   ]
  },
  {
   "cell_type": "code",
   "execution_count": 106,
   "id": "8ffca1b5",
   "metadata": {},
   "outputs": [
    {
     "name": "stdout",
     "output_type": "stream",
     "text": [
      "[[[0 1 2 3]\n",
      "  [4 5 6 7]]\n",
      "\n",
      " [[0 1 2 3]\n",
      "  [4 5 6 7]]\n",
      "\n",
      " [[0 1 2 3]\n",
      "  [4 5 6 7]]]\n",
      "SHAPE:\n",
      " (3, 2, 4)\n",
      "SIZE:\n",
      " 24\n",
      "DIMENSION:\n",
      " 3\n",
      "TOTAL_MEAN:\n",
      " 3.5\n",
      "0th axis_Mean:\n",
      " [[0. 1. 2. 3.]\n",
      " [4. 5. 6. 7.]]\n",
      "Column-wise_Mean:\n",
      " [[2. 3. 4. 5.]\n",
      " [2. 3. 4. 5.]\n",
      " [2. 3. 4. 5.]]\n",
      "Row-wise_Mean:\n",
      " [[1.5 5.5]\n",
      " [1.5 5.5]\n",
      " [1.5 5.5]]\n"
     ]
    }
   ],
   "source": [
    "#3D vera_level example\n",
    "\n",
    "import numpy as np\n",
    "array_example = np.array([[[0,1,2,3],[4,5,6,7]],[[0,1,2,3],[4,5,6,7]],[[0,1,2,3],[4,5,6,7]]])\n",
    "print(array_example)\n",
    "print(\"SHAPE:\\n\",np.shape(array_example))\n",
    "print(\"SIZE:\\n\",np.size(array_example))\n",
    "print(\"DIMENSION:\\n\",np.ndim(array_example))\n",
    "print(\"TOTAL_MEAN:\\n\",np.mean(array_example))\n",
    "print(\"0th axis_Mean:\\n\",np.mean(array_example,0))\n",
    "print(\"Column-wise_Mean:\\n\",np.mean(array_example,1))\n",
    "print(\"Row-wise_Mean:\\n\",np.mean(array_example,2))"
   ]
  },
  {
   "cell_type": "code",
   "execution_count": 111,
   "id": "15ce17a6",
   "metadata": {},
   "outputs": [
    {
     "name": "stdout",
     "output_type": "stream",
     "text": [
      "[[1 2 3]\n",
      " [4 5 6]\n",
      " [7 8 9]]\n",
      "1st:\n",
      " [[4 5]\n",
      " [7 8]]\n",
      "2nd:\n",
      " [[4 5 6]]\n",
      "3rd:\n",
      " [[2 3]]\n"
     ]
    }
   ],
   "source": [
    "#2D operation\n",
    "\n",
    "import numpy as np\n",
    "a=np.array([[1,2,3],[4,5,6],[7,8,9]])\n",
    "print(a)\n",
    "print(\"1st:\\n\",a[1:,:2]) #(2,2)\n",
    "print(\"2nd:\\n\",a[1:2,:])#(3,)(1,3)\n",
    "print(\"3rd:\\n\",a[0:1,1:])#(2,)(1,2)"
   ]
  },
  {
   "cell_type": "code",
   "execution_count": null,
   "id": "bb1fb50a",
   "metadata": {},
   "outputs": [],
   "source": []
  }
 ],
 "metadata": {
  "kernelspec": {
   "display_name": "Python 3 (ipykernel)",
   "language": "python",
   "name": "python3"
  },
  "language_info": {
   "codemirror_mode": {
    "name": "ipython",
    "version": 3
   },
   "file_extension": ".py",
   "mimetype": "text/x-python",
   "name": "python",
   "nbconvert_exporter": "python",
   "pygments_lexer": "ipython3",
   "version": "3.9.7"
  }
 },
 "nbformat": 4,
 "nbformat_minor": 5
}
