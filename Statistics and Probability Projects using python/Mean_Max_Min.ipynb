{
 "cells": [
  {
   "cell_type": "code",
   "execution_count": 25,
   "id": "67267e3f",
   "metadata": {
    "scrolled": false
   },
   "outputs": [
    {
     "name": "stdout",
     "output_type": "stream",
     "text": [
      "Total elements 13\n",
      "MEAN OF SETS 109.46153846153847\n",
      "Maximum value 223\n",
      "Minimum value 77\n",
      "Range 146\n"
     ]
    }
   ],
   "source": [
    "import numpy as np\n",
    "speed = [220,223,87,88,111,80,100,89,99,78,77,85,86]\n",
    "LEN = len(speed)\n",
    "x = np.mean(speed)\n",
    "print(\"Total elements\",LEN)\n",
    "print(\"MEAN OF SETS\",x)\n",
    "print('Maximum value',max(speed))\n",
    "print('Minimum value',min(speed))\n",
    "print('Range',max(speed)-min(speed))"
   ]
  },
  {
   "cell_type": "code",
   "execution_count": 26,
   "id": "cf1633a0",
   "metadata": {
    "scrolled": true
   },
   "outputs": [
    {
     "name": "stdout",
     "output_type": "stream",
     "text": [
      "Total elements 7\n",
      "MEAN OF SETS 37.714285714285715\n",
      "Maximum value 38\n",
      "Minimum value 37\n",
      "Range 1\n"
     ]
    }
   ],
   "source": [
    "import numpy as np\n",
    "Weather= [38,38,38,37,37,38,38]\n",
    "LEN = len(Weather)\n",
    "x = np.mean(Weather)\n",
    "print(\"Total elements\",LEN)\n",
    "print(\"MEAN OF SETS\",x)\n",
    "print('Maximum value',max(Weather))\n",
    "print('Minimum value',min(Weather))\n",
    "print('Range',max(Weather)-min(Weather))"
   ]
  },
  {
   "cell_type": "code",
   "execution_count": 10,
   "id": "62211fa1",
   "metadata": {},
   "outputs": [
    {
     "name": "stdout",
     "output_type": "stream",
     "text": [
      "Total elements 13\n",
      "MEDIAN OF SETS 88.0\n",
      "Maximum value 223\n",
      "Minimum value 77\n"
     ]
    }
   ],
   "source": [
    "import numpy as np\n",
    "speed = [220,223,87,88,111,80,100,89,99,78,77,85,86]\n",
    "LEN = len(speed)\n",
    "x = np.median(speed)\n",
    "print(\"Total elements\",LEN)\n",
    "print(\"MEDIAN OF SETS\",x)\n",
    "print('Maximum value',max(speed))\n",
    "print('Minimum value',min(speed))"
   ]
  },
  {
   "cell_type": "code",
   "execution_count": 11,
   "id": "4619ffc9",
   "metadata": {},
   "outputs": [
    {
     "name": "stdout",
     "output_type": "stream",
     "text": [
      "Total elements 7\n",
      "MEDIAN OF SETS 38.0\n",
      "Maximum value 38\n",
      "Minimum value 37\n"
     ]
    }
   ],
   "source": [
    "import numpy as np\n",
    "Weather= [38,38,38,37,37,38,38]\n",
    "LEN = len(Weather)\n",
    "x = np.median(Weather)\n",
    "print(\"Total elements\",LEN)\n",
    "print(\"MEDIAN OF SETS\",x)\n",
    "print('Maximum value',max(Weather))\n",
    "print('Minimum value',min(Weather))"
   ]
  },
  {
   "cell_type": "code",
   "execution_count": 27,
   "id": "a05971cb",
   "metadata": {},
   "outputs": [
    {
     "name": "stdout",
     "output_type": "stream",
     "text": [
      "Total elements 10\n",
      "MEAN OF G_rate 4834.9\n",
      "MEDIAN OF G_rate 4790.0\n",
      "Maximum value 4970\n",
      "Minimum value 4752\n",
      "Range 218\n"
     ]
    }
   ],
   "source": [
    "import numpy as np\n",
    "G_rate= [4754,4752,4752,4809,4771,4766,4854,4951,4970,4970]\n",
    "LEN = len(G_rate)\n",
    "x = np.mean(G_rate)\n",
    "y = np.median(G_rate)\n",
    "print(\"Total elements\",LEN)\n",
    "print(\"MEAN OF G_rate\",x)\n",
    "print(\"MEDIAN OF G_rate\",y)\n",
    "print('Maximum value',max(G_rate))\n",
    "print('Minimum value',min(G_rate))\n",
    "print('Range',max(G_rate)-min(G_rate))"
   ]
  },
  {
   "cell_type": "code",
   "execution_count": 14,
   "id": "1c3f9b33",
   "metadata": {},
   "outputs": [
    {
     "name": "stdout",
     "output_type": "stream",
     "text": [
      "ModeResult(mode=array([86]), count=array([2]))\n"
     ]
    }
   ],
   "source": [
    "from scipy import stats\n",
    "speed = [99,86,87,88,86,8,103,87,94,78,77,85]\n",
    "x = stats.mode(speed)\n",
    "print(x)"
   ]
  },
  {
   "cell_type": "code",
   "execution_count": 15,
   "id": "50cd30f8",
   "metadata": {},
   "outputs": [
    {
     "name": "stdout",
     "output_type": "stream",
     "text": [
      "ModeResult(mode=array([38]), count=array([5]))\n"
     ]
    }
   ],
   "source": [
    "from scipy import stats\n",
    "Weather = [38,38,38,37,37,38,38]\n",
    "x = stats.mode(Weather)\n",
    "print(x)"
   ]
  },
  {
   "cell_type": "code",
   "execution_count": 16,
   "id": "8b3a68d7",
   "metadata": {},
   "outputs": [
    {
     "name": "stdout",
     "output_type": "stream",
     "text": [
      "ModeResult(mode=array([4752]), count=array([2]))\n"
     ]
    }
   ],
   "source": [
    "from scipy import stats\n",
    "G_rate = [4754,4752,4752,4809,4771,4766,4854,4951,4970,4970]\n",
    "x = stats.mode(G_rate)\n",
    "print(x)"
   ]
  },
  {
   "cell_type": "code",
   "execution_count": 24,
   "id": "17e1d7ea",
   "metadata": {},
   "outputs": [
    {
     "name": "stdout",
     "output_type": "stream",
     "text": [
      "variance 2365.786982248521\n",
      "Standard Deviation 48.63935630997311\n"
     ]
    }
   ],
   "source": [
    "import numpy as np\n",
    "speed = [220,223,87,88,111,80,100,89,99,78,77,85,86]\n",
    "print(\"variance\",np.var(speed))\n",
    "print(\"Standard Deviation\",np.std(speed))"
   ]
  },
  {
   "cell_type": "code",
   "execution_count": 22,
   "id": "1b61db43",
   "metadata": {},
   "outputs": [
    {
     "name": "stdout",
     "output_type": "stream",
     "text": [
      "variance 0.20408163265306123\n",
      "Standard Deviation 0.45175395145262565\n"
     ]
    }
   ],
   "source": [
    "import numpy as np\n",
    "Weather = [38,38,38,37,37,38,38]\n",
    "print(\"variance\",np.var(Weather))\n",
    "print(\"Standard Deviation\",np.std(Weather))"
   ]
  },
  {
   "cell_type": "code",
   "execution_count": 23,
   "id": "d6e73848",
   "metadata": {},
   "outputs": [
    {
     "name": "stdout",
     "output_type": "stream",
     "text": [
      "variance 8013.889999999999\n",
      "Standard Deviation 89.52033288588687\n"
     ]
    }
   ],
   "source": [
    "import numpy as np\n",
    "G_rate = [4754,4752,4752,4809,4771,4766,4854,4951,4970,4970]\n",
    "print(\"variance\",np.var(G_rate))\n",
    "print(\"Standard Deviation\",np.std(G_rate))"
   ]
  },
  {
   "cell_type": "code",
   "execution_count": null,
   "id": "9f3062d4",
   "metadata": {},
   "outputs": [],
   "source": [
    "import numpy as np\n",
    "from scipy import stats\n",
    "marks = [97,99,98,95,65,56,]\n",
    "print(\"Length\",len(marks))\n",
    "print(\"Mean\",np.mean(marks))\n",
    "print(\"Median\",np.median(marks))\n",
    "print(\"Mode\",stats.mode(marks))\n",
    "print(\"Variance\",np.var(marks))\n",
    "print(\"Standard Deviation\",np.std(marks))\n",
    "print(\"Maximum_Marks\",max(marks))\n",
    "print(\"Minimum_Marks\",min(marks))\n",
    "print(\"Rang\")"
   ]
  }
 ],
 "metadata": {
  "kernelspec": {
   "display_name": "Python 3 (ipykernel)",
   "language": "python",
   "name": "python3"
  },
  "language_info": {
   "codemirror_mode": {
    "name": "ipython",
    "version": 3
   },
   "file_extension": ".py",
   "mimetype": "text/x-python",
   "name": "python",
   "nbconvert_exporter": "python",
   "pygments_lexer": "ipython3",
   "version": "3.9.7"
  }
 },
 "nbformat": 4,
 "nbformat_minor": 5
}
