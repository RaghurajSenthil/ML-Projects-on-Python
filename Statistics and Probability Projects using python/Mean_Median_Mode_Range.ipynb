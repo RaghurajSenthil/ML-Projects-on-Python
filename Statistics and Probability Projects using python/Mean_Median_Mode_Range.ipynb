{
 "cells": [
  {
   "cell_type": "code",
   "execution_count": 13,
   "id": "472ec9dd",
   "metadata": {
    "scrolled": true
   },
   "outputs": [
    {
     "name": "stdout",
     "output_type": "stream",
     "text": [
      "Total elements 6\n",
      "MEAN OF SETS 37.5\n",
      "MEDIAN OF SETS 37.5\n",
      "MODE OF SETS ModeResult(mode=array([37]), count=array([3]))\n",
      "variance 0.25\n",
      "Standard Deviation 0.5\n",
      "Maximum value 38\n",
      "Minimum value 37\n",
      "Range 1\n"
     ]
    }
   ],
   "source": [
    "#Weather(22/03/22)coming 6 days including today\n",
    "import numpy as np\n",
    "from scipy import stats\n",
    "Weather= [38,37,37,37,38,38]\n",
    "LEN = len(Weather)\n",
    "print(\"Total elements\",LEN)\n",
    "print(\"MEAN OF SETS\",np.mean(Weather))\n",
    "print(\"MEDIAN OF SETS\",np.median(Weather))\n",
    "print(\"MODE OF SETS\",stats.mode(Weather))\n",
    "print(\"variance\",np.var(Weather))\n",
    "print(\"Standard Deviation\",np.std(Weather))\n",
    "print('Maximum value',max(Weather))\n",
    "print('Minimum value',min(Weather))\n",
    "print('Range',max(Weather)-min(Weather))"
   ]
  },
  {
   "cell_type": "code",
   "execution_count": 14,
   "id": "9aa18b69",
   "metadata": {},
   "outputs": [
    {
     "name": "stdout",
     "output_type": "stream",
     "text": [
      "Total elements 6\n",
      "MEAN OF G_rate 4774.5\n",
      "MEDIAN OF G_rate 4762.5\n",
      "MODE OF SETS ModeResult(mode=array([4752]), count=array([2]))\n",
      "variance 637.5833333333334\n",
      "Standard Deviation 25.250412537884078\n",
      "Maximum value 4809\n",
      "Minimum value 4752\n",
      "Range 57\n"
     ]
    }
   ],
   "source": [
    "#G_rate(22/03/22)last 6 days\n",
    "import numpy as np\n",
    "from scipy import stats\n",
    "G_rate= [4809,4754,4752,4752,4809,4771,]\n",
    "LEN = len(G_rate)\n",
    "x = np.mean(G_rate)\n",
    "y = np.median(G_rate)\n",
    "print(\"Total elements\",LEN)\n",
    "print(\"MEAN OF G_rate\",x)\n",
    "print(\"MEDIAN OF G_rate\",y)\n",
    "print(\"MODE OF SETS\",stats.mode(G_rate))\n",
    "print(\"variance\",np.var(G_rate))\n",
    "print(\"Standard Deviation\",np.std(G_rate))\n",
    "print('Maximum value',max(G_rate))\n",
    "print('Minimum value',min(G_rate))\n",
    "print('Range',max(G_rate)-min(G_rate))"
   ]
  },
  {
   "cell_type": "code",
   "execution_count": 18,
   "id": "49375c4e",
   "metadata": {},
   "outputs": [
    {
     "name": "stdout",
     "output_type": "stream",
     "text": [
      "The probability of drawing an jack as a percent is  8.0 %\n"
     ]
    }
   ],
   "source": [
    "#Probability of getting jack cards\n",
    "\n",
    "cards = 52\n",
    "jacks = 4\n",
    "jack_probability = jacks / cards\n",
    "print(\"The probability of drawing an jack as a percent is \" ,format(round(jack_probability,2)*100), \"%\")"
   ]
  },
  {
   "cell_type": "code",
   "execution_count": 36,
   "id": "3277a229",
   "metadata": {},
   "outputs": [
    {
     "name": "stdout",
     "output_type": "stream",
     "text": [
      "the chance of drawing a heart or a club is 50.0 %\n"
     ]
    }
   ],
   "source": [
    "#probability of heatrs or clubs\n",
    "def event_probability(event_outcome,sample_space):\n",
    "    probability=(event_outcome/sample_space)*100\n",
    "    return round(probability,1)\n",
    "\n",
    "cards=52\n",
    "hearts=13\n",
    "clubs=13\n",
    "\n",
    "hearts_or_clubs=event_probability(hearts,cards)+event_probability(clubs,cards)\n",
    "\n",
    "print(\"the chance of drawing a heart or a club is\",hearts_or_clubs,\"%\")\n",
    "\n"
   ]
  },
  {
   "cell_type": "code",
   "execution_count": 38,
   "id": "28d5c01e",
   "metadata": {},
   "outputs": [
    {
     "name": "stdout",
     "output_type": "stream",
     "text": [
      "the chance of drawing a king or queen or ace is 23.1 %\n"
     ]
    }
   ],
   "source": [
    "#KING_QUEEN_ACE\n",
    "cards=52\n",
    "king=4\n",
    "queen=4\n",
    "ace=4\n",
    "\n",
    "k_q_a=event_probability(king,cards)+event_probability(queen,cards)+event_probability(ace,cards)\n",
    "\n",
    "print(\"the chance of drawing a king or queen or ace is\",k_q_a,\"%\")\n",
    "\n",
    "def event_probability(event_outcome,sample_space):\n",
    "    probability=(event_outcome/sample_space)*100\n",
    "    return round(probability,1)"
   ]
  },
  {
   "cell_type": "code",
   "execution_count": 11,
   "id": "fbbe05e2",
   "metadata": {},
   "outputs": [
    {
     "name": "stdout",
     "output_type": "stream",
     "text": [
      "Raj.xlsx\n",
      "[0.  0.1 0.2 0.3 0.4 0.5 0.6 0.7 0.8 0.9 1.  1.1 1.2 1.3 1.4 1.5 1.6 1.7\n",
      " 1.8 1.9 2.  2.1 2.2 2.3 2.4 2.5 2.6 2.7 2.8 2.9 3.  3.1 3.2 3.3 3.4 3.5\n",
      " 3.6 3.7 3.8 3.9 4.  4.1 4.2 4.3 4.4 4.5 4.6 4.7 4.8 4.9 5.  5.1 5.2 5.3\n",
      " 5.4 5.5 5.6 5.7 5.8 5.9 6.  6.1 6.2 6.3 6.4 6.5 6.6 6.7 6.8 6.9 7.  7.1\n",
      " 7.2 7.3 7.4 7.5 7.6 7.7 7.8 7.9 8.  8.1 8.2 8.3 8.4 8.5 8.6 8.7 8.8 8.9\n",
      " 9.  9.1 9.2 9.3 9.4 9.5 9.6 9.7 9.8 9.9]\n",
      "Len :  100\n",
      "0 0.0 0.0\n",
      "1 0.1 0.4991670832341408\n",
      "2 0.2 0.9933466539753061\n",
      "3 0.30000000000000004 1.477601033306698\n",
      "4 0.4 1.9470917115432527\n",
      "5 0.5 2.397127693021015\n",
      "6 0.6000000000000001 2.823212366975177\n",
      "7 0.7000000000000001 3.2210884361884555\n",
      "8 0.8 3.586780454497614\n",
      "9 0.9 3.916634548137417\n",
      "10 1.0 4.207354924039483\n",
      "11 1.1 4.456036800307177\n",
      "12 1.2000000000000002 4.660195429836132\n",
      "13 1.3 4.817790927085965\n",
      "14 1.4000000000000001 4.927248649942301\n",
      "15 1.5 4.987474933020272\n",
      "16 1.6 4.997868015207525\n",
      "17 1.7000000000000002 4.958324052262343\n",
      "18 1.8 4.869238154390976\n",
      "19 1.9000000000000001 4.731500438437072\n",
      "20 2.0 4.546487134128409\n",
      "21 2.1 4.316046833244369\n",
      "22 2.2 4.0424820190979505\n",
      "23 2.3000000000000003 3.7285260608836\n",
      "24 2.4000000000000004 3.377315902755753\n",
      "25 2.5 2.992360720519782\n",
      "26 2.6 2.577506859107321\n",
      "27 2.7 2.136899401169149\n",
      "28 2.8000000000000003 1.6749407507795233\n",
      "29 2.9000000000000004 1.19624664606991\n",
      "30 3.0 0.7056000402993361\n",
      "31 3.1 0.20790331216645247\n",
      "32 3.2 -0.2918707171379004\n",
      "33 3.3000000000000003 -0.7887284707162433\n",
      "34 3.4000000000000004 -1.2777055101341583\n",
      "35 3.5 -1.7539161384480992\n",
      "36 3.6 -2.2126022164742625\n",
      "37 3.7 -2.649180704542467\n",
      "38 3.8000000000000003 -3.0592894547135963\n",
      "39 3.9000000000000004 -3.4388307959198707\n",
      "40 4.0 -3.7840124765396412\n",
      "41 4.1000000000000005 -4.091385555322054\n",
      "42 4.2 -4.357878862067941\n",
      "43 4.3 -4.580829683747274\n",
      "44 4.4 -4.758010369447581\n",
      "45 4.5 -4.887650588325485\n",
      "46 4.6000000000000005 -4.968455018167322\n",
      "47 4.7 -4.999616287820504\n",
      "48 4.800000000000001 -4.9808230441792025\n",
      "49 4.9 -4.912263063121662\n",
      "50 5.0 -4.794621373315692\n",
      "51 5.1000000000000005 -4.629073411638661\n",
      "52 5.2 -4.417273278600765\n",
      "53 5.300000000000001 -4.161337211119504\n",
      "54 5.4 -3.8638224377799357\n",
      "55 5.5 -3.5277016278519597\n",
      "56 5.6000000000000005 -3.1563331893616042\n",
      "57 5.7 -2.753427712988188\n",
      "58 5.800000000000001 -2.323010897068783\n",
      "59 5.9 -1.8693833241511801\n",
      "60 6.0 -1.3970774909946293\n",
      "61 6.1000000000000005 -0.9108125213604751\n",
      "62 6.2 -0.41544701408748197\n",
      "63 6.300000000000001 0.08406950242175301\n",
      "64 6.4 0.5827460242524682\n",
      "65 6.5 1.0755999404390777\n",
      "66 6.6000000000000005 1.5577068175668933\n",
      "67 6.7 2.0242496030829917\n",
      "68 6.800000000000001 2.470566755693045\n",
      "69 6.9 2.8921988219410006\n",
      "70 7.0 3.2849329935939453\n",
      "71 7.1000000000000005 3.6448452006293826\n",
      "72 7.2 3.9683393192457657\n",
      "73 7.300000000000001 4.2521831031428245\n",
      "74 7.4 4.493540479058135\n",
      "75 7.5 4.6899998838736945\n",
      "76 7.6000000000000005 4.839598360157432\n",
      "77 7.7 4.940841169385002\n",
      "78 7.800000000000001 4.992716726873025\n",
      "79 7.9 4.99470670919886\n",
      "80 8.0 4.946791233116909\n",
      "81 8.1 4.849449054225431\n",
      "82 8.200000000000001 4.703652783398863\n",
      "83 8.3 4.510859168781466\n",
      "84 8.4 4.2729945404414025\n",
      "85 8.5 3.9924355631174513\n",
      "86 8.6 3.6719854893705666\n",
      "87 8.700000000000001 3.31484615041091\n",
      "88 8.8 2.9245859644588084\n",
      "89 8.9 2.505104282289423\n",
      "90 9.0 2.060592426208783\n",
      "91 9.1 1.5954918117467607\n",
      "92 9.200000000000001 1.1144495705012296\n",
      "93 9.3 0.6222721175353085\n",
      "94 9.4 0.12387712726678882\n",
      "95 9.5 -0.3757556023090465\n",
      "96 9.600000000000001 -0.871633906114907\n",
      "97 9.700000000000001 -1.358803132054721\n",
      "98 9.8 -1.8323956462596418\n",
      "99 9.9 -2.2876794688766067\n"
     ]
    }
   ],
   "source": [
    "#using Excel sheet\n",
    "import xlsxwriter\n",
    "import numpy as np\n",
    "import matplotlib.pyplot as plt\n",
    "\n",
    "xls_path = 'Raj.xlsx'\n",
    "print(xls_path)\n",
    "workbook = xlsxwriter.Workbook(xls_path)#file_name\n",
    "worksheet = workbook.add_worksheet(\"Batch\")#adding_sheets\n",
    "worksheet.write(0,0,\"x\")\n",
    "worksheet.write(0,1,\"F(x)=SINE\")\n",
    "worksheet.write(0,2,\"y=mx\")\n",
    "#worksheet.write(4,4,\"Raghuraj_Senthil\")\n",
    "\n",
    "x = np.arange(0,10,0.1);\n",
    "sinus = 5*np.sin(x)\n",
    "y = 2*x\n",
    "print(x)\n",
    "print(\"Len : \",len(x))\n",
    "for i in range(len(x)):\n",
    "    print(i,x[i],sinus[i])\n",
    "    worksheet.write(i+1,0,x[i])\n",
    "    worksheet.write(i+1,1,sinus[i])\n",
    "    worksheet.write(i+1,2,y[i])\n",
    "workbook.close()"
   ]
  },
  {
   "cell_type": "code",
   "execution_count": 65,
   "id": "da8fd2c4",
   "metadata": {},
   "outputs": [
    {
     "name": "stdout",
     "output_type": "stream",
     "text": [
      "Raja.xlsx\n",
      "[0 1 2 3 4 5 6 7 8 9]\n",
      "Len :  10\n",
      "0 0 0 0 5 5\n",
      "1 1 1 5 6 10\n",
      "2 2 2 10 7 15\n",
      "3 3 3 15 8 20\n",
      "4 4 4 20 9 25\n",
      "5 5 5 25 10 30\n",
      "6 6 6 30 11 35\n",
      "7 7 7 35 12 40\n",
      "8 8 8 40 13 45\n",
      "9 9 9 45 14 50\n"
     ]
    }
   ],
   "source": [
    "#example excel\n",
    "import xlsxwriter\n",
    "import numpy as np\n",
    "import matplotlib.pyplot as plt\n",
    "\n",
    "xls_path = 'Raja.xlsx'\n",
    "print(xls_path)\n",
    "workbook = xlsxwriter.Workbook(xls_path)#file_name\n",
    "worksheet = workbook.add_worksheet(\"Batch\")#adding_sheets\n",
    "worksheet.write(0,0,\"x\")\n",
    "worksheet.write(0,1,\"y1=x\")\n",
    "worksheet.write(0,2,\"y2=5x\")\n",
    "worksheet.write(0,3,\"y3=x+5\")\n",
    "worksheet.write(0,4,\"y4=5x+5\")\n",
    "\n",
    "\n",
    "x = np.arange(0,10,1);\n",
    "\n",
    "y1 = x\n",
    "y2 = 5*x\n",
    "y3 = x+5\n",
    "y4 = 5*x+5\n",
    "print(x)\n",
    "print(\"Len : \",len(x))\n",
    "for i in range(len(x)):\n",
    "    print(i,x[i],y1[i],y2[i],y3[i],y4[i])\n",
    "    worksheet.write(i+1,0,x[i])\n",
    "    worksheet.write(i+1,1,y1[i])\n",
    "    worksheet.write(i+1,2,y2[i])\n",
    "    worksheet.write(i+1,3,y3[i])\n",
    "    worksheet.write(i+1,4,y4[i])\n",
    "    \n",
    "workbook.close()"
   ]
  },
  {
   "cell_type": "code",
   "execution_count": 1,
   "id": "d0577c2c",
   "metadata": {},
   "outputs": [
    {
     "name": "stdout",
     "output_type": "stream",
     "text": [
      "Raghuraj.xlsx\n"
     ]
    }
   ],
   "source": [
    "\n",
    "import xlsxwriter\n",
    "import numpy as np\n",
    "import matplotlib.pyplot as plt\n",
    "\n",
    "xls_path = 'Raghuraj.xlsx'\n",
    "print(xls_path)\n",
    "workbook = xlsxwriter.Workbook(xls_path)\n",
    "worksheet = workbook.add_worksheet(\"Batch\")\n",
    "\n",
    "workbook.close()"
   ]
  },
  {
   "cell_type": "code",
   "execution_count": 9,
   "id": "ac6bd959",
   "metadata": {},
   "outputs": [
    {
     "name": "stdout",
     "output_type": "stream",
     "text": [
      "Example.xlsx\n"
     ]
    }
   ],
   "source": [
    "import xlsxwriter\n",
    "import numpy as np\n",
    "import matplotlib.pyplot as plt\n",
    "\n",
    "xls_path = 'Example.xlsx'\n",
    "print(xls_path)\n",
    "workbook = xlsxwriter.Workbook(xls_path)\n",
    "worksheet=workbook.add_worksheet(\"Ex\")"
   ]
  },
  {
   "cell_type": "code",
   "execution_count": null,
   "id": "73d010d0",
   "metadata": {},
   "outputs": [],
   "source": []
  }
 ],
 "metadata": {
  "kernelspec": {
   "display_name": "Python 3 (ipykernel)",
   "language": "python",
   "name": "python3"
  },
  "language_info": {
   "codemirror_mode": {
    "name": "ipython",
    "version": 3
   },
   "file_extension": ".py",
   "mimetype": "text/x-python",
   "name": "python",
   "nbconvert_exporter": "python",
   "pygments_lexer": "ipython3",
   "version": "3.9.7"
  }
 },
 "nbformat": 4,
 "nbformat_minor": 5
}
