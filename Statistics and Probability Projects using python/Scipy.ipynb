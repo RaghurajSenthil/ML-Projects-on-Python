{
 "cells": [
  {
   "cell_type": "code",
   "execution_count": 3,
   "id": "17202d99",
   "metadata": {},
   "outputs": [
    {
     "name": "stdout",
     "output_type": "stream",
     "text": [
      "val 0.18610694845752918\n",
      "val1 0.06944444444444445\n"
     ]
    }
   ],
   "source": [
    "#BINOMIAL PMF binom.pmf(k,n,p)\n",
    "\n",
    "from scipy import stats\n",
    "\n",
    "print(\"val\",stats.binom.pmf(5,30,0.15))\n",
    "print(\"val1\",stats.binom.pmf(2,3,1/6))"
   ]
  },
  {
   "cell_type": "code",
   "execution_count": 4,
   "id": "e6ba2381",
   "metadata": {},
   "outputs": [
    {
     "data": {
      "text/plain": [
       "0.10419563456702102"
      ]
     },
     "execution_count": 4,
     "metadata": {},
     "output_type": "execute_result"
    }
   ],
   "source": [
    "#POISSION DIST\n",
    "from scipy.stats import poisson\n",
    "poisson.pmf(k=6,mu=4)"
   ]
  },
  {
   "cell_type": "code",
   "execution_count": 7,
   "id": "879bf6ba",
   "metadata": {},
   "outputs": [
    {
     "name": "stdout",
     "output_type": "stream",
     "text": [
      "w_9am 28.285714285714285\n",
      "w_6pm 36.42857142857143\n",
      "w_11pm 29.714285714285715\n",
      "MIN OF W_9am 28\n",
      "MAX OF W_9am 29\n",
      "MIN OF W_6pm 36\n",
      "MAX OF W_pm 37\n",
      "MIN OF W_11pm 29\n",
      "MAX OF W_11pm 31\n"
     ]
    }
   ],
   "source": [
    "# probability of weather\n",
    "import numpy as np\n",
    "w_9am =np.array([28,28,28,29,28,29,28])\n",
    "w_6pm =np.array([36,36,36,36,37,37,37])\n",
    "w_11pm =np.array([29,29,29,30,30,30,31])\n",
    "\n",
    "print(\"w_9am\",np.mean(w_9am))\n",
    "print(\"w_6pm\",np.mean(w_6pm))\n",
    "print(\"w_11pm\",np.mean(w_11pm))\n",
    "\n",
    "print(\"MIN OF W_9am\",min(w_9am))\n",
    "print(\"MAX OF W_9am\",max(w_9am))\n",
    "print(\"MIN OF W_6pm\",min(w_6pm))\n",
    "print(\"MAX OF W_pm\",max(w_6pm))\n",
    "print(\"MIN OF W_11pm\",min(w_11pm))\n",
    "print(\"MAX OF W_11pm\",max(w_11pm))"
   ]
  },
  {
   "cell_type": "code",
   "execution_count": 13,
   "id": "7521e362",
   "metadata": {},
   "outputs": [
    {
     "name": "stdout",
     "output_type": "stream",
     "text": [
      "a\n",
      "i\n"
     ]
    }
   ],
   "source": [
    "l1 = [\"a\",\"e\",\"i\",\"o\",\"u\"]\n",
    "l2 = [\"a\",\"e\",\"i\",\"i\",\"o\",\"i\",\"u\"]\n",
    "print(l1[0])\n",
    "print(l2[3])"
   ]
  },
  {
   "cell_type": "code",
   "execution_count": 2,
   "id": "f6415218",
   "metadata": {},
   "outputs": [
    {
     "name": "stdout",
     "output_type": "stream",
     "text": [
      "index of i in a\n",
      "2\n",
      "index of i in b 2\n",
      "index of i in b 3\n",
      "index of i in b 5\n",
      "[2, 3, 5]\n"
     ]
    }
   ],
   "source": [
    "#Index of vowels\n",
    "\n",
    "a=\"aeiou\"\n",
    "b=\"aeiioiu\"\n",
    "print(\"index of i in a\")\n",
    "print(a.index(\"i\"))\n",
    "for i in range(len(b)):\n",
    "    if b[i]==\"i\":\n",
    "        print(\"index of i in b\",i)\n",
    "        \n",
    "#Another method        \n",
    "        \n",
    "i_b=[i for i in range(len(b))if b[i]==\"i\"]\n",
    "print(i_b)"
   ]
  },
  {
   "cell_type": "code",
   "execution_count": 3,
   "id": "9a50a78c",
   "metadata": {},
   "outputs": [
    {
     "name": "stdout",
     "output_type": "stream",
     "text": [
      "Total_vowels 3\n",
      "count of A = 1\n",
      "count of U = 1\n",
      "count of a = 1\n"
     ]
    }
   ],
   "source": [
    "s=\"RAGHUraj\"\n",
    "a=0\n",
    "for i in range(len(s)):\n",
    "    if s[i] in \"aeiouAEIOU\":\n",
    "        a=a+1\n",
    "print(\"Total_vowels\",a)\n",
    "\n",
    "l=[]\n",
    "for k in s:\n",
    "    if(k in \"aeiouAEIOU\") and (k not in l):\n",
    "        print(\"count of\",k,\"=\",s.count(k))\n",
    "        l.append(k)\n",
    "        \n"
   ]
  },
  {
   "cell_type": "code",
   "execution_count": 33,
   "id": "a3736f55",
   "metadata": {},
   "outputs": [
    {
     "name": "stdout",
     "output_type": "stream",
     "text": [
      "1\n"
     ]
    }
   ],
   "source": [
    "print(10%9)"
   ]
  },
  {
   "cell_type": "code",
   "execution_count": 27,
   "id": "c7aad8b7",
   "metadata": {},
   "outputs": [
    {
     "name": "stdout",
     "output_type": "stream",
     "text": [
      "price_per_unit: 9\n"
     ]
    }
   ],
   "source": [
    "#using modulus operator\n",
    "\n",
    "total_cost = 2700\n",
    "quantity = 23\n",
    "print(\"price_per_unit:\",total_cost % quantity)\n"
   ]
  },
  {
   "cell_type": "code",
   "execution_count": 35,
   "id": "032c9af1",
   "metadata": {},
   "outputs": [
    {
     "name": "stdout",
     "output_type": "stream",
     "text": [
      "area_of_square: 400\n"
     ]
    }
   ],
   "source": [
    "#squaring value\n",
    "\n",
    "square_side = 20\n",
    "print(\"area_of_square:\",square_side**2)\n"
   ]
  },
  {
   "cell_type": "code",
   "execution_count": 36,
   "id": "01f2dc58",
   "metadata": {},
   "outputs": [
    {
     "name": "stdout",
     "output_type": "stream",
     "text": [
      "price_per_unit: 117\n"
     ]
    }
   ],
   "source": [
    "#floor division\n",
    "\n",
    "total_cost = 2700\n",
    "quantity = 23\n",
    "print(\"price_per_unit:\",total_cost // quantity)"
   ]
  },
  {
   "cell_type": "code",
   "execution_count": 37,
   "id": "b9e797a0",
   "metadata": {},
   "outputs": [
    {
     "name": "stdout",
     "output_type": "stream",
     "text": [
      "price_per_unit: 117.3913043478261\n"
     ]
    }
   ],
   "source": [
    "#division\n",
    "\n",
    "total_cost = 2700\n",
    "quantity = 23\n",
    "print(\"price_per_unit:\",total_cost / quantity)"
   ]
  },
  {
   "cell_type": "code",
   "execution_count": 38,
   "id": "6b9fe110",
   "metadata": {},
   "outputs": [
    {
     "name": "stdout",
     "output_type": "stream",
     "text": [
      "True\n"
     ]
    }
   ],
   "source": [
    "#membership operator[in]\n",
    "vowels = \"aeiou\"\n",
    "print(\"u\" in vowels)"
   ]
  },
  {
   "cell_type": "code",
   "execution_count": 39,
   "id": "660117a4",
   "metadata": {},
   "outputs": [
    {
     "name": "stdout",
     "output_type": "stream",
     "text": [
      "False\n"
     ]
    }
   ],
   "source": [
    "#membership operator[not in]\n",
    "vowels = \"aeiou\"\n",
    "print(\"u\" not in vowels)"
   ]
  },
  {
   "cell_type": "code",
   "execution_count": 41,
   "id": "64384008",
   "metadata": {},
   "outputs": [
    {
     "data": {
      "text/plain": [
       "15"
      ]
     },
     "execution_count": 41,
     "metadata": {},
     "output_type": "execute_result"
    }
   ],
   "source": [
    "#single line program using lambda function\n",
    "\n",
    "greater = lambda num1,num2: num1 if num1>num2 else num2\n",
    "greater(8,15)"
   ]
  },
  {
   "cell_type": "code",
   "execution_count": 42,
   "id": "8d8639f8",
   "metadata": {},
   "outputs": [
    {
     "data": {
      "text/plain": [
       "[1, 4, 9, 16, 25, 36, 49, 64, 81, 100]"
      ]
     },
     "execution_count": 42,
     "metadata": {},
     "output_type": "execute_result"
    }
   ],
   "source": [
    "#the output is often type casted into a seq type as follow:\n",
    "\n",
    "num_list = list(range(1,11))\n",
    "sq_list = list(map(lambda x: x**2,num_list))\n",
    "sq_list"
   ]
  },
  {
   "cell_type": "code",
   "execution_count": 4,
   "id": "b6fa4198",
   "metadata": {},
   "outputs": [
    {
     "data": {
      "text/plain": [
       "[]"
      ]
     },
     "execution_count": 4,
     "metadata": {},
     "output_type": "execute_result"
    }
   ],
   "source": [
    "#the output is often type casted into a seq type as follow:\n",
    "\n",
    "num_list = list(range(1,11))\n",
    "sq_list = list(filter(lambda x: x**2==45,num_list))\n",
    "sq_list"
   ]
  },
  {
   "cell_type": "code",
   "execution_count": 5,
   "id": "638de787",
   "metadata": {},
   "outputs": [
    {
     "data": {
      "text/plain": [
       "[9]"
      ]
     },
     "execution_count": 5,
     "metadata": {},
     "output_type": "execute_result"
    }
   ],
   "source": [
    "#the output is often type casted into a seq type as follow:\n",
    "\n",
    "num_list = list(range(1,11))\n",
    "sq_list = list(filter(lambda x: x*5==45,num_list))\n",
    "sq_list"
   ]
  },
  {
   "cell_type": "code",
   "execution_count": 62,
   "id": "05d9d6c6",
   "metadata": {},
   "outputs": [
    {
     "name": "stdout",
     "output_type": "stream",
     "text": [
      "x_and_y1.xlsx\n",
      "[0 1 2 3 4 5 6 7 8 9]\n",
      "10\n",
      "0 0 0\n",
      "1 1 5\n",
      "2 2 10\n",
      "3 3 15\n",
      "4 4 20\n",
      "5 5 25\n",
      "6 6 30\n",
      "7 7 35\n",
      "8 8 40\n",
      "9 9 45\n"
     ]
    }
   ],
   "source": [
    "#xl sheet\n",
    "\n",
    "import numpy as np\n",
    "import xlsxwriter\n",
    "import matplotlib.pyplot as plt\n",
    "\n",
    "\n",
    "xls_path='x_and_y1.xlsx'\n",
    "print(xls_path)\n",
    "workbook= xlsxwriter.Workbook(xls_path)    # file name\n",
    "\n",
    "worksheet=workbook.add_worksheet(\"batch1\") # sheet name\n",
    "\n",
    "worksheet.write(0,0,\"x\")                             # adding data\n",
    "worksheet.write(0,1,\"y2=5x\")\n",
    "worksheet.write(0,2,\"y2<=40\")\n",
    "worksheet.write(0,3,\"20<=y2<=40\")\n",
    "\n",
    "x=np.arange(0,10,1)\n",
    "print(x)\n",
    "print(len(x))\n",
    "y1=x\n",
    "y2=list(map(lambda x1:x1*5,x))\n",
    "\n",
    "for i in range(len(x)):\n",
    "    print(i,x[i],y2[i])\n",
    "    worksheet.write(i+1,0,x[i])\n",
    "    worksheet.write(i+1,1,y2[i])\n",
    "    if y2[i]<=40:\n",
    "        worksheet.write(i+1,2,y2[i])\n",
    "    else:\n",
    "        worksheet.write(i+1,2,\"NULL\")\n",
    "           \n",
    "    if y2[i]>=20 and y2[i]<=40:\n",
    "        worksheet.write(i+1,3,y2[i])\n",
    "    else:\n",
    "        worksheet.write(i+1,3,\"NULL\")\n",
    "   \n",
    " workbook.close()"
   ]
  },
  {
   "cell_type": "code",
   "execution_count": null,
   "id": "7a156670",
   "metadata": {},
   "outputs": [],
   "source": []
  }
 ],
 "metadata": {
  "kernelspec": {
   "display_name": "Python 3 (ipykernel)",
   "language": "python",
   "name": "python3"
  },
  "language_info": {
   "codemirror_mode": {
    "name": "ipython",
    "version": 3
   },
   "file_extension": ".py",
   "mimetype": "text/x-python",
   "name": "python",
   "nbconvert_exporter": "python",
   "pygments_lexer": "ipython3",
   "version": "3.9.7"
  }
 },
 "nbformat": 4,
 "nbformat_minor": 5
}
