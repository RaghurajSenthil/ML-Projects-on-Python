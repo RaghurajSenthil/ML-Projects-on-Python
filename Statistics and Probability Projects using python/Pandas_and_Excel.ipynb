{
 "cells": [
  {
   "cell_type": "code",
   "execution_count": 11,
   "id": "f93dd568",
   "metadata": {},
   "outputs": [
    {
     "name": "stdout",
     "output_type": "stream",
     "text": [
      "Requirement already satisfied: pandas in c:\\users\\dell\\anaconda3\\lib\\site-packages (1.3.4)\n",
      "Requirement already satisfied: python-dateutil>=2.7.3 in c:\\users\\dell\\anaconda3\\lib\\site-packages (from pandas) (2.8.2)\n",
      "Requirement already satisfied: numpy>=1.17.3 in c:\\users\\dell\\anaconda3\\lib\\site-packages (from pandas) (1.20.3)\n",
      "Requirement already satisfied: pytz>=2017.3 in c:\\users\\dell\\anaconda3\\lib\\site-packages (from pandas) (2021.3)\n",
      "Requirement already satisfied: six>=1.5 in c:\\users\\dell\\anaconda3\\lib\\site-packages (from python-dateutil>=2.7.3->pandas) (1.16.0)\n",
      "Note: you may need to restart the kernel to use updated packages.\n"
     ]
    }
   ],
   "source": [
    "pip install pandas"
   ]
  },
  {
   "cell_type": "code",
   "execution_count": 13,
   "id": "b9c771bc",
   "metadata": {},
   "outputs": [
    {
     "data": {
      "text/plain": [
       "0    19\n",
       "1    24\n",
       "2    30\n",
       "3    41\n",
       "4    53\n",
       "5    62\n",
       "dtype: int64"
      ]
     },
     "execution_count": 13,
     "metadata": {},
     "output_type": "execute_result"
    }
   ],
   "source": [
    "#create pandas series\n",
    "\n",
    "import pandas as pd\n",
    "age_series = pd.Series([19,24,30,41,53,62])\n",
    "age_series"
   ]
  },
  {
   "cell_type": "code",
   "execution_count": 16,
   "id": "2374ad1a",
   "metadata": {},
   "outputs": [
    {
     "data": {
      "text/plain": [
       "0    30\n",
       "1    52\n",
       "2    43\n",
       "3    40\n",
       "4    50\n",
       "5    60\n",
       "dtype: int32"
      ]
     },
     "execution_count": 16,
     "metadata": {},
     "output_type": "execute_result"
    }
   ],
   "source": [
    "#create pandas series usind numpy\n",
    "import pandas as pd\n",
    "import numpy as np\n",
    "age_series_np = pd.Series(np.array([30,52,43,40,50,60]))\n",
    "age_series_np"
   ]
  },
  {
   "cell_type": "code",
   "execution_count": 26,
   "id": "be12c26c",
   "metadata": {},
   "outputs": [
    {
     "data": {
      "text/plain": [
       "0     20000\n",
       "2     12000\n",
       "4     43000\n",
       "6     45000\n",
       "8     65000\n",
       "10    66000\n",
       "dtype: int32"
      ]
     },
     "execution_count": 26,
     "metadata": {},
     "output_type": "execute_result"
    }
   ],
   "source": [
    "#setting index values\n",
    "\n",
    "salary_series_index = pd.Series(np.array([20000,12000,43000,45000,65000,66000]),index=np.arange(0,12,2))#passing index parameter\n",
    "salary_series_index"
   ]
  },
  {
   "cell_type": "code",
   "execution_count": 25,
   "id": "e0c2fc83",
   "metadata": {},
   "outputs": [
    {
     "data": {
      "text/plain": [
       "20000"
      ]
     },
     "execution_count": 25,
     "metadata": {},
     "output_type": "execute_result"
    }
   ],
   "source": [
    "#setting index values\n",
    "\n",
    "salary_series_index = pd.Series(np.array([20000,12000,43000,45000,65000,66000]))\n",
    "salary_series_index[0]\n"
   ]
  },
  {
   "cell_type": "code",
   "execution_count": 23,
   "id": "8cff98f3",
   "metadata": {},
   "outputs": [
    {
     "data": {
      "text/plain": [
       "12000"
      ]
     },
     "execution_count": 23,
     "metadata": {},
     "output_type": "execute_result"
    }
   ],
   "source": [
    "#setting index values\n",
    "\n",
    "salary_series_index = pd.Series(np.array([20000,12000,43000,45000,65000,66000]),index=np.arange(0,12,2))\n",
    "salary_series_index[2]"
   ]
  },
  {
   "cell_type": "code",
   "execution_count": 29,
   "id": "651c94dc",
   "metadata": {},
   "outputs": [
    {
     "data": {
      "text/plain": [
       "A1    20000\n",
       "A2    12000\n",
       "A3    43000\n",
       "A4    45000\n",
       "A5    65000\n",
       "A6    66000\n",
       "dtype: int32"
      ]
     },
     "execution_count": 29,
     "metadata": {},
     "output_type": "execute_result"
    }
   ],
   "source": [
    "#index using strings\n",
    "import pandas as pd\n",
    "emp_series = pd.Series(np.array([20000,12000,43000,45000,65000,66000]),index=['A1','A2','A3','A4','A5','A6'])\n",
    "emp_series"
   ]
  },
  {
   "cell_type": "code",
   "execution_count": 30,
   "id": "4bed8e18",
   "metadata": {},
   "outputs": [
    {
     "data": {
      "text/plain": [
       "Dairy                    23000\n",
       "Soft Drinks              45000\n",
       "Fruits and Vegetables    67000\n",
       "dtype: int64"
      ]
     },
     "execution_count": 30,
     "metadata": {},
     "output_type": "execute_result"
    }
   ],
   "source": [
    "#using Dictionaries\n",
    "\n",
    "prod_dict = {'Dairy': 23000,'Soft Drinks':45000,'Fruits and Vegetables':67000}\n",
    "prod_series = pd.Series(prod_dict)\n",
    "prod_series"
   ]
  },
  {
   "cell_type": "code",
   "execution_count": 31,
   "id": "99a71551",
   "metadata": {},
   "outputs": [
    {
     "data": {
      "text/plain": [
       "X    [MATHS, SCIENCE, ENGLISH]\n",
       "Y             [MATHS, SCIENCE]\n",
       "Z                    [SCIENCE]\n",
       "dtype: object"
      ]
     },
     "execution_count": 31,
     "metadata": {},
     "output_type": "execute_result"
    }
   ],
   "source": [
    "#Acesssing series index and values\n",
    "\n",
    "classes_dict = {\"X\":[\"MATHS\",\"SCIENCE\",\"ENGLISH\"],\"Y\":[\"MATHS\",\"SCIENCE\"],\"Z\":[\"SCIENCE\"]}\n",
    "classes_series = pd.Series(classes_dict)\n",
    "classes_series"
   ]
  },
  {
   "cell_type": "code",
   "execution_count": 32,
   "id": "04bef70c",
   "metadata": {},
   "outputs": [
    {
     "data": {
      "text/plain": [
       "Index(['X', 'Y', 'Z'], dtype='object')"
      ]
     },
     "execution_count": 32,
     "metadata": {},
     "output_type": "execute_result"
    }
   ],
   "source": [
    "#Acesssing series index and values(finding index)\n",
    "\n",
    "classes_dict = {\"X\":[\"MATHS\",\"SCIENCE\",\"ENGLISH\"],\"Y\":[\"MATHS\",\"SCIENCE\"],\"Z\":[\"SCIENCE\"]}\n",
    "classes_series = pd.Series(classes_dict)\n",
    "classes_series.index"
   ]
  },
  {
   "cell_type": "code",
   "execution_count": 34,
   "id": "603ca1b7",
   "metadata": {},
   "outputs": [
    {
     "data": {
      "text/plain": [
       "array([list(['MATHS', 'SCIENCE', 'ENGLISH']), list(['MATHS', 'SCIENCE']),\n",
       "       list(['SCIENCE'])], dtype=object)"
      ]
     },
     "execution_count": 34,
     "metadata": {},
     "output_type": "execute_result"
    }
   ],
   "source": [
    "#Acesssing series index and values(finding valus)\n",
    "\n",
    "classes_dict = {\"X\":[\"MATHS\",\"SCIENCE\",\"ENGLISH\"],\"Y\":[\"MATHS\",\"SCIENCE\"],\"Z\":[\"SCIENCE\"]}\n",
    "classes_series = pd.Series(classes_dict)\n",
    "classes_series.values"
   ]
  },
  {
   "cell_type": "code",
   "execution_count": 38,
   "id": "319b9d53",
   "metadata": {},
   "outputs": [
    {
     "name": "stdout",
     "output_type": "stream",
     "text": [
      "0    A101\n",
      "1    A102\n",
      "2    A103\n",
      "3    B101\n",
      "4    B102\n",
      "dtype: object\n"
     ]
    }
   ],
   "source": [
    "#accessing elements\n",
    "\n",
    "emp_array = np.array(['A101','A102','A103','B101','B102','B103','C101','C102','C103'])\n",
    "emp_id_series = pd.Series(emp_array)\n",
    "print(emp_id_series[:5])"
   ]
  },
  {
   "cell_type": "code",
   "execution_count": 39,
   "id": "d581da5d",
   "metadata": {},
   "outputs": [
    {
     "name": "stdout",
     "output_type": "stream",
     "text": [
      "4    B102\n",
      "5    B103\n",
      "6    C101\n",
      "7    C102\n",
      "8    C103\n",
      "dtype: object\n"
     ]
    }
   ],
   "source": [
    "#accessing elements(Reverse)\n",
    "\n",
    "emp_array = np.array(['A101','A102','A103','B101','B102','B103','C101','C102','C103'])\n",
    "emp_id_series = pd.Series(emp_array)\n",
    "print(emp_id_series[-5:])"
   ]
  },
  {
   "cell_type": "code",
   "execution_count": 40,
   "id": "c1b264b8",
   "metadata": {},
   "outputs": [
    {
     "name": "stdout",
     "output_type": "stream",
     "text": [
      "X    [MATHS, SCIENCE, ENGLISH]\n",
      "Y             [MATHS, SCIENCE]\n",
      "Z                    [SCIENCE]\n",
      "dtype: object\n",
      "\n",
      " ['MATHS', 'SCIENCE', 'ENGLISH']\n"
     ]
    }
   ],
   "source": [
    "#Acesssing series elements\n",
    "\n",
    "classes_dict = {\"X\":[\"MATHS\",\"SCIENCE\",\"ENGLISH\"],\"Y\":[\"MATHS\",\"SCIENCE\"],\"Z\":[\"SCIENCE\"]}\n",
    "classes_series = pd.Series(classes_dict)\n",
    "print(classes_series)\n",
    "print(\"\\n\",classes_series['X'])\n"
   ]
  },
  {
   "cell_type": "code",
   "execution_count": 41,
   "id": "32cf24a9",
   "metadata": {},
   "outputs": [
    {
     "name": "stdout",
     "output_type": "stream",
     "text": [
      "X    [MATHS, SCIENCE, ENGLISH]\n",
      "Y             [MATHS, SCIENCE]\n",
      "dtype: object\n"
     ]
    }
   ],
   "source": [
    "classes_dict = {\"X\":[\"MATHS\",\"SCIENCE\",\"ENGLISH\"],\"Y\":[\"MATHS\",\"SCIENCE\"],\"Z\":[\"SCIENCE\"]}\n",
    "classes_series = pd.Series(classes_dict)\n",
    "classes_series\n",
    "print(classes_series[['X','Y']])"
   ]
  },
  {
   "cell_type": "code",
   "execution_count": 43,
   "id": "b75e08ba",
   "metadata": {},
   "outputs": [
    {
     "data": {
      "text/plain": [
       "Sophia     450\n",
       "Mia        313\n",
       "William    414\n",
       "dtype: int32"
      ]
     },
     "execution_count": 43,
     "metadata": {},
     "output_type": "execute_result"
    }
   ],
   "source": [
    "#filter the values\n",
    "\n",
    "student_series = pd.Series(np.array([450,129,313,414,215,116]),index = ['Sophia','Emma','Mia','William','Lily','Grace'])\n",
    "student_series[student_series > 300]"
   ]
  },
  {
   "cell_type": "code",
   "execution_count": 44,
   "id": "a828907f",
   "metadata": {},
   "outputs": [
    {
     "data": {
      "text/plain": [
       "Sophia     450\n",
       "Emma       129\n",
       "Mia        313\n",
       "William    414\n",
       "Lily       215\n",
       "Grace      116\n",
       "dtype: int32"
      ]
     },
     "execution_count": 44,
     "metadata": {},
     "output_type": "execute_result"
    }
   ],
   "source": [
    "#filter the values\n",
    "\n",
    "student_series = pd.Series(np.array([450,129,313,414,215,116]),index = ['Sophia','Emma','Mia','William','Lily','Grace'])\n",
    "student_series[student_series > 100]"
   ]
  },
  {
   "cell_type": "code",
   "execution_count": 45,
   "id": "03c9fab5",
   "metadata": {},
   "outputs": [
    {
     "data": {
      "text/plain": [
       "Series([], dtype: int32)"
      ]
     },
     "execution_count": 45,
     "metadata": {},
     "output_type": "execute_result"
    }
   ],
   "source": [
    "#filter the values\n",
    "\n",
    "student_series = pd.Series(np.array([450,129,313,414,215,116]),index = ['Sophia','Emma','Mia','William','Lily','Grace'])\n",
    "student_series[student_series > 500]"
   ]
  },
  {
   "cell_type": "code",
   "execution_count": 46,
   "id": "6174e30b",
   "metadata": {},
   "outputs": [
    {
     "data": {
      "text/plain": [
       "0    2400\n",
       "1    6504\n",
       "2    4466\n",
       "dtype: int32"
      ]
     },
     "execution_count": 46,
     "metadata": {},
     "output_type": "execute_result"
    }
   ],
   "source": [
    "#arithmetic operation\n",
    "\n",
    "sales_array = np.array([1200,3252,2233])\n",
    "sales_series = pd.Series(sales_array)\n",
    "sales_series*2"
   ]
  },
  {
   "cell_type": "code",
   "execution_count": 47,
   "id": "b092bf4b",
   "metadata": {},
   "outputs": [
    {
     "name": "stdout",
     "output_type": "stream",
     "text": [
      "0    276\n",
      "1    645\n",
      "2    578\n",
      "dtype: int64\n"
     ]
    }
   ],
   "source": [
    "#create two series\n",
    "MRP_series = pd.Series([12,15,17])\n",
    "sales_series = pd.Series([23,43,34])\n",
    "total_amt_series = MRP_series.multiply(sales_series)\n",
    "print(total_amt_series)"
   ]
  },
  {
   "cell_type": "code",
   "execution_count": 48,
   "id": "8b5651eb",
   "metadata": {},
   "outputs": [
    {
     "data": {
      "text/plain": [
       "0    158\n",
       "1    154\n",
       "2    176\n",
       "dtype: int32"
      ]
     },
     "execution_count": 48,
     "metadata": {},
     "output_type": "execute_result"
    }
   ],
   "source": [
    "#create two arrays\n",
    "\n",
    "english_array = np.array([67,82,93])\n",
    "english_series = pd.Series(english_array)\n",
    "maths_array = np.array([91,72,83])\n",
    "maths_series = pd.Series(maths_array)\n",
    "total_marks =english_series+maths_series\n",
    "total_marks"
   ]
  },
  {
   "cell_type": "code",
   "execution_count": 51,
   "id": "da9f4fe6",
   "metadata": {},
   "outputs": [
    {
     "data": {
      "text/plain": [
       "0     5.0\n",
       "1     7.0\n",
       "2     6.0\n",
       "3     8.0\n",
       "4     1.0\n",
       "5     2.0\n",
       "6    10.0\n",
       "7     3.0\n",
       "8     9.0\n",
       "9     4.0\n",
       "dtype: float64"
      ]
     },
     "execution_count": 51,
     "metadata": {},
     "output_type": "execute_result"
    }
   ],
   "source": [
    "#ranking series\n",
    "\n",
    "score_array = np.array([121,212,153,214,115,116,237,118,219,120])\n",
    "score_series = pd.Series(score_array)\n",
    "score_series.rank()"
   ]
  },
  {
   "cell_type": "code",
   "execution_count": 52,
   "id": "86fedd38",
   "metadata": {},
   "outputs": [
    {
     "data": {
      "text/plain": [
       "6    2155.0\n",
       "0    2223.0\n",
       "9    3210.0\n",
       "8    3314.0\n",
       "3    3411.0\n",
       "1    3445.0\n",
       "4    6223.0\n",
       "5    8334.0\n",
       "2       NaN\n",
       "7       NaN\n",
       "dtype: float64"
      ]
     },
     "execution_count": 52,
     "metadata": {},
     "output_type": "execute_result"
    }
   ],
   "source": [
    "#create a panda series\n",
    "\n",
    "sales_series = pd.Series([2223,3445,np.nan,3411,6223,8334,2155,np.nan,3314,3210])\n",
    "sales_series.sort_values(ascending = True,na_position = 'last')"
   ]
  },
  {
   "cell_type": "code",
   "execution_count": 55,
   "id": "26c410bc",
   "metadata": {},
   "outputs": [
    {
     "data": {
      "text/plain": [
       "2       NaN\n",
       "7       NaN\n",
       "6    2155.0\n",
       "0    2223.0\n",
       "9    3210.0\n",
       "8    3314.0\n",
       "3    3411.0\n",
       "1    3445.0\n",
       "4    6223.0\n",
       "5    8334.0\n",
       "dtype: float64"
      ]
     },
     "execution_count": 55,
     "metadata": {},
     "output_type": "execute_result"
    }
   ],
   "source": [
    "#create a panda series\n",
    "\n",
    "sales_series = pd.Series([2223,3445,np.nan,3411,6223,8334,2155,np.nan,3314,3210])\n",
    "sales_series.sort_values(ascending = True,na_position = 'first')"
   ]
  },
  {
   "cell_type": "code",
   "execution_count": 56,
   "id": "327f1b32",
   "metadata": {},
   "outputs": [
    {
     "data": {
      "text/plain": [
       "2       NaN\n",
       "7       NaN\n",
       "6    2155.0\n",
       "0    2223.0\n",
       "9    3210.0\n",
       "8    3314.0\n",
       "3    3411.0\n",
       "1    3445.0\n",
       "4    6223.0\n",
       "5    8334.0\n",
       "dtype: float64"
      ]
     },
     "execution_count": 56,
     "metadata": {},
     "output_type": "execute_result"
    }
   ],
   "source": [
    "#create a panda series\n",
    "\n",
    "sales_series = pd.Series([2223,3445,np.nan,3411,6223,8334,2155,np.nan,3314,3210])\n",
    "sales_series.sort_values(ascending = True,na_position = 'first')"
   ]
  },
  {
   "cell_type": "code",
   "execution_count": 60,
   "id": "171ed355",
   "metadata": {},
   "outputs": [
    {
     "data": {
      "text/plain": [
       "0      0.0\n",
       "1      2.0\n",
       "2      4.0\n",
       "3      6.0\n",
       "4      8.0\n",
       "5     10.0\n",
       "6     12.0\n",
       "7     14.0\n",
       "8     16.0\n",
       "9     18.0\n",
       "10    20.0\n",
       "0      1.0\n",
       "1      3.0\n",
       "2      5.0\n",
       "3      7.0\n",
       "4      9.0\n",
       "5     11.0\n",
       "6     13.0\n",
       "7     15.0\n",
       "8     17.0\n",
       "9     19.0\n",
       "10    21.0\n",
       "dtype: float64"
      ]
     },
     "execution_count": 60,
     "metadata": {},
     "output_type": "execute_result"
    }
   ],
   "source": [
    "#concatenate using concat()\n",
    "\n",
    "class1 = np.linspace(start=0,stop=20,num=11)\n",
    "class2 = np.linspace(start=1,stop=21,num=11)\n",
    "class1_series = pd.Series(data=class1)\n",
    "class2_series = pd.Series(data=class2)\n",
    "pd.concat([class1_series,class2_series])"
   ]
  },
  {
   "cell_type": "code",
   "execution_count": 61,
   "id": "48fbb9e7",
   "metadata": {},
   "outputs": [
    {
     "data": {
      "text/plain": [
       "Category  Index\n",
       "Even      0         0.0\n",
       "          1         2.0\n",
       "          2         4.0\n",
       "          3         6.0\n",
       "          4         8.0\n",
       "          5        10.0\n",
       "          6        12.0\n",
       "          7        14.0\n",
       "          8        16.0\n",
       "          9        18.0\n",
       "          10       20.0\n",
       "odd       0         1.0\n",
       "          1         3.0\n",
       "          2         5.0\n",
       "          3         7.0\n",
       "          4         9.0\n",
       "          5        11.0\n",
       "          6        13.0\n",
       "          7        15.0\n",
       "          8        17.0\n",
       "          9        19.0\n",
       "          10       21.0\n",
       "dtype: float64"
      ]
     },
     "execution_count": 61,
     "metadata": {},
     "output_type": "execute_result"
    }
   ],
   "source": [
    "#concatenate using concat()\n",
    "\n",
    "class1 = np.linspace(start=0,stop=20,num=11)\n",
    "class2 = np.linspace(start=1,stop=21,num=11)\n",
    "\n",
    "\n",
    "class1_series = pd.Series(data=class1)\n",
    "class2_series = pd.Series(data=class2)\n",
    "\n",
    "\n",
    "\n",
    "#adding a hierrachical index\n",
    "pd.concat([class1_series,class2_series],keys=['Even','odd'],names=['Category','Index'])\n"
   ]
  },
  {
   "cell_type": "code",
   "execution_count": 62,
   "id": "51b5aa32",
   "metadata": {},
   "outputs": [
    {
     "data": {
      "text/plain": [
       "0      0.0\n",
       "1      2.0\n",
       "2      4.0\n",
       "3      6.0\n",
       "4      8.0\n",
       "5     10.0\n",
       "6     12.0\n",
       "7     14.0\n",
       "8     16.0\n",
       "9     18.0\n",
       "10    20.0\n",
       "0      1.0\n",
       "1      3.0\n",
       "2      5.0\n",
       "3      7.0\n",
       "4      9.0\n",
       "5     11.0\n",
       "6     13.0\n",
       "7     15.0\n",
       "8     17.0\n",
       "9     19.0\n",
       "10    21.0\n",
       "dtype: float64"
      ]
     },
     "execution_count": 62,
     "metadata": {},
     "output_type": "execute_result"
    }
   ],
   "source": [
    "#append function for above program\n",
    "class1_series.append(class2_series)"
   ]
  },
  {
   "cell_type": "code",
   "execution_count": 64,
   "id": "3669d4ab",
   "metadata": {},
   "outputs": [
    {
     "data": {
      "text/plain": [
       "0      0.0\n",
       "1      2.0\n",
       "2      4.0\n",
       "3      6.0\n",
       "4      8.0\n",
       "5     10.0\n",
       "6     12.0\n",
       "7     14.0\n",
       "8     16.0\n",
       "9     18.0\n",
       "10    20.0\n",
       "0      1.0\n",
       "1      3.0\n",
       "2      5.0\n",
       "3      7.0\n",
       "4      9.0\n",
       "5     11.0\n",
       "6     13.0\n",
       "7     15.0\n",
       "8     17.0\n",
       "9     19.0\n",
       "10    21.0\n",
       "dtype: float64"
      ]
     },
     "execution_count": 64,
     "metadata": {},
     "output_type": "execute_result"
    }
   ],
   "source": [
    "#append function for above program(IGNORING THE INDEX)\n",
    "\n",
    "class1_series.append(class2_series,ignore_index = True)\n",
    "class1_series.append(class2_series,ignore_index = False)"
   ]
  },
  {
   "cell_type": "code",
   "execution_count": 66,
   "id": "9096e639",
   "metadata": {},
   "outputs": [
    {
     "name": "stdout",
     "output_type": "stream",
     "text": [
      "                  0\n",
      "0            Python\n",
      "1          Big Data\n",
      "2                 R\n",
      "3  Machine Learning\n"
     ]
    }
   ],
   "source": [
    "#list of strings\n",
    "\n",
    "data_science =['Python','Big Data','R','Machine Learning']\n",
    "df = pd.DataFrame(data_science)\n",
    "print(df)"
   ]
  },
  {
   "cell_type": "code",
   "execution_count": 67,
   "id": "b1c4144c",
   "metadata": {},
   "outputs": [
    {
     "data": {
      "text/html": [
       "<div>\n",
       "<style scoped>\n",
       "    .dataframe tbody tr th:only-of-type {\n",
       "        vertical-align: middle;\n",
       "    }\n",
       "\n",
       "    .dataframe tbody tr th {\n",
       "        vertical-align: top;\n",
       "    }\n",
       "\n",
       "    .dataframe thead th {\n",
       "        text-align: right;\n",
       "    }\n",
       "</style>\n",
       "<table border=\"1\" class=\"dataframe\">\n",
       "  <thead>\n",
       "    <tr style=\"text-align: right;\">\n",
       "      <th></th>\n",
       "      <th>Store</th>\n",
       "      <th>Sales</th>\n",
       "    </tr>\n",
       "  </thead>\n",
       "  <tbody>\n",
       "    <tr>\n",
       "      <th>0</th>\n",
       "      <td>Vivo</td>\n",
       "      <td>30000</td>\n",
       "    </tr>\n",
       "    <tr>\n",
       "      <th>1</th>\n",
       "      <td>Oppo</td>\n",
       "      <td>40000</td>\n",
       "    </tr>\n",
       "    <tr>\n",
       "      <th>2</th>\n",
       "      <td>Samsung</td>\n",
       "      <td>78000</td>\n",
       "    </tr>\n",
       "    <tr>\n",
       "      <th>3</th>\n",
       "      <td>Apple</td>\n",
       "      <td>20000</td>\n",
       "    </tr>\n",
       "  </tbody>\n",
       "</table>\n",
       "</div>"
      ],
      "text/plain": [
       "     Store  Sales\n",
       "0     Vivo  30000\n",
       "1     Oppo  40000\n",
       "2  Samsung  78000\n",
       "3    Apple  20000"
      ]
     },
     "execution_count": 67,
     "metadata": {},
     "output_type": "execute_result"
    }
   ],
   "source": [
    "#creating a dataframe from list of list\n",
    "\n",
    "store_list = [['Vivo',30000],['Oppo',40000],['Samsung',78000],['Apple',20000]]\n",
    "df=pd.DataFrame(store_list,columns=['Store','Sales'])\n",
    "df\n"
   ]
  },
  {
   "cell_type": "code",
   "execution_count": 91,
   "id": "53ca2b47",
   "metadata": {},
   "outputs": [
    {
     "name": "stdout",
     "output_type": "stream",
     "text": [
      "      x  F(x)=SINE  y=mx\n",
      "0   0.0   0.000000   0.0\n",
      "1   0.1   0.499167   0.2\n",
      "2   0.2   0.993347   0.4\n",
      "3   0.3   1.477601   0.6\n",
      "4   0.4   1.947092   0.8\n",
      "..  ...        ...   ...\n",
      "95  9.5  -0.375756  19.0\n",
      "96  9.6  -0.871634  19.2\n",
      "97  9.7  -1.358803  19.4\n",
      "98  9.8  -1.832396  19.6\n",
      "99  9.9  -2.287679  19.8\n",
      "\n",
      "[100 rows x 3 columns]\n"
     ]
    },
    {
     "data": {
      "text/plain": [
       "[<matplotlib.lines.Line2D at 0x1a44d37a190>]"
      ]
     },
     "execution_count": 91,
     "metadata": {},
     "output_type": "execute_result"
    },
    {
     "data": {
      "image/png": "[encoded data removed]",
      "text/plain": [
       "<Figure size 432x288 with 1 Axes>"
      ]
     },
     "metadata": {
      "needs_background": "light"
     },
     "output_type": "display_data"
    }
   ],
   "source": [
    "import numpy as np\n",
    "import matplotlib.pyplot as plt\n",
    "import pandas as pd\n",
    "xls_path='Raj.xlsx'\n",
    "df_1=pd.read_excel(xls_path)\n",
    "print(df_1)\n",
    "#df_1=df_1.fillna('')\n",
    "df_x=df_1['x'].to_list()\n",
    "df_sine=df_1['F(x)=SINE'].to_list()\n",
    "df_y=df_1['y=mx'].to_list()\n",
    "plt.plot(df_x,df_sine)\n",
    "\n"
   ]
  },
  {
   "cell_type": "code",
   "execution_count": 5,
   "id": "c7a4e3e3",
   "metadata": {},
   "outputs": [
    {
     "name": "stdout",
     "output_type": "stream",
     "text": [
      "sine7.xlsx\n",
      "[0.  0.1 0.2 0.3 0.4 0.5 0.6 0.7 0.8 0.9 1.  1.1 1.2 1.3 1.4 1.5 1.6 1.7\n",
      " 1.8 1.9 2.  2.1 2.2 2.3 2.4 2.5 2.6 2.7 2.8 2.9 3.  3.1 3.2 3.3 3.4 3.5\n",
      " 3.6 3.7 3.8 3.9 4.  4.1 4.2 4.3 4.4 4.5 4.6 4.7 4.8 4.9 5.  5.1 5.2 5.3\n",
      " 5.4 5.5 5.6 5.7 5.8 5.9 6.  6.1 6.2 6.3 6.4 6.5 6.6 6.7 6.8 6.9 7.  7.1\n",
      " 7.2 7.3 7.4 7.5 7.6 7.7 7.8 7.9 8.  8.1 8.2 8.3 8.4 8.5 8.6 8.7 8.8 8.9\n",
      " 9.  9.1 9.2 9.3 9.4 9.5 9.6 9.7 9.8 9.9]\n",
      "100\n",
      "0 0.0 0.0\n",
      "1 0.1 0.4991670832341408\n",
      "2 0.2 0.9933466539753061\n",
      "3 0.30000000000000004 1.477601033306698\n",
      "4 0.4 1.9470917115432527\n",
      "5 0.5 2.397127693021015\n",
      "6 0.6000000000000001 2.823212366975177\n",
      "7 0.7000000000000001 3.2210884361884555\n",
      "8 0.8 3.586780454497614\n",
      "9 0.9 3.916634548137417\n",
      "10 1.0 4.207354924039483\n",
      "11 1.1 4.456036800307177\n",
      "12 1.2000000000000002 4.660195429836132\n",
      "13 1.3 4.817790927085965\n",
      "14 1.4000000000000001 4.927248649942301\n",
      "15 1.5 4.987474933020272\n",
      "16 1.6 4.997868015207525\n",
      "17 1.7000000000000002 4.958324052262343\n",
      "18 1.8 4.869238154390976\n",
      "19 1.9000000000000001 4.731500438437072\n",
      "20 2.0 4.546487134128409\n",
      "21 2.1 4.316046833244369\n",
      "22 2.2 4.0424820190979505\n",
      "23 2.3000000000000003 3.7285260608836\n",
      "24 2.4000000000000004 3.377315902755753\n",
      "25 2.5 2.992360720519782\n",
      "26 2.6 2.577506859107321\n",
      "27 2.7 2.136899401169149\n",
      "28 2.8000000000000003 1.6749407507795233\n",
      "29 2.9000000000000004 1.19624664606991\n",
      "30 3.0 0.7056000402993361\n",
      "31 3.1 0.20790331216645247\n",
      "32 3.2 -0.2918707171379004\n",
      "33 3.3000000000000003 -0.7887284707162433\n",
      "34 3.4000000000000004 -1.2777055101341583\n",
      "35 3.5 -1.7539161384480992\n",
      "36 3.6 -2.2126022164742625\n",
      "37 3.7 -2.649180704542467\n",
      "38 3.8000000000000003 -3.0592894547135963\n",
      "39 3.9000000000000004 -3.4388307959198707\n",
      "40 4.0 -3.7840124765396412\n",
      "41 4.1000000000000005 -4.091385555322054\n",
      "42 4.2 -4.357878862067941\n",
      "43 4.3 -4.580829683747274\n",
      "44 4.4 -4.758010369447581\n",
      "45 4.5 -4.887650588325485\n",
      "46 4.6000000000000005 -4.968455018167322\n",
      "47 4.7 -4.999616287820504\n",
      "48 4.800000000000001 -4.9808230441792025\n",
      "49 4.9 -4.912263063121662\n",
      "50 5.0 -4.794621373315692\n",
      "51 5.1000000000000005 -4.629073411638661\n",
      "52 5.2 -4.417273278600765\n",
      "53 5.300000000000001 -4.161337211119504\n",
      "54 5.4 -3.8638224377799357\n",
      "55 5.5 -3.5277016278519597\n",
      "56 5.6000000000000005 -3.1563331893616042\n",
      "57 5.7 -2.753427712988188\n",
      "58 5.800000000000001 -2.323010897068783\n",
      "59 5.9 -1.8693833241511801\n",
      "60 6.0 -1.3970774909946293\n",
      "61 6.1000000000000005 -0.9108125213604751\n",
      "62 6.2 -0.41544701408748197\n",
      "63 6.300000000000001 0.08406950242175301\n",
      "64 6.4 0.5827460242524682\n",
      "65 6.5 1.0755999404390777\n",
      "66 6.6000000000000005 1.5577068175668933\n",
      "67 6.7 2.0242496030829917\n",
      "68 6.800000000000001 2.470566755693045\n",
      "69 6.9 2.8921988219410006\n",
      "70 7.0 3.2849329935939453\n",
      "71 7.1000000000000005 3.6448452006293826\n",
      "72 7.2 3.9683393192457657\n",
      "73 7.300000000000001 4.2521831031428245\n",
      "74 7.4 4.493540479058135\n",
      "75 7.5 4.6899998838736945\n",
      "76 7.6000000000000005 4.839598360157432\n",
      "77 7.7 4.940841169385002\n",
      "78 7.800000000000001 4.992716726873025\n",
      "79 7.9 4.99470670919886\n",
      "80 8.0 4.946791233116909\n",
      "81 8.1 4.849449054225431\n",
      "82 8.200000000000001 4.703652783398863\n",
      "83 8.3 4.510859168781466\n",
      "84 8.4 4.2729945404414025\n",
      "85 8.5 3.9924355631174513\n",
      "86 8.6 3.6719854893705666\n",
      "87 8.700000000000001 3.31484615041091\n",
      "88 8.8 2.9245859644588084\n",
      "89 8.9 2.505104282289423\n",
      "90 9.0 2.060592426208783\n",
      "91 9.1 1.5954918117467607\n",
      "92 9.200000000000001 1.1144495705012296\n",
      "93 9.3 0.6222721175353085\n",
      "94 9.4 0.12387712726678882\n",
      "95 9.5 -0.3757556023090465\n",
      "96 9.600000000000001 -0.871633906114907\n",
      "97 9.700000000000001 -1.358803132054721\n",
      "98 9.8 -1.8323956462596418\n",
      "99 9.9 -2.2876794688766067\n"
     ]
    }
   ],
   "source": [
    "# using xl sheet\n",
    "\n",
    "import xlsxwriter\n",
    "import numpy as np\n",
    "import matplotlib.pyplot as plt\n",
    "\n",
    "xls_path='sine7.xlsx'\n",
    "print(xls_path)\n",
    "workbook= xlsxwriter.Workbook(xls_path)    # file name\n",
    "\n",
    "worksheet=workbook.add_worksheet(\"batch2\") # sheet name\n",
    "\n",
    "worksheet.write(0,0,\"x\")                   \n",
    "worksheet.write(0,1,\"F(x)= SINE\")          # adding data\n",
    "worksheet.write(0,2,\"y=mx\")\n",
    "\n",
    "\n",
    "\n",
    "x=np.arange(0,10,0.1);\n",
    "sinus=5*np.sin(x)\n",
    "y=2*x\n",
    "print(x)\n",
    "print(len(x))\n",
    "\n",
    "for i in range(len(x)):\n",
    "    print(i,x[i],sinus[i])\n",
    "    worksheet.write(i+1,0,x[i])\n",
    "    worksheet.write(i+1,1,sinus[i])\n",
    "    worksheet.write(i+1,2,y[i])\n",
    "\n",
    "workbook.close()"
   ]
  },
  {
   "cell_type": "code",
   "execution_count": 4,
   "id": "91796808",
   "metadata": {},
   "outputs": [
    {
     "data": {
      "text/html": [
       "<div>\n",
       "<style scoped>\n",
       "    .dataframe tbody tr th:only-of-type {\n",
       "        vertical-align: middle;\n",
       "    }\n",
       "\n",
       "    .dataframe tbody tr th {\n",
       "        vertical-align: top;\n",
       "    }\n",
       "\n",
       "    .dataframe thead th {\n",
       "        text-align: right;\n",
       "    }\n",
       "</style>\n",
       "<table border=\"1\" class=\"dataframe\">\n",
       "  <thead>\n",
       "    <tr style=\"text-align: right;\">\n",
       "      <th></th>\n",
       "      <th>Store</th>\n",
       "      <th>Sales</th>\n",
       "    </tr>\n",
       "  </thead>\n",
       "  <tbody>\n",
       "    <tr>\n",
       "      <th>0</th>\n",
       "      <td>Vivo</td>\n",
       "      <td>30000</td>\n",
       "    </tr>\n",
       "    <tr>\n",
       "      <th>1</th>\n",
       "      <td>Oppo</td>\n",
       "      <td>40000</td>\n",
       "    </tr>\n",
       "    <tr>\n",
       "      <th>2</th>\n",
       "      <td>Samsung</td>\n",
       "      <td>78000</td>\n",
       "    </tr>\n",
       "    <tr>\n",
       "      <th>3</th>\n",
       "      <td>Apple</td>\n",
       "      <td>20000</td>\n",
       "    </tr>\n",
       "  </tbody>\n",
       "</table>\n",
       "</div>"
      ],
      "text/plain": [
       "     Store  Sales\n",
       "0     Vivo  30000\n",
       "1     Oppo  40000\n",
       "2  Samsung  78000\n",
       "3    Apple  20000"
      ]
     },
     "execution_count": 4,
     "metadata": {},
     "output_type": "execute_result"
    }
   ],
   "source": [
    "# creating a dataframe from a list of list\n",
    "\n",
    "store_list=[['Vivo',30000],['Oppo',40000],['Samsung',78000],['Apple',20000]]\n",
    "df=pd.DataFrame(store_list,columns=['Store','Sales'])\n",
    "df.head()"
   ]
  },
  {
   "cell_type": "code",
   "execution_count": 3,
   "id": "0fd3f38e",
   "metadata": {},
   "outputs": [
    {
     "name": "stdout",
     "output_type": "stream",
     "text": [
      "Name found at Index  : 71\n",
      "Name                 : KANNAN G\n",
      "Room no.             : S436\n",
      "No. of Days Mess Bill: 31 Days\n",
      "\n",
      "Name found at Index  : 72\n",
      "Name                 : KANNAN V\n",
      "Room no.             : S413\n",
      "No. of Days Mess Bill: 31 Days\n",
      "\n",
      "Name found at Index  : 137\n",
      "Name                 : MUGESH KANNAN .V \n",
      "Room no.             : S401\n",
      "No. of Days Mess Bill: 13 Days\n",
      "\n",
      "Name found at Index  : 300\n",
      "Name                 : BHARATHI KANNAN M\n",
      "Room no.             : S015\n",
      "No. of Days Mess Bill: 31 Days\n",
      "\n",
      "Name found at Index  : 488\n",
      "Name                 : KANNAN M\n",
      "Room no.             : E204\n",
      "No. of Days Mess Bill: 31 Days\n",
      "\n",
      "Name found at Index  : 550\n",
      "Name                 : BHARATHIKANNAN S\n",
      "Room no.             : S222\n",
      "No. of Days Mess Bill: 31 Days\n",
      "\n",
      "Name found at Index  : 838\n",
      "Name                 : GOKUL KANNAN P\n",
      "Room no.             : N112\n",
      "No. of Days Mess Bill: 31 Days\n",
      "\n"
     ]
    }
   ],
   "source": [
    "# collecting data using xl sheet\n",
    "\n",
    "import xlsxwriter\n",
    "\n",
    "xls_path1='hostal.xlsx'\n",
    "xls_path2='hostal1.xlsx'\n",
    "\n",
    "d_1=pd.read_excel(xls_path1)\n",
    "d_2=pd.read_excel(xls_path2)\n",
    "\n",
    "df1=d_1[\"Student Name\"].to_list()\n",
    "df2=d_2[\"Student Name\"].to_list()\n",
    "\n",
    "x='KANNAN'\n",
    "\n",
    "for i in df1:\n",
    "    if x in str(i):\n",
    "        r=df2.index(i)\n",
    "        print(\"Name found at Index  :\",r)\n",
    "        print(\"Name                 :\",i)\n",
    "        print(\"Room no.             :\",d_2.iloc[r]['Room No.'])\n",
    "        print(\"No. of Days Mess Bill:\",d_2.iloc[r]['No  of Days Mess Bill'])\n",
    "        print()"
   ]
  },
  {
   "cell_type": "code",
   "execution_count": 2,
   "id": "27104b0c",
   "metadata": {},
   "outputs": [
    {
     "name": "stdout",
     "output_type": "stream",
     "text": [
      "Name found\n",
      "index: 8\n",
      "Room no.: S006(STAFF ROOM)\n",
      "No. of Days Mess Bill: 31 Days\n"
     ]
    }
   ],
   "source": [
    "# using xl sheet\n",
    "\n",
    "import xlsxwriter\n",
    "import pandas as pd\n",
    "xls_path='hostal1.xlsx'\n",
    "df_1=pd.read_excel(xls_path) \n",
    "\n",
    "df_4=df_1[\"Student Name\"].to_list()\n",
    "\n",
    "x='UMAPATHI K (EEE)'\n",
    "\n",
    "\n",
    "if x in df_4:\n",
    "    print(\"Name found\")\n",
    "    r=df_4.index(x)\n",
    "    print(\"index:\",r)\n",
    "    print(\"Room no.:\",df_1.iloc[r]['Room No.'])\n",
    "    print(\"No. of Days Mess Bill:\",df_1.iloc[r]['No  of Days Mess Bill'])"
   ]
  },
  {
   "cell_type": "code",
   "execution_count": 6,
   "id": "f8de291b",
   "metadata": {},
   "outputs": [
    {
     "name": "stdout",
     "output_type": "stream",
     "text": [
      "28\n",
      "True\n"
     ]
    },
    {
     "ename": "ValueError",
     "evalue": "could not convert string to float: ''",
     "output_type": "error",
     "traceback": [
      "\u001b[1;31m---------------------------------------------------------------------------\u001b[0m",
      "\u001b[1;31mValueError\u001b[0m                                Traceback (most recent call last)",
      "\u001b[1;32m~\\AppData\\Local\\Temp/ipykernel_3080/386438491.py\u001b[0m in \u001b[0;36m<module>\u001b[1;34m\u001b[0m\n\u001b[0;32m     44\u001b[0m \u001b[1;33m\u001b[0m\u001b[0m\n\u001b[0;32m     45\u001b[0m \u001b[1;32mfor\u001b[0m \u001b[0mi\u001b[0m \u001b[1;32min\u001b[0m \u001b[0mrange\u001b[0m\u001b[1;33m(\u001b[0m\u001b[1;36m0\u001b[0m\u001b[1;33m,\u001b[0m\u001b[0mlen\u001b[0m\u001b[1;33m(\u001b[0m\u001b[0mdf\u001b[0m\u001b[1;33m)\u001b[0m\u001b[1;33m)\u001b[0m\u001b[1;33m:\u001b[0m\u001b[1;33m\u001b[0m\u001b[1;33m\u001b[0m\u001b[0m\n\u001b[1;32m---> 46\u001b[1;33m     \u001b[1;32mif\u001b[0m \u001b[0mint\u001b[0m\u001b[1;33m(\u001b[0m\u001b[0mfloat\u001b[0m\u001b[1;33m(\u001b[0m\u001b[0mdf\u001b[0m\u001b[1;33m[\u001b[0m\u001b[0mi\u001b[0m\u001b[1;33m]\u001b[0m\u001b[1;33m)\u001b[0m\u001b[1;33m)\u001b[0m\u001b[1;33m<\u001b[0m\u001b[1;36m15\u001b[0m\u001b[1;33m:\u001b[0m\u001b[1;33m\u001b[0m\u001b[1;33m\u001b[0m\u001b[0m\n\u001b[0m\u001b[0;32m     47\u001b[0m         \u001b[0mr\u001b[0m\u001b[1;33m=\u001b[0m\u001b[0mdf\u001b[0m\u001b[1;33m.\u001b[0m\u001b[0mindex\u001b[0m\u001b[1;33m(\u001b[0m\u001b[0mdf\u001b[0m\u001b[1;33m[\u001b[0m\u001b[0mi\u001b[0m\u001b[1;33m]\u001b[0m\u001b[1;33m)\u001b[0m\u001b[1;33m\u001b[0m\u001b[1;33m\u001b[0m\u001b[0m\n\u001b[0;32m     48\u001b[0m         \u001b[0mworksheet1\u001b[0m\u001b[1;33m.\u001b[0m\u001b[0mwrite\u001b[0m\u001b[1;33m(\u001b[0m\u001b[0mn1\u001b[0m\u001b[1;33m,\u001b[0m\u001b[1;36m0\u001b[0m\u001b[1;33m,\u001b[0m\u001b[0md1\u001b[0m\u001b[1;33m.\u001b[0m\u001b[0miloc\u001b[0m\u001b[1;33m[\u001b[0m\u001b[0mr\u001b[0m\u001b[1;33m]\u001b[0m\u001b[1;33m[\u001b[0m\u001b[1;34m'S. No.'\u001b[0m\u001b[1;33m]\u001b[0m\u001b[1;33m)\u001b[0m\u001b[1;33m\u001b[0m\u001b[1;33m\u001b[0m\u001b[0m\n",
      "\u001b[1;31mValueError\u001b[0m: could not convert string to float: ''"
     ]
    }
   ],
   "source": [
    "# collecting data using xl sheet\n",
    "\n",
    "import xlsxwriter\n",
    "import pandas as pd\n",
    "\n",
    "xls_path1='hostal1.xlsx'\n",
    "xls_path2='attendance.xlsx'\n",
    "\n",
    "d1=pd.read_excel(xls_path1)\n",
    "d1=d1.fillna('')\n",
    "\n",
    "workbook= xlsxwriter.Workbook(xls_path2)    # file name\n",
    "\n",
    "worksheet1=workbook.add_worksheet(\"batch1\")\n",
    "worksheet2=workbook.add_worksheet(\"batch2\")\n",
    "worksheet3=workbook.add_worksheet(\"batch3\")# sheet name\n",
    "\n",
    "worksheet1.write(0,0,\"S.No.\")                   \n",
    "worksheet1.write(0,1,\"Name\")          # adding data\n",
    "worksheet1.write(0,2,\"Roll no.\")\n",
    "worksheet1.write(0,3,\"Thumb ID\")\n",
    "worksheet1.write(0,4,\"Present Days\")\n",
    "\n",
    "\n",
    "worksheet2.write(0,0,\"S.No.\")                   \n",
    "worksheet2.write(0,1,\"Name\")          # adding data\n",
    "worksheet2.write(0,2,\"Roll no.\")\n",
    "worksheet2.write(0,3,\"Thumb ID\")\n",
    "worksheet2.write(0,4,\"Present Days\")\n",
    "\n",
    "\n",
    "worksheet3.write(0,0,\"S.No.\")                   \n",
    "worksheet3.write(0,1,\"Name\")          # adding data\n",
    "worksheet3.write(0,2,\"Roll no.\")\n",
    "worksheet3.write(0,3,\"Thumb ID\")\n",
    "worksheet3.write(0,4,\"No. of Present\")\n",
    "\n",
    "df=d1[\"No. of Present\"].to_list()\n",
    "print(int(float(df[0])))\n",
    "print(int(df[0])>15)\n",
    "n1=1\n",
    "n2=1\n",
    "n3=1\n",
    "\n",
    "for i in range(0,len(df)):\n",
    "    if int(float(df[i]))<15:\n",
    "        r=df.index(df[i])\n",
    "        worksheet1.write(n1,0,d1.iloc[r]['S. No.'])\n",
    "        worksheet1.write(n1,1,d1.iloc[r]['Student Name'])\n",
    "        worksheet1.write(n1,2,d1.iloc[r]['Roll No'])\n",
    "        worksheet1.write(n1,3,d1.iloc[r]['Thumb ID'])\n",
    "        worksheet1.write(n1,4,df[i])\n",
    "        n1=n1+1\n",
    "    elif int(df[i])>=15 and int(df[i])<=20:\n",
    "        \n",
    "        r=df.index(df[i])\n",
    "        worksheet2.write(n2,0,d1.iloc[r]['S. No.'])\n",
    "        worksheet2.write(n2,1,d1.iloc[r]['Student Name'])\n",
    "        worksheet2.write(n2,2,d1.iloc[r]['Roll No'])\n",
    "        worksheet2.write(n2,3,d1.iloc[r]['Thumb ID'])\n",
    "        worksheet2.write(n2,4,df[i])\n",
    "        n2=n2+1\n",
    "    else:\n",
    "        \n",
    "        r=df.index(df[i])\n",
    "        worksheet3.write(n3,0,d1.iloc[r]['S. No.'])\n",
    "        worksheet3.write(n3,1,d1.iloc[r]['Student Name'])\n",
    "        worksheet3.write(n3,2,d1.iloc[r]['Roll No'])\n",
    "        worksheet3.write(n3,3,d1.iloc[r]['Thumb ID'])\n",
    "        worksheet3.write(n3,4,df[i])\n",
    "        n3=n3+1"
   ]
  },
  {
   "cell_type": "code",
   "execution_count": null,
   "id": "4db1d6ce",
   "metadata": {},
   "outputs": [],
   "source": []
  }
 ],
 "metadata": {
  "kernelspec": {
   "display_name": "Python 3 (ipykernel)",
   "language": "python",
   "name": "python3"
  },
  "language_info": {
   "codemirror_mode": {
    "name": "ipython",
    "version": 3
   },
   "file_extension": ".py",
   "mimetype": "text/x-python",
   "name": "python",
   "nbconvert_exporter": "python",
   "pygments_lexer": "ipython3",
   "version": "3.9.7"
  }
 },
 "nbformat": 4,
 "nbformat_minor": 5
}
