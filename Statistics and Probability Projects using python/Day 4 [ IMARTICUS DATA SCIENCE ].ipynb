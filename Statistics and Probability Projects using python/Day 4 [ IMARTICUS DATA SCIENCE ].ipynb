{
 "cells": [
  {
   "cell_type": "code",
   "execution_count": 8,
   "id": "5f0f6076",
   "metadata": {},
   "outputs": [
    {
     "name": "stdout",
     "output_type": "stream",
     "text": [
      "1\n"
     ]
    },
    {
     "data": {
      "text/plain": [
       "numpy.ndarray"
      ]
     },
     "execution_count": 8,
     "metadata": {},
     "output_type": "execute_result"
    }
   ],
   "source": [
    "#declare a list\n",
    "import numpy as np\n",
    "age_list = [23,28,11,18,34]\n",
    "age_array = np.array(age_list)\n",
    "print(age_array.ndim)\n",
    "type(age_array)"
   ]
  },
  {
   "cell_type": "code",
   "execution_count": 9,
   "id": "f0df54a5",
   "metadata": {},
   "outputs": [
    {
     "name": "stdout",
     "output_type": "stream",
     "text": [
      "5\n"
     ]
    },
    {
     "data": {
      "text/plain": [
       "numpy.ndarray"
      ]
     },
     "execution_count": 9,
     "metadata": {},
     "output_type": "execute_result"
    }
   ],
   "source": [
    "#declare a list\n",
    "import numpy as np\n",
    "age_list = [23,28,11,18,34]\n",
    "age_array = np.array(age_list)\n",
    "print(age_array.size)\n",
    "type(age_array)"
   ]
  },
  {
   "cell_type": "code",
   "execution_count": 14,
   "id": "d0e717b8",
   "metadata": {},
   "outputs": [
    {
     "name": "stdout",
     "output_type": "stream",
     "text": [
      "[23 28 11 18 34]\n",
      "22.8\n"
     ]
    }
   ],
   "source": [
    "#declare a list[mean]\n",
    "\n",
    "import numpy as np\n",
    "age_list = [23,28,11,18,34]\n",
    "age_array = np.array(age_list)\n",
    "print(age_array)\n",
    "type(age_array)\n",
    "print(np.mean(age_array,0))"
   ]
  },
  {
   "cell_type": "code",
   "execution_count": 76,
   "id": "cf33d5a6",
   "metadata": {},
   "outputs": [
    {
     "name": "stdout",
     "output_type": "stream",
     "text": [
      "['Learn Python' 'Data Science Journel' 'Scale for Data Science']\n",
      "(3,)\n",
      "3\n",
      "1\n",
      "<U22\n"
     ]
    }
   ],
   "source": [
    "#strings\n",
    "\n",
    "import numpy as np\n",
    "books = np.array([\"Learn Python\",\"Data Science Journel\",\"Scale for Data Science\"])\n",
    "print(books)\n",
    "type(books)\n",
    "print(books.shape)\n",
    "print(books.size)\n",
    "print(books.ndim)\n",
    "print(books.dtype)"
   ]
  },
  {
   "cell_type": "code",
   "execution_count": 40,
   "id": "9f594071",
   "metadata": {},
   "outputs": [
    {
     "data": {
      "text/plain": [
       "array([0.4631658 , 0.58742818, 0.1936026 , 0.9839572 , 0.36991475,\n",
       "       0.51289465, 0.63858521, 0.07175608, 0.37000803, 0.84292058,\n",
       "       0.39321783, 0.85474912, 0.78543766, 0.50725685, 0.53628668,\n",
       "       0.01625014, 0.25982385, 0.70452967, 0.47695524, 0.53535001])"
      ]
     },
     "execution_count": 40,
     "metadata": {},
     "output_type": "execute_result"
    }
   ],
   "source": [
    "#creating a 1d array of random numbers using random.random()\n",
    "\n",
    "import numpy as np\n",
    "np.random.random(size=20)"
   ]
  },
  {
   "cell_type": "code",
   "execution_count": 51,
   "id": "efb60c40",
   "metadata": {},
   "outputs": [
    {
     "data": {
      "text/plain": [
       "array([[0.56244955, 0.34574314, 0.42784742],\n",
       "       [0.60606387, 0.50885876, 0.61733382]])"
      ]
     },
     "execution_count": 51,
     "metadata": {},
     "output_type": "execute_result"
    }
   ],
   "source": [
    "#creating a 2d array of random numbers using random.random()\n",
    "\n",
    "import numpy as np\n",
    "np.random.rand(2,3)"
   ]
  },
  {
   "cell_type": "code",
   "execution_count": 52,
   "id": "80ae3247",
   "metadata": {},
   "outputs": [
    {
     "data": {
      "text/plain": [
       "array([[ 2.21490724, -0.18043642,  0.69769819],\n",
       "       [-0.7448192 ,  0.87985331,  1.37215929]])"
      ]
     },
     "execution_count": 52,
     "metadata": {},
     "output_type": "execute_result"
    }
   ],
   "source": [
    "#creating a 2d array of random numbers using random.random()[normal distribution]\n",
    "\n",
    "import numpy as np\n",
    "np.random.randn(2,3)"
   ]
  },
  {
   "cell_type": "code",
   "execution_count": 84,
   "id": "5a77a153",
   "metadata": {},
   "outputs": [
    {
     "name": "stdout",
     "output_type": "stream",
     "text": [
      "2\n"
     ]
    }
   ],
   "source": [
    "#return integer values in the given range\n",
    "import numpy as np\n",
    "a=np.random.randint(2,3)\n",
    "print(a)\n"
   ]
  },
  {
   "cell_type": "code",
   "execution_count": 80,
   "id": "281d457d",
   "metadata": {},
   "outputs": [
    {
     "name": "stdout",
     "output_type": "stream",
     "text": [
      "[78 87 44 31 45 23 21 67 15 37]\n",
      "(10,)\n",
      "10\n",
      "1\n",
      "int32\n"
     ]
    }
   ],
   "source": [
    "#return integer values in the given range \n",
    "import numpy as np\n",
    "a=np.random.randint(10,100,10)\n",
    "print(a)\n",
    "print(a.shape)\n",
    "print(a.size)\n",
    "print(a.ndim)\n",
    "print(a.dtype)"
   ]
  },
  {
   "cell_type": "code",
   "execution_count": 79,
   "id": "1e0ce430",
   "metadata": {},
   "outputs": [
    {
     "name": "stdout",
     "output_type": "stream",
     "text": [
      "[ 10 110]\n",
      "(2,)\n",
      "2\n",
      "1\n",
      "int32\n"
     ]
    }
   ],
   "source": [
    "#creating an array of even numbers between given range\n",
    "import numpy as np\n",
    "even_num = np.arange(start = 10,stop = 200,step = 100)\n",
    "print(even_num)\n",
    "type(even_num)\n",
    "print(even_num.shape)\n",
    "print(even_num.size)\n",
    "print(even_num.ndim)\n",
    "print(even_num.dtype)"
   ]
  },
  {
   "cell_type": "code",
   "execution_count": 77,
   "id": "eef7e9a1",
   "metadata": {},
   "outputs": [
    {
     "name": "stdout",
     "output_type": "stream",
     "text": [
      "[  1.  12.  23.  34.  45.  56.  67.  78.  89. 100.]\n",
      "(10,)\n",
      "10\n",
      "1\n",
      "float64\n"
     ]
    }
   ],
   "source": [
    "#creating numbers between 1 and 100\n",
    "\n",
    "import numpy as np\n",
    "nums = np.linspace(start =1,stop =100,num =10)\n",
    "print(nums)\n",
    "type(nums)\n",
    "print(nums.shape)\n",
    "print(nums.size)\n",
    "print(nums.ndim)\n",
    "print(nums.dtype)"
   ]
  },
  {
   "cell_type": "code",
   "execution_count": 78,
   "id": "9bac0a54",
   "metadata": {},
   "outputs": [
    {
     "name": "stdout",
     "output_type": "stream",
     "text": [
      "[0. 0. 0. 0. 0. 0. 0. 0. 0. 0.]\n",
      "1\n",
      "10\n",
      "(10,)\n",
      "float64\n"
     ]
    }
   ],
   "source": [
    "#creating 1D numpy array of zeros\n",
    "import numpy as np\n",
    "a = np.zeros(10)\n",
    "print(a)\n",
    "print(a.ndim)\n",
    "print(a.size)\n",
    "print(a.shape)\n",
    "print(a.dtype)"
   ]
  },
  {
   "cell_type": "code",
   "execution_count": 102,
   "id": "1a4b3c49",
   "metadata": {
    "scrolled": true
   },
   "outputs": [
    {
     "name": "stdout",
     "output_type": "stream",
     "text": [
      "[[0 0 0]\n",
      " [0 0 0]\n",
      " [0 0 0]]\n"
     ]
    }
   ],
   "source": [
    "#creating 3*3 matrix\n",
    "\n",
    "import numpy as np\n",
    "matrix=np.empty((3,3),dtype=int)\n",
    "print(matrix)"
   ]
  },
  {
   "cell_type": "code",
   "execution_count": 105,
   "id": "6c057b3a",
   "metadata": {},
   "outputs": [
    {
     "name": "stdout",
     "output_type": "stream",
     "text": [
      "[[11 11 11]\n",
      " [11 11 11]\n",
      " [11 11 11]]\n"
     ]
    }
   ],
   "source": [
    "#creating 3*3 matrix\n",
    "\n",
    "import numpy as np\n",
    "matrix=np.full((3,3),fill_value=11)\n",
    "print(matrix)"
   ]
  },
  {
   "cell_type": "code",
   "execution_count": 106,
   "id": "802be137",
   "metadata": {},
   "outputs": [
    {
     "data": {
      "text/plain": [
       "array([[1., 0., 0., 0., 0.],\n",
       "       [0., 1., 0., 0., 0.],\n",
       "       [0., 0., 1., 0., 0.],\n",
       "       [0., 0., 0., 1., 0.],\n",
       "       [0., 0., 0., 0., 1.]])"
      ]
     },
     "execution_count": 106,
     "metadata": {},
     "output_type": "execute_result"
    }
   ],
   "source": [
    "#identitymatrix\n",
    "import numpy as np\n",
    "np.identity(5)"
   ]
  },
  {
   "cell_type": "code",
   "execution_count": 109,
   "id": "bb6859e6",
   "metadata": {},
   "outputs": [
    {
     "data": {
      "text/plain": [
       "array([[1., 0., 0., 0., 0.],\n",
       "       [0., 1., 0., 0., 0.],\n",
       "       [0., 0., 1., 0., 0.],\n",
       "       [0., 0., 0., 1., 0.]])"
      ]
     },
     "execution_count": 109,
     "metadata": {},
     "output_type": "execute_result"
    }
   ],
   "source": [
    "#np.eye\n",
    "import numpy as np\n",
    "np.eye(N = 4,M = 5,k =0)"
   ]
  },
  {
   "cell_type": "code",
   "execution_count": 117,
   "id": "4462f6d4",
   "metadata": {},
   "outputs": [
    {
     "name": "stdout",
     "output_type": "stream",
     "text": [
      "created_array: [['charles' '22']\n",
      " ['logan' '20']\n",
      " ['jessica' '34']]\n",
      "Reshaped_array [['charles' '22' 'logan' '20' 'jessica' '34']]\n",
      "2\n",
      "False\n"
     ]
    }
   ],
   "source": [
    "#creating array of name and age of employee\n",
    "\n",
    "import numpy as np\n",
    "emp=np.array([(\"charles\",22),(\"logan\",20),(\"jessica\",34)])\n",
    "print(\"created_array:\",emp)\n",
    "emp_reshaped=emp.reshape(1,6)\n",
    "print(\"Reshaped_array\",emp_reshaped)\n",
    "print(emp_reshaped.ndim)\n",
    "print(\"jessi\" in emp_reshaped)"
   ]
  },
  {
   "cell_type": "code",
   "execution_count": 120,
   "id": "48b2507a",
   "metadata": {},
   "outputs": [
    {
     "name": "stdout",
     "output_type": "stream",
     "text": [
      "4th and 5th element: [43. 92.]\n",
      "every second element: [73. 43.]\n",
      "elements before 43: [73.  68.  55.5]\n"
     ]
    }
   ],
   "source": [
    "# creating a 1D array [slicing]\n",
    "\n",
    "import numpy as np\n",
    "weight = np.array([73,68,55.5,43,92,66])\n",
    "print(\"4th and 5th element:\",weight[3:5])\n",
    "print(\"every second element:\",weight[0::3])\n",
    "print(\"elements before 43:\",weight[:3])\n"
   ]
  },
  {
   "cell_type": "code",
   "execution_count": 175,
   "id": "7be5f7cd",
   "metadata": {},
   "outputs": [
    {
     "ename": "TypeError",
     "evalue": "'numpy.ndarray' object is not callable",
     "output_type": "error",
     "traceback": [
      "\u001b[1;31m---------------------------------------------------------------------------\u001b[0m",
      "\u001b[1;31mTypeError\u001b[0m                                 Traceback (most recent call last)",
      "\u001b[1;32m~\\AppData\\Local\\Temp/ipykernel_4684/3588750307.py\u001b[0m in \u001b[0;36m<module>\u001b[1;34m\u001b[0m\n\u001b[0;32m      8\u001b[0m     \u001b[0ml1\u001b[0m\u001b[1;33m.\u001b[0m\u001b[0mappend\u001b[0m\u001b[1;33m(\u001b[0m\u001b[0mi\u001b[0m\u001b[1;33m[\u001b[0m\u001b[1;36m1\u001b[0m\u001b[1;33m]\u001b[0m\u001b[1;33m)\u001b[0m\u001b[1;33m\u001b[0m\u001b[1;33m\u001b[0m\u001b[0m\n\u001b[0;32m      9\u001b[0m \u001b[1;33m\u001b[0m\u001b[0m\n\u001b[1;32m---> 10\u001b[1;33m \u001b[0mminimum\u001b[0m\u001b[1;33m=\u001b[0m\u001b[0mmin\u001b[0m\u001b[1;33m(\u001b[0m\u001b[0ml1\u001b[0m\u001b[1;33m)\u001b[0m\u001b[1;33m\u001b[0m\u001b[1;33m\u001b[0m\u001b[0m\n\u001b[0m\u001b[0;32m     11\u001b[0m \u001b[0mmaximum\u001b[0m\u001b[1;33m=\u001b[0m\u001b[0mmax\u001b[0m\u001b[1;33m(\u001b[0m\u001b[0ml1\u001b[0m\u001b[1;33m)\u001b[0m\u001b[1;33m\u001b[0m\u001b[1;33m\u001b[0m\u001b[0m\n\u001b[0;32m     12\u001b[0m \u001b[1;33m\u001b[0m\u001b[0m\n",
      "\u001b[1;31mTypeError\u001b[0m: 'numpy.ndarray' object is not callable"
     ]
    }
   ],
   "source": [
    "#example\n",
    "\n",
    "import numpy as np\n",
    "\n",
    "weight = np.array([[\"Ram\",50],[\"krish\",70],[\"siddharth\",90],[\"ram\",55],[\"kannan\",50]])\n",
    "l1=[]\n",
    "for i in weight:\n",
    "    l1.append(i[1])\n",
    "    \n",
    "minimum=min(l1)\n",
    "maximum=max(l1)\n",
    "\n",
    "print(\"\\nminimum weight\")\n",
    "for i in weight:\n",
    "    if minimum==i[1]:\n",
    "        print(i)\n",
    "        \n",
    "print(\"\\nmaximum weight\")\n",
    "for i in weight:\n",
    "    if maximum==i[1]:\n",
    "        print(i)\n",
    "        \n",
    "\n"
   ]
  },
  {
   "cell_type": "code",
   "execution_count": 169,
   "id": "e4ed41ac",
   "metadata": {},
   "outputs": [
    {
     "name": "stdout",
     "output_type": "stream",
     "text": [
      "tp1 50\n",
      "tp1 70\n",
      "tp1 90\n",
      "tp1 55\n",
      "tp1 50\n",
      "['siddharth' '90']\n"
     ]
    }
   ],
   "source": [
    "#example\n",
    "import numpy as np\n",
    "weight = np.array([(\"Ram\",50),(\"krish\",70),(\"siddharth\",90),(\"ram\",55),(\"kannan\",50)])\n",
    "min_w = '0'\n",
    "for i in weight:\n",
    "    print(\"tp1\",i[1])\n",
    "    if min_w>i[1]:\n",
    "        min=i\n",
    "        min_w=i[1]\n",
    "print(min)"
   ]
  },
  {
   "cell_type": "code",
   "execution_count": 155,
   "id": "6916293e",
   "metadata": {},
   "outputs": [
    {
     "name": "stdout",
     "output_type": "stream",
     "text": [
      "[[1 2]\n",
      " [3 4]]\n",
      "2.5\n",
      "dimension 2\n",
      "size 4\n",
      "shape (2, 2)\n"
     ]
    }
   ],
   "source": [
    "#mean of 2D array\n",
    "\n",
    "a=np.array([[1,2],[3,4]])\n",
    "print(a)\n",
    "print(np.mean(a))\n",
    "print(\"dimension\",a.ndim)\n",
    "print(\"size\",a.size)\n",
    "print(\"shape\",a.shape)"
   ]
  },
  {
   "cell_type": "code",
   "execution_count": 158,
   "id": "e7491efb",
   "metadata": {},
   "outputs": [
    {
     "name": "stdout",
     "output_type": "stream",
     "text": [
      "[[1 2]\n",
      " [3 4]]\n",
      "mean [2. 3.]\n"
     ]
    }
   ],
   "source": [
    "#mean of 2D array\n",
    "\n",
    "a=np.array([[1,2],[3,4]])\n",
    "print(a)\n",
    "print(\"mean\",np.mean(a,0))\n"
   ]
  },
  {
   "cell_type": "code",
   "execution_count": 164,
   "id": "37382d58",
   "metadata": {},
   "outputs": [
    {
     "name": "stdout",
     "output_type": "stream",
     "text": [
      "[[1 1 1 1 1]\n",
      " [2 2 2 2 2]\n",
      " [3 3 3 3 3]\n",
      " [4 4 4 4 4]\n",
      " [5 5 5 5 5]]\n",
      "MEAN [3. 3. 3. 3. 3.]\n"
     ]
    }
   ],
   "source": [
    "#5*5 matrix\n",
    "\n",
    "import numpy as np\n",
    "a=np.array([[1,1,1,1,1],[2,2,2,2,2],[3,3,3,3,3],[4,4,4,4,4],[5,5,5,5,5]])\n",
    "print(a)\n",
    "print(\"MEAN\",np.mean(a,0)) #if we put (a,0),answer is columnwise orelse (a,0) means answer is rowwise\n",
    "print(\"MEAN\",np.mean(a,1))"
   ]
  },
  {
   "cell_type": "code",
   "execution_count": null,
   "id": "7d71ff00",
   "metadata": {},
   "outputs": [],
   "source": [
    "#slicing in 2D array\n",
    "\n",
    "import numpy as np\n",
    "age=np.array([(73,68,54),(21,36,19)])\n",
    "print(\"Orginal array\",age)\n",
    "print(\"\\nelements from first row and first column:\",age[0,0:2])\n",
    "print(\"\\nelements from first row and first column:\",age[0,0:2])"
   ]
  },
  {
   "cell_type": "code",
   "execution_count": 2,
   "id": "e09dac90",
   "metadata": {},
   "outputs": [
    {
     "name": "stdout",
     "output_type": "stream",
     "text": [
      "\n",
      "minimum weight\n",
      "['Ram' '50']\n",
      "['kannan' '50']\n",
      "\n",
      "maximum weight\n",
      "['siddharth' '90']\n"
     ]
    }
   ],
   "source": [
    "#example\n",
    "\n",
    "import numpy as np\n",
    "\n",
    "weight = np.array([(\"Ram\",50),(\"krish\",70),(\"siddharth\",90),(\"ram\",55),(\"kannan\",50)])\n",
    "l1=[]\n",
    "for i in weight:\n",
    "    l1.append(i[1])\n",
    "    \n",
    "minimum = min(l1)\n",
    "maximum = max(l1)\n",
    "\n",
    "print(\"\\nminimum weight\")\n",
    "for i in weight:\n",
    "    if minimum == i[1]:\n",
    "        print(i)\n",
    "        \n",
    "print(\"\\nmaximum weight\")\n",
    "for i in weight:\n",
    "    if maximum == i[1]:\n",
    "        print(i)"
   ]
  },
  {
   "cell_type": "code",
   "execution_count": 4,
   "id": "5abf209b",
   "metadata": {},
   "outputs": [
    {
     "name": "stdout",
     "output_type": "stream",
     "text": [
      "Addition:  [11 17  9 11]\n",
      "Subtraction:  [-5 -3  1  7]\n"
     ]
    }
   ],
   "source": [
    "#consider odd_num and even_num\n",
    "\n",
    "import numpy as np\n",
    "odd_num = np.array([3,7,5,9])\n",
    "even_num = np.array([8,10,4,2])\n",
    "\n",
    "print(\"Addition: \",odd_num + even_num)\n",
    "print(\"Subtraction: \",odd_num - even_num)\n"
   ]
  },
  {
   "cell_type": "code",
   "execution_count": 8,
   "id": "46e67b6c",
   "metadata": {},
   "outputs": [
    {
     "name": "stdout",
     "output_type": "stream",
     "text": [
      "Updated_array:  [ 2  4  6  8 10]\n"
     ]
    }
   ],
   "source": [
    "#multiply\n",
    "\n",
    "import numpy as np\n",
    "num=np.array([1,2,3,4,5])\n",
    "print(\"Updated_array: \",num*2)\n"
   ]
  },
  {
   "cell_type": "code",
   "execution_count": 13,
   "id": "6159862a",
   "metadata": {},
   "outputs": [
    {
     "name": "stdout",
     "output_type": "stream",
     "text": [
      "Elementwise Multiplication :\n",
      " [[ 4  0  2]\n",
      " [ 8 -6  0]]\n"
     ]
    }
   ],
   "source": [
    "#element wise multiplication in Matrix\n",
    "\n",
    "\n",
    "import numpy as np\n",
    "m1 = np.array([[1,0,2],[4,-2,3]])\n",
    "m2 = np.array([[4,0,1],[2,3,0]])\n",
    "\n",
    "print(\"Elementwise Multiplication :\\n\",m1*m2)"
   ]
  },
  {
   "cell_type": "code",
   "execution_count": 17,
   "id": "79c5a831",
   "metadata": {},
   "outputs": [
    {
     "name": "stdout",
     "output_type": "stream",
     "text": [
      "Matrix Multiplication :\n",
      " [[ 6  8]\n",
      " [15  6]]\n"
     ]
    }
   ],
   "source": [
    "#multiplication in Matrix using dot() product\n",
    "\n",
    "import numpy as np\n",
    "m1 = np.array([[1,0,2],[4,-2,3]])\n",
    "m2 = np.array([[4,0],[2,3],[1,4]])\n",
    "\n",
    "print(\"Matrix Multiplication :\\n\",m1.dot(m2))"
   ]
  },
  {
   "cell_type": "code",
   "execution_count": 22,
   "id": "148e176e",
   "metadata": {},
   "outputs": [
    {
     "name": "stdout",
     "output_type": "stream",
     "text": [
      "square_value:\n",
      " [ 100  400  900 1600 2500]\n"
     ]
    }
   ],
   "source": [
    "#nq.square\n",
    "\n",
    "import numpy as np\n",
    "sq_sides = np.array([10,20,30,40,50])\n",
    "print(\"square_value:\\n\",np.power(sq_sides,2))\n"
   ]
  },
  {
   "cell_type": "code",
   "execution_count": 23,
   "id": "84181792",
   "metadata": {},
   "outputs": [
    {
     "name": "stdout",
     "output_type": "stream",
     "text": [
      "cube_value:\n",
      " [  1000   8000  27000  64000 125000]\n"
     ]
    }
   ],
   "source": [
    "#nq.cube\n",
    "\n",
    "import numpy as np\n",
    "cube = np.array([10,20,30,40,50])\n",
    "print(\"cube_value:\\n\",np.power(cube,3))\n"
   ]
  },
  {
   "cell_type": "code",
   "execution_count": 20,
   "id": "cb313fab",
   "metadata": {},
   "outputs": [
    {
     "name": "stdout",
     "output_type": "stream",
     "text": [
      "original matrix:\n",
      " [['charles' '22']\n",
      " ['logan' '20']\n",
      " ['jessica' '34']]\n",
      "Transpose matrix:\n",
      " [['charles' 'logan' 'jessica']\n",
      " ['22' '20' '34']]\n"
     ]
    }
   ],
   "source": [
    "#transpose matrix\n",
    "\n",
    "import numpy as np\n",
    "data_scientists=np.array([(\"charles\",22),(\"logan\",20),(\"jessica\",34)])\n",
    "print(\"original matrix:\\n\",data_scientists)\n",
    "print(\"Transpose matrix:\\n\",np.transpose(data_scientists))\n"
   ]
  },
  {
   "cell_type": "code",
   "execution_count": 24,
   "id": "5e845c1f",
   "metadata": {},
   "outputs": [
    {
     "name": "stdout",
     "output_type": "stream",
     "text": [
      "Concatenated_array:\n",
      " [19 22 18 20 38 21 73 68 55 43 92 66]\n"
     ]
    }
   ],
   "source": [
    "# concatenaion\n",
    "import numpy as np\n",
    "age=np.array([19,22,18,20,38,21])\n",
    "weight=np.array([73,68,55,43,92,66])\n",
    "print(\"Concatenated_array:\\n\",np.concatenate([age,weight]))\n"
   ]
  },
  {
   "cell_type": "code",
   "execution_count": 27,
   "id": "2b5ebaa5",
   "metadata": {},
   "outputs": [
    {
     "name": "stdout",
     "output_type": "stream",
     "text": [
      "All_Employees:\n",
      " [['charles' '22']\n",
      " ['logan' '20']\n",
      " ['jessica' '20']\n",
      " ['Jean' '21']\n",
      " ['Philips' '20']]\n"
     ]
    }
   ],
   "source": [
    "#concatenation 2d array\n",
    "\n",
    "import numpy as np\n",
    "data_scientists=np.array([(\"charles\",22),(\"logan\",20),(\"jessica\",20)])\n",
    "consultants=np.array([[\"Jean\",21],[\"Philips\",20]])\n",
    "print(\"All_Employees:\\n\",np.concatenate([data_scientists,consultants]))\n"
   ]
  },
  {
   "cell_type": "code",
   "execution_count": null,
   "id": "37c43f72",
   "metadata": {},
   "outputs": [],
   "source": []
  }
 ],
 "metadata": {
  "kernelspec": {
   "display_name": "Python 3 (ipykernel)",
   "language": "python",
   "name": "python3"
  },
  "language_info": {
   "codemirror_mode": {
    "name": "ipython",
    "version": 3
   },
   "file_extension": ".py",
   "mimetype": "text/x-python",
   "name": "python",
   "nbconvert_exporter": "python",
   "pygments_lexer": "ipython3",
   "version": "3.9.7"
  }
 },
 "nbformat": 4,
 "nbformat_minor": 5
}
