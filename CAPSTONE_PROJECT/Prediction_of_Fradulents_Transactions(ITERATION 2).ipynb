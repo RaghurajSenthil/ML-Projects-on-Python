{
 "cells": [
  {
   "cell_type": "markdown",
   "id": "1fcfee6d",
   "metadata": {},
   "source": [
    "  <tr>\n",
    "        <td width=\"15%\">\n",
    "        </td>\n",
    "        <td>\n",
    "            <div align=\"right\">\n",
    "                <font size=25px>\n",
    "                    <b>PREDICTION OF FRAUDULENT TRANSACTIONS\n",
    "                    </b>\n",
    "                </font>\n",
    "            </div>\n",
    "        </td>\n",
    "    </tr>"
   ]
  },
  {
   "cell_type": "markdown",
   "id": "076fe324",
   "metadata": {},
   "source": [
    "## **Problem Statement**:\n",
    "The objective of the dataset is to predict the fraud transaction during the transaction of amount through various type of payment transactions.\n",
    "\n",
    "\n"
   ]
  },
  {
   "cell_type": "markdown",
   "id": "0ba458ad",
   "metadata": {},
   "source": [
    "## Data Definition:\n",
    "\n",
    "Input variables:\n",
    "\n",
    "**step** - maps a unit of time in the real world. In this case 1 step is 1 hour of time. Total steps 744 (30 days simulation).\n",
    "\n",
    "**type** - CASH-IN, CASH-OUT, DEBIT, PAYMENT and TRANSFER.\n",
    "\n",
    "**amount** - amount of the transaction in local currency.\n",
    "\n",
    "**nameOrig** - customer who started the transaction.\n",
    "\n",
    "**oldbalanceOrg** - initial balance before the transaction.\n",
    "\n",
    "**newbalanceOrig** - new balance after the transaction.\n",
    "\n",
    "**nameDest** - customer who is the recipient of the transaction.\n",
    "\n",
    "**oldbalanceDest** - initial balance recipient before the transaction.\n",
    "\n",
    "**newbalanceDest** - new balance recipient after the transaction.\n",
    "\n",
    "**isFraud** - This is the transactions made by the fraudulent agents inside the simulation. In this specific dataset the fraudulent behavior of the agents aims to profit by taking control or customers accounts and try to empty the funds by transferring to another account and then cashing out of the system.\n",
    "\n",
    "**isFlaggedFraud** - The business model aims to control massive transfers from one account to another and flags illegal attempts.\n",
    "\n"
   ]
  },
  {
   "cell_type": "markdown",
   "id": "bca0b8c2",
   "metadata": {},
   "source": [
    "**Contents**\n",
    "\n",
    "1. **[Import Packages](#import_packages)**\n",
    "\n",
    "\n",
    "2. **[Read Data](#Read_Data)**\n",
    "\n",
    "\n",
    "3. **[Understand and Prepare Data](#data_preparation)**\n",
    "    - 3.1 - **[Data Types and Dimensions](#Data_Understanding)**     \n",
    "    - 3.2 - **[Statistical Summary]()**\n",
    "    - 3.3 - **[Correlation]()**\n",
    "    - 3.4 - **[Checking Duplicates]()**\n",
    "    - 3.5 - **[Missing Data Treatment]()**\n",
    "  \n",
    "  \n",
    "4. **[Visualization](#Visualization)**\n",
    "\n",
    "\n",
    "5. **[Checking Outliers](#Visualization)**\n",
    "\n",
    "\n",
    "6. **[Balancing the Data](#Visualization)**\n",
    "\n",
    "\n",
    "7. **[Feature Selection](#feature_selection)**\n",
    "    - 7.1 - **[Logistic Regression](#Logistic_Regression)**\n",
    "    - 7.2 - **[LOGISTICREGRESSION HYPERPARAMETER TUNING USING GRIDSEARCHCV](#GridSearchCV)**\n",
    "    - 7.3 - **[Random Forest Classifier](#Random_Forest_Classifier)**\n",
    "    - 7.4 - **[Decision_Tree_Classifier](#Decision_Tree_Classifier)** \n",
    "\n",
    "\n",
    "8. **[Model Comparision](#model_cmp)**\n",
    "\n",
    "\n",
    "9. **[Power BI Report](#power_bi)**\n",
    "  "
   ]
  },
  {
   "cell_type": "markdown",
   "id": "694d9f32",
   "metadata": {},
   "source": [
    "<a id='import_packages'></a>\n",
    "## **1. Import Packages**"
   ]
  },
  {
   "cell_type": "code",
   "execution_count": 189,
   "id": "5bb83a1a",
   "metadata": {},
   "outputs": [
    {
     "name": "stdout",
     "output_type": "stream",
     "text": [
      "Requirement already satisfied: imblearn in c:\\users\\dell\\anaconda3\\lib\\site-packages (0.0)\n",
      "Requirement already satisfied: imbalanced-learn in c:\\users\\dell\\anaconda3\\lib\\site-packages (from imblearn) (0.9.1)\n",
      "Requirement already satisfied: joblib>=1.0.0 in c:\\users\\dell\\anaconda3\\lib\\site-packages (from imbalanced-learn->imblearn) (1.1.0)\n",
      "Requirement already satisfied: scipy>=1.3.2 in c:\\users\\dell\\anaconda3\\lib\\site-packages (from imbalanced-learn->imblearn) (1.7.1)\n",
      "Requirement already satisfied: scikit-learn>=1.1.0 in c:\\users\\dell\\anaconda3\\lib\\site-packages (from imbalanced-learn->imblearn) (1.1.1)\n",
      "Requirement already satisfied: numpy>=1.17.3 in c:\\users\\dell\\anaconda3\\lib\\site-packages (from imbalanced-learn->imblearn) (1.20.3)\n",
      "Requirement already satisfied: threadpoolctl>=2.0.0 in c:\\users\\dell\\anaconda3\\lib\\site-packages (from imbalanced-learn->imblearn) (2.2.0)\n"
     ]
    }
   ],
   "source": [
    "!pip install imblearn"
   ]
  },
  {
   "cell_type": "code",
   "execution_count": 190,
   "id": "c5de44f7",
   "metadata": {},
   "outputs": [
    {
     "name": "stdout",
     "output_type": "stream",
     "text": [
      "Requirement already satisfied: mysql in c:\\users\\dell\\anaconda3\\lib\\site-packages (0.0.3)\n",
      "Requirement already satisfied: mysqlclient in c:\\users\\dell\\anaconda3\\lib\\site-packages (from mysql) (2.1.1)\n"
     ]
    }
   ],
   "source": [
    "!pip install mysql"
   ]
  },
  {
   "cell_type": "code",
   "execution_count": 191,
   "id": "5dd295be",
   "metadata": {},
   "outputs": [],
   "source": [
    "import numpy\n",
    "import numpy as np\n",
    "import pandas as pd\n",
    "import matplotlib.pyplot as plt\n",
    "import seaborn as sns\n",
    "import warnings\n",
    "warnings.filterwarnings('ignore')\n",
    "from sklearn.preprocessing import LabelEncoder\n",
    "from sklearn.preprocessing import MinMaxScaler\n",
    "from sklearn.model_selection import train_test_split\n",
    "from sklearn.linear_model import LinearRegression\n",
    "from sklearn.metrics import mean_squared_error\n",
    "from math import sqrt\n",
    "from sklearn.linear_model import SGDRegressor\n",
    "from sklearn.preprocessing import StandardScaler\n",
    "from sklearn.linear_model import LogisticRegression\n",
    "from sklearn.metrics import accuracy_score,confusion_matrix,classification_report\n",
    "from sklearn.ensemble import RandomForestClassifier\n",
    "from sklearn.tree import DecisionTreeClassifier\n",
    "from sklearn.metrics import roc_curve\n",
    "from sklearn.metrics import roc_auc_score\n",
    "from sklearn.metrics import auc\n"
   ]
  },
  {
   "cell_type": "markdown",
   "id": "4f3294f7",
   "metadata": {},
   "source": [
    "<a id='Read_Data'></a>\n",
    "## **2. Read the Data**"
   ]
  },
  {
   "cell_type": "markdown",
   "id": "98972845",
   "metadata": {},
   "source": [
    "Read the data using read_csv() function from pandas"
   ]
  },
  {
   "cell_type": "code",
   "execution_count": 192,
   "id": "be8f0beb",
   "metadata": {},
   "outputs": [
    {
     "name": "stdout",
     "output_type": "stream",
     "text": [
      "Requirement already satisfied: mysql-connector-python in c:\\users\\dell\\anaconda3\\lib\\site-packages (8.0.29)\n",
      "Requirement already satisfied: protobuf>=3.0.0 in c:\\users\\dell\\anaconda3\\lib\\site-packages (from mysql-connector-python) (4.21.2)\n"
     ]
    }
   ],
   "source": [
    "!pip install mysql-connector-python"
   ]
  },
  {
   "cell_type": "code",
   "execution_count": 193,
   "id": "f6c4f76a",
   "metadata": {},
   "outputs": [],
   "source": [
    "import mysql.connector as mysql"
   ]
  },
  {
   "cell_type": "code",
   "execution_count": 194,
   "id": "c3175663",
   "metadata": {},
   "outputs": [],
   "source": [
    "db=mysql.connect(host=\"localhost\",user=\"root\",password=\"Raghu@123\",database=\"Capstone\", auth_plugin='mysql_native_password')"
   ]
  },
  {
   "cell_type": "code",
   "execution_count": 195,
   "id": "71dcc4c4",
   "metadata": {},
   "outputs": [
    {
     "name": "stdout",
     "output_type": "stream",
     "text": [
      "<mysql.connector.connection_cext.CMySQLConnection object at 0x000001414C1BA3D0>\n"
     ]
    }
   ],
   "source": [
    "print(db)"
   ]
  },
  {
   "cell_type": "code",
   "execution_count": 196,
   "id": "f8940e35",
   "metadata": {},
   "outputs": [],
   "source": [
    "myc=db.cursor()\n",
    "myc=db.cursor(buffered=True, dictionary=True)"
   ]
  },
  {
   "cell_type": "code",
   "execution_count": 197,
   "id": "7816bcb7",
   "metadata": {},
   "outputs": [],
   "source": [
    "myc.execute('SELECT * FROM capstone.`fraud(1)`')"
   ]
  },
  {
   "cell_type": "code",
   "execution_count": 198,
   "id": "aefd34d6",
   "metadata": {},
   "outputs": [],
   "source": [
    "df=pd.DataFrame(myc.fetchall())"
   ]
  },
  {
   "cell_type": "code",
   "execution_count": 199,
   "id": "99b36d06",
   "metadata": {},
   "outputs": [
    {
     "data": {
      "text/html": [
       "<div>\n",
       "<style scoped>\n",
       "    .dataframe tbody tr th:only-of-type {\n",
       "        vertical-align: middle;\n",
       "    }\n",
       "\n",
       "    .dataframe tbody tr th {\n",
       "        vertical-align: top;\n",
       "    }\n",
       "\n",
       "    .dataframe thead th {\n",
       "        text-align: right;\n",
       "    }\n",
       "</style>\n",
       "<table border=\"1\" class=\"dataframe\">\n",
       "  <thead>\n",
       "    <tr style=\"text-align: right;\">\n",
       "      <th></th>\n",
       "      <th>step</th>\n",
       "      <th>type</th>\n",
       "      <th>amount</th>\n",
       "      <th>nameOrig</th>\n",
       "      <th>oldbalanceOrg</th>\n",
       "      <th>newbalanceOrig</th>\n",
       "      <th>nameDest</th>\n",
       "      <th>oldbalanceDest</th>\n",
       "      <th>newbalanceDest</th>\n",
       "      <th>isFraud</th>\n",
       "      <th>isFlaggedFraud</th>\n",
       "    </tr>\n",
       "  </thead>\n",
       "  <tbody>\n",
       "    <tr>\n",
       "      <th>0</th>\n",
       "      <td>1</td>\n",
       "      <td>PAYMENT</td>\n",
       "      <td>9839.64</td>\n",
       "      <td>C1231006815</td>\n",
       "      <td>170136.0</td>\n",
       "      <td>160296.36</td>\n",
       "      <td>M1979787155</td>\n",
       "      <td>0.00</td>\n",
       "      <td>0.00</td>\n",
       "      <td>0</td>\n",
       "      <td>0</td>\n",
       "    </tr>\n",
       "    <tr>\n",
       "      <th>1</th>\n",
       "      <td>1</td>\n",
       "      <td>PAYMENT</td>\n",
       "      <td>1864.28</td>\n",
       "      <td>C1666544295</td>\n",
       "      <td>21249.0</td>\n",
       "      <td>19384.72</td>\n",
       "      <td>M2044282225</td>\n",
       "      <td>0.00</td>\n",
       "      <td>0.00</td>\n",
       "      <td>0</td>\n",
       "      <td>0</td>\n",
       "    </tr>\n",
       "    <tr>\n",
       "      <th>2</th>\n",
       "      <td>1</td>\n",
       "      <td>TRANSFER</td>\n",
       "      <td>181.00</td>\n",
       "      <td>C1305486145</td>\n",
       "      <td>181.0</td>\n",
       "      <td>0.00</td>\n",
       "      <td>C553264065</td>\n",
       "      <td>0.00</td>\n",
       "      <td>0.00</td>\n",
       "      <td>1</td>\n",
       "      <td>0</td>\n",
       "    </tr>\n",
       "    <tr>\n",
       "      <th>3</th>\n",
       "      <td>1</td>\n",
       "      <td>CASH_OUT</td>\n",
       "      <td>181.00</td>\n",
       "      <td>C840083671</td>\n",
       "      <td>181.0</td>\n",
       "      <td>0.00</td>\n",
       "      <td>C38997010</td>\n",
       "      <td>21182.00</td>\n",
       "      <td>0.00</td>\n",
       "      <td>1</td>\n",
       "      <td>0</td>\n",
       "    </tr>\n",
       "    <tr>\n",
       "      <th>4</th>\n",
       "      <td>1</td>\n",
       "      <td>PAYMENT</td>\n",
       "      <td>11668.14</td>\n",
       "      <td>C2048537720</td>\n",
       "      <td>41554.0</td>\n",
       "      <td>29885.86</td>\n",
       "      <td>M1230701703</td>\n",
       "      <td>0.00</td>\n",
       "      <td>0.00</td>\n",
       "      <td>0</td>\n",
       "      <td>0</td>\n",
       "    </tr>\n",
       "    <tr>\n",
       "      <th>...</th>\n",
       "      <td>...</td>\n",
       "      <td>...</td>\n",
       "      <td>...</td>\n",
       "      <td>...</td>\n",
       "      <td>...</td>\n",
       "      <td>...</td>\n",
       "      <td>...</td>\n",
       "      <td>...</td>\n",
       "      <td>...</td>\n",
       "      <td>...</td>\n",
       "      <td>...</td>\n",
       "    </tr>\n",
       "    <tr>\n",
       "      <th>22551</th>\n",
       "      <td>8</td>\n",
       "      <td>TRANSFER</td>\n",
       "      <td>1911412.45</td>\n",
       "      <td>C402436442</td>\n",
       "      <td>0.0</td>\n",
       "      <td>0.00</td>\n",
       "      <td>C787033725</td>\n",
       "      <td>2122990.49</td>\n",
       "      <td>4547905.63</td>\n",
       "      <td>0</td>\n",
       "      <td>0</td>\n",
       "    </tr>\n",
       "    <tr>\n",
       "      <th>22552</th>\n",
       "      <td>8</td>\n",
       "      <td>CASH_OUT</td>\n",
       "      <td>188622.04</td>\n",
       "      <td>C337225832</td>\n",
       "      <td>1048.0</td>\n",
       "      <td>0.00</td>\n",
       "      <td>C1141049797</td>\n",
       "      <td>24453.56</td>\n",
       "      <td>1404288.87</td>\n",
       "      <td>0</td>\n",
       "      <td>0</td>\n",
       "    </tr>\n",
       "    <tr>\n",
       "      <th>22553</th>\n",
       "      <td>8</td>\n",
       "      <td>PAYMENT</td>\n",
       "      <td>8492.12</td>\n",
       "      <td>C399201261</td>\n",
       "      <td>957726.0</td>\n",
       "      <td>949233.88</td>\n",
       "      <td>M103011325</td>\n",
       "      <td>0.00</td>\n",
       "      <td>0.00</td>\n",
       "      <td>0</td>\n",
       "      <td>0</td>\n",
       "    </tr>\n",
       "    <tr>\n",
       "      <th>22554</th>\n",
       "      <td>8</td>\n",
       "      <td>CASH_OUT</td>\n",
       "      <td>304273.00</td>\n",
       "      <td>C1948763138</td>\n",
       "      <td>21322.0</td>\n",
       "      <td>0.00</td>\n",
       "      <td>C644345897</td>\n",
       "      <td>51153.10</td>\n",
       "      <td>800992.18</td>\n",
       "      <td>0</td>\n",
       "      <td>0</td>\n",
       "    </tr>\n",
       "    <tr>\n",
       "      <th>22555</th>\n",
       "      <td>8</td>\n",
       "      <td>PAYMENT</td>\n",
       "      <td>12565.56</td>\n",
       "      <td>C757364742</td>\n",
       "      <td>11929.0</td>\n",
       "      <td>0.00</td>\n",
       "      <td>M1614615156</td>\n",
       "      <td>0.00</td>\n",
       "      <td>0.00</td>\n",
       "      <td>0</td>\n",
       "      <td>0</td>\n",
       "    </tr>\n",
       "  </tbody>\n",
       "</table>\n",
       "<p>22556 rows × 11 columns</p>\n",
       "</div>"
      ],
      "text/plain": [
       "       step      type      amount     nameOrig  oldbalanceOrg  newbalanceOrig  \\\n",
       "0         1   PAYMENT     9839.64  C1231006815       170136.0       160296.36   \n",
       "1         1   PAYMENT     1864.28  C1666544295        21249.0        19384.72   \n",
       "2         1  TRANSFER      181.00  C1305486145          181.0            0.00   \n",
       "3         1  CASH_OUT      181.00   C840083671          181.0            0.00   \n",
       "4         1   PAYMENT    11668.14  C2048537720        41554.0        29885.86   \n",
       "...     ...       ...         ...          ...            ...             ...   \n",
       "22551     8  TRANSFER  1911412.45   C402436442            0.0            0.00   \n",
       "22552     8  CASH_OUT   188622.04   C337225832         1048.0            0.00   \n",
       "22553     8   PAYMENT     8492.12   C399201261       957726.0       949233.88   \n",
       "22554     8  CASH_OUT   304273.00  C1948763138        21322.0            0.00   \n",
       "22555     8   PAYMENT    12565.56   C757364742        11929.0            0.00   \n",
       "\n",
       "          nameDest  oldbalanceDest  newbalanceDest  isFraud  isFlaggedFraud  \n",
       "0      M1979787155            0.00            0.00        0               0  \n",
       "1      M2044282225            0.00            0.00        0               0  \n",
       "2       C553264065            0.00            0.00        1               0  \n",
       "3        C38997010        21182.00            0.00        1               0  \n",
       "4      M1230701703            0.00            0.00        0               0  \n",
       "...            ...             ...             ...      ...             ...  \n",
       "22551   C787033725      2122990.49      4547905.63        0               0  \n",
       "22552  C1141049797        24453.56      1404288.87        0               0  \n",
       "22553   M103011325            0.00            0.00        0               0  \n",
       "22554   C644345897        51153.10       800992.18        0               0  \n",
       "22555  M1614615156            0.00            0.00        0               0  \n",
       "\n",
       "[22556 rows x 11 columns]"
      ]
     },
     "execution_count": 199,
     "metadata": {},
     "output_type": "execute_result"
    }
   ],
   "source": [
    "df"
   ]
  },
  {
   "cell_type": "markdown",
   "id": "9114eb6f",
   "metadata": {},
   "source": [
    "<a id='data_preparation'></a>\n",
    "## 3. Understand and Prepare the Data"
   ]
  },
  {
   "cell_type": "markdown",
   "id": "716998ea",
   "metadata": {},
   "source": [
    "The process of data preparation entails cleansing, structuring and integrating data to make it ready for analysis. \n",
    "\n",
    "Here we will analyze and prepare data:\n",
    "\n",
    "                        3.1. Check dimensions and data types of the dataframe \n",
    "                        3.2. Study summary statistic\n",
    "                        3.3. Correlation\n",
    "                        3.4. Checking Duplicates\n",
    "                        3.5. Missing Data Treatment              \n",
    "                \n",
    "            \n",
    "        \n"
   ]
  },
  {
   "cell_type": "markdown",
   "id": "1c08d282",
   "metadata": {},
   "source": [
    "<a id='Data_Types'></a>\n",
    "**3.1 Data Types and Dimensions**"
   ]
  },
  {
   "cell_type": "code",
   "execution_count": 200,
   "id": "3e70207e",
   "metadata": {},
   "outputs": [
    {
     "name": "stdout",
     "output_type": "stream",
     "text": [
      "<class 'pandas.core.frame.DataFrame'>\n",
      "RangeIndex: 22556 entries, 0 to 22555\n",
      "Data columns (total 11 columns):\n",
      " #   Column          Non-Null Count  Dtype  \n",
      "---  ------          --------------  -----  \n",
      " 0   step            22556 non-null  int64  \n",
      " 1   type            22556 non-null  object \n",
      " 2   amount          22556 non-null  float64\n",
      " 3   nameOrig        22556 non-null  object \n",
      " 4   oldbalanceOrg   22556 non-null  float64\n",
      " 5   newbalanceOrig  22556 non-null  float64\n",
      " 6   nameDest        22556 non-null  object \n",
      " 7   oldbalanceDest  22556 non-null  float64\n",
      " 8   newbalanceDest  22556 non-null  float64\n",
      " 9   isFraud         22556 non-null  int64  \n",
      " 10  isFlaggedFraud  22556 non-null  int64  \n",
      "dtypes: float64(5), int64(3), object(3)\n",
      "memory usage: 1.9+ MB\n"
     ]
    }
   ],
   "source": [
    "df.info()"
   ]
  },
  {
   "cell_type": "markdown",
   "id": "ab76e942",
   "metadata": {},
   "source": [
    "**From the above output, we see that** \n",
    "\n",
    "                        1. type,nameOrig and nameDest are in the form of object\n",
    "                        2. isFraud is our class label"
   ]
  },
  {
   "cell_type": "code",
   "execution_count": 201,
   "id": "d03d7c61",
   "metadata": {},
   "outputs": [
    {
     "name": "stdout",
     "output_type": "stream",
     "text": [
      "(22556, 11)\n"
     ]
    }
   ],
   "source": [
    "#Getting the Shape of the Dataset\n",
    "print(df.shape)\n"
   ]
  },
  {
   "cell_type": "markdown",
   "id": "4a78b3ed",
   "metadata": {},
   "source": [
    "**We see the dataframe has 11 columns and 22556 observations**"
   ]
  },
  {
   "cell_type": "code",
   "execution_count": 202,
   "id": "61bef0e1",
   "metadata": {},
   "outputs": [
    {
     "data": {
      "text/plain": [
       "Index(['step', 'type', 'amount', 'nameOrig', 'oldbalanceOrg', 'newbalanceOrig',\n",
       "       'nameDest', 'oldbalanceDest', 'newbalanceDest', 'isFraud',\n",
       "       'isFlaggedFraud'],\n",
       "      dtype='object')"
      ]
     },
     "execution_count": 202,
     "metadata": {},
     "output_type": "execute_result"
    }
   ],
   "source": [
    "#Name of the columns present in the given Dataset\n",
    "df.columns"
   ]
  },
  {
   "cell_type": "code",
   "execution_count": 203,
   "id": "92cc362f",
   "metadata": {},
   "outputs": [
    {
     "data": {
      "text/plain": [
       "step                int64\n",
       "type               object\n",
       "amount            float64\n",
       "nameOrig           object\n",
       "oldbalanceOrg     float64\n",
       "newbalanceOrig    float64\n",
       "nameDest           object\n",
       "oldbalanceDest    float64\n",
       "newbalanceDest    float64\n",
       "isFraud             int64\n",
       "isFlaggedFraud      int64\n",
       "dtype: object"
      ]
     },
     "execution_count": 203,
     "metadata": {},
     "output_type": "execute_result"
    }
   ],
   "source": [
    "#Datatypes of the data present in the given Dataset\n",
    "df.dtypes"
   ]
  },
  {
   "cell_type": "markdown",
   "id": "7c37a900",
   "metadata": {},
   "source": [
    "<a id='Statistical_Summary'></a>\n",
    "**3.2 Statistical Summary**\n",
    "\n",
    "Here we take a look at the summary of each attribute. This includes the count, mean, the min and max values as well as some percentiles for numeric variables."
   ]
  },
  {
   "cell_type": "code",
   "execution_count": 204,
   "id": "abd4f0f9",
   "metadata": {},
   "outputs": [
    {
     "data": {
      "text/html": [
       "<div>\n",
       "<style scoped>\n",
       "    .dataframe tbody tr th:only-of-type {\n",
       "        vertical-align: middle;\n",
       "    }\n",
       "\n",
       "    .dataframe tbody tr th {\n",
       "        vertical-align: top;\n",
       "    }\n",
       "\n",
       "    .dataframe thead th {\n",
       "        text-align: right;\n",
       "    }\n",
       "</style>\n",
       "<table border=\"1\" class=\"dataframe\">\n",
       "  <thead>\n",
       "    <tr style=\"text-align: right;\">\n",
       "      <th></th>\n",
       "      <th>step</th>\n",
       "      <th>type</th>\n",
       "      <th>amount</th>\n",
       "      <th>nameOrig</th>\n",
       "      <th>oldbalanceOrg</th>\n",
       "      <th>newbalanceOrig</th>\n",
       "      <th>nameDest</th>\n",
       "      <th>oldbalanceDest</th>\n",
       "      <th>newbalanceDest</th>\n",
       "      <th>isFraud</th>\n",
       "      <th>isFlaggedFraud</th>\n",
       "    </tr>\n",
       "  </thead>\n",
       "  <tbody>\n",
       "    <tr>\n",
       "      <th>count</th>\n",
       "      <td>22556.000000</td>\n",
       "      <td>22556</td>\n",
       "      <td>2.255600e+04</td>\n",
       "      <td>22556</td>\n",
       "      <td>2.255600e+04</td>\n",
       "      <td>2.255600e+04</td>\n",
       "      <td>22556</td>\n",
       "      <td>2.255600e+04</td>\n",
       "      <td>2.255600e+04</td>\n",
       "      <td>22556.000000</td>\n",
       "      <td>22556.0</td>\n",
       "    </tr>\n",
       "    <tr>\n",
       "      <th>unique</th>\n",
       "      <td>NaN</td>\n",
       "      <td>5</td>\n",
       "      <td>NaN</td>\n",
       "      <td>22556</td>\n",
       "      <td>NaN</td>\n",
       "      <td>NaN</td>\n",
       "      <td>14171</td>\n",
       "      <td>NaN</td>\n",
       "      <td>NaN</td>\n",
       "      <td>NaN</td>\n",
       "      <td>NaN</td>\n",
       "    </tr>\n",
       "    <tr>\n",
       "      <th>top</th>\n",
       "      <td>NaN</td>\n",
       "      <td>PAYMENT</td>\n",
       "      <td>NaN</td>\n",
       "      <td>C1231006815</td>\n",
       "      <td>NaN</td>\n",
       "      <td>NaN</td>\n",
       "      <td>C985934102</td>\n",
       "      <td>NaN</td>\n",
       "      <td>NaN</td>\n",
       "      <td>NaN</td>\n",
       "      <td>NaN</td>\n",
       "    </tr>\n",
       "    <tr>\n",
       "      <th>freq</th>\n",
       "      <td>NaN</td>\n",
       "      <td>11476</td>\n",
       "      <td>NaN</td>\n",
       "      <td>1</td>\n",
       "      <td>NaN</td>\n",
       "      <td>NaN</td>\n",
       "      <td>69</td>\n",
       "      <td>NaN</td>\n",
       "      <td>NaN</td>\n",
       "      <td>NaN</td>\n",
       "      <td>NaN</td>\n",
       "    </tr>\n",
       "    <tr>\n",
       "      <th>mean</th>\n",
       "      <td>6.128569</td>\n",
       "      <td>NaN</td>\n",
       "      <td>1.300674e+05</td>\n",
       "      <td>NaN</td>\n",
       "      <td>8.664143e+05</td>\n",
       "      <td>8.847790e+05</td>\n",
       "      <td>NaN</td>\n",
       "      <td>8.308427e+05</td>\n",
       "      <td>1.188440e+06</td>\n",
       "      <td>0.003591</td>\n",
       "      <td>0.0</td>\n",
       "    </tr>\n",
       "    <tr>\n",
       "      <th>std</th>\n",
       "      <td>2.423753</td>\n",
       "      <td>NaN</td>\n",
       "      <td>2.988948e+05</td>\n",
       "      <td>NaN</td>\n",
       "      <td>2.294567e+06</td>\n",
       "      <td>2.338020e+06</td>\n",
       "      <td>NaN</td>\n",
       "      <td>2.497704e+06</td>\n",
       "      <td>3.146684e+06</td>\n",
       "      <td>0.059819</td>\n",
       "      <td>0.0</td>\n",
       "    </tr>\n",
       "    <tr>\n",
       "      <th>min</th>\n",
       "      <td>1.000000</td>\n",
       "      <td>NaN</td>\n",
       "      <td>2.390000e+00</td>\n",
       "      <td>NaN</td>\n",
       "      <td>0.000000e+00</td>\n",
       "      <td>0.000000e+00</td>\n",
       "      <td>NaN</td>\n",
       "      <td>0.000000e+00</td>\n",
       "      <td>0.000000e+00</td>\n",
       "      <td>0.000000</td>\n",
       "      <td>0.0</td>\n",
       "    </tr>\n",
       "    <tr>\n",
       "      <th>25%</th>\n",
       "      <td>6.000000</td>\n",
       "      <td>NaN</td>\n",
       "      <td>5.581483e+03</td>\n",
       "      <td>NaN</td>\n",
       "      <td>0.000000e+00</td>\n",
       "      <td>0.000000e+00</td>\n",
       "      <td>NaN</td>\n",
       "      <td>0.000000e+00</td>\n",
       "      <td>0.000000e+00</td>\n",
       "      <td>0.000000</td>\n",
       "      <td>0.0</td>\n",
       "    </tr>\n",
       "    <tr>\n",
       "      <th>50%</th>\n",
       "      <td>7.000000</td>\n",
       "      <td>NaN</td>\n",
       "      <td>1.732210e+04</td>\n",
       "      <td>NaN</td>\n",
       "      <td>2.053200e+04</td>\n",
       "      <td>6.728425e+03</td>\n",
       "      <td>NaN</td>\n",
       "      <td>0.000000e+00</td>\n",
       "      <td>0.000000e+00</td>\n",
       "      <td>0.000000</td>\n",
       "      <td>0.0</td>\n",
       "    </tr>\n",
       "    <tr>\n",
       "      <th>75%</th>\n",
       "      <td>8.000000</td>\n",
       "      <td>NaN</td>\n",
       "      <td>1.497186e+05</td>\n",
       "      <td>NaN</td>\n",
       "      <td>1.561783e+05</td>\n",
       "      <td>1.608425e+05</td>\n",
       "      <td>NaN</td>\n",
       "      <td>3.164266e+05</td>\n",
       "      <td>5.148234e+05</td>\n",
       "      <td>0.000000</td>\n",
       "      <td>0.0</td>\n",
       "    </tr>\n",
       "    <tr>\n",
       "      <th>max</th>\n",
       "      <td>8.000000</td>\n",
       "      <td>NaN</td>\n",
       "      <td>1.000000e+07</td>\n",
       "      <td>NaN</td>\n",
       "      <td>2.235231e+07</td>\n",
       "      <td>2.246600e+07</td>\n",
       "      <td>NaN</td>\n",
       "      <td>2.278747e+07</td>\n",
       "      <td>2.878359e+07</td>\n",
       "      <td>1.000000</td>\n",
       "      <td>0.0</td>\n",
       "    </tr>\n",
       "  </tbody>\n",
       "</table>\n",
       "</div>"
      ],
      "text/plain": [
       "                step     type        amount     nameOrig  oldbalanceOrg  \\\n",
       "count   22556.000000    22556  2.255600e+04        22556   2.255600e+04   \n",
       "unique           NaN        5           NaN        22556            NaN   \n",
       "top              NaN  PAYMENT           NaN  C1231006815            NaN   \n",
       "freq             NaN    11476           NaN            1            NaN   \n",
       "mean        6.128569      NaN  1.300674e+05          NaN   8.664143e+05   \n",
       "std         2.423753      NaN  2.988948e+05          NaN   2.294567e+06   \n",
       "min         1.000000      NaN  2.390000e+00          NaN   0.000000e+00   \n",
       "25%         6.000000      NaN  5.581483e+03          NaN   0.000000e+00   \n",
       "50%         7.000000      NaN  1.732210e+04          NaN   2.053200e+04   \n",
       "75%         8.000000      NaN  1.497186e+05          NaN   1.561783e+05   \n",
       "max         8.000000      NaN  1.000000e+07          NaN   2.235231e+07   \n",
       "\n",
       "        newbalanceOrig    nameDest  oldbalanceDest  newbalanceDest  \\\n",
       "count     2.255600e+04       22556    2.255600e+04    2.255600e+04   \n",
       "unique             NaN       14171             NaN             NaN   \n",
       "top                NaN  C985934102             NaN             NaN   \n",
       "freq               NaN          69             NaN             NaN   \n",
       "mean      8.847790e+05         NaN    8.308427e+05    1.188440e+06   \n",
       "std       2.338020e+06         NaN    2.497704e+06    3.146684e+06   \n",
       "min       0.000000e+00         NaN    0.000000e+00    0.000000e+00   \n",
       "25%       0.000000e+00         NaN    0.000000e+00    0.000000e+00   \n",
       "50%       6.728425e+03         NaN    0.000000e+00    0.000000e+00   \n",
       "75%       1.608425e+05         NaN    3.164266e+05    5.148234e+05   \n",
       "max       2.246600e+07         NaN    2.278747e+07    2.878359e+07   \n",
       "\n",
       "             isFraud  isFlaggedFraud  \n",
       "count   22556.000000         22556.0  \n",
       "unique           NaN             NaN  \n",
       "top              NaN             NaN  \n",
       "freq             NaN             NaN  \n",
       "mean        0.003591             0.0  \n",
       "std         0.059819             0.0  \n",
       "min         0.000000             0.0  \n",
       "25%         0.000000             0.0  \n",
       "50%         0.000000             0.0  \n",
       "75%         0.000000             0.0  \n",
       "max         1.000000             0.0  "
      ]
     },
     "execution_count": 204,
     "metadata": {},
     "output_type": "execute_result"
    }
   ],
   "source": [
    "df.describe(include='all')\n"
   ]
  },
  {
   "cell_type": "markdown",
   "id": "637aa09e",
   "metadata": {},
   "source": [
    "The above output illustrates the summary statistics of all the numeric variables like the mean, median(50%), minimum, and maximum values, along with the standard deviation."
   ]
  },
  {
   "cell_type": "code",
   "execution_count": 205,
   "id": "95b75cd3",
   "metadata": {},
   "outputs": [
    {
     "data": {
      "text/html": [
       "<div>\n",
       "<style scoped>\n",
       "    .dataframe tbody tr th:only-of-type {\n",
       "        vertical-align: middle;\n",
       "    }\n",
       "\n",
       "    .dataframe tbody tr th {\n",
       "        vertical-align: top;\n",
       "    }\n",
       "\n",
       "    .dataframe thead th {\n",
       "        text-align: right;\n",
       "    }\n",
       "</style>\n",
       "<table border=\"1\" class=\"dataframe\">\n",
       "  <thead>\n",
       "    <tr style=\"text-align: right;\">\n",
       "      <th></th>\n",
       "      <th>type</th>\n",
       "      <th>nameOrig</th>\n",
       "      <th>nameDest</th>\n",
       "    </tr>\n",
       "  </thead>\n",
       "  <tbody>\n",
       "    <tr>\n",
       "      <th>count</th>\n",
       "      <td>22556</td>\n",
       "      <td>22556</td>\n",
       "      <td>22556</td>\n",
       "    </tr>\n",
       "    <tr>\n",
       "      <th>unique</th>\n",
       "      <td>5</td>\n",
       "      <td>22556</td>\n",
       "      <td>14171</td>\n",
       "    </tr>\n",
       "    <tr>\n",
       "      <th>top</th>\n",
       "      <td>PAYMENT</td>\n",
       "      <td>C1231006815</td>\n",
       "      <td>C985934102</td>\n",
       "    </tr>\n",
       "    <tr>\n",
       "      <th>freq</th>\n",
       "      <td>11476</td>\n",
       "      <td>1</td>\n",
       "      <td>69</td>\n",
       "    </tr>\n",
       "  </tbody>\n",
       "</table>\n",
       "</div>"
      ],
      "text/plain": [
       "           type     nameOrig    nameDest\n",
       "count     22556        22556       22556\n",
       "unique        5        22556       14171\n",
       "top     PAYMENT  C1231006815  C985934102\n",
       "freq      11476            1          69"
      ]
     },
     "execution_count": 205,
     "metadata": {},
     "output_type": "execute_result"
    }
   ],
   "source": [
    "# data frame with categorical features\n",
    "df.describe(include='object')"
   ]
  },
  {
   "cell_type": "markdown",
   "id": "82c55011",
   "metadata": {},
   "source": [
    "The above output illustrates the summary statistics of the categorical variables i.e type,nameOrig and nameDest(no.of levels in the variable), top(majority level) and the count of the majority level."
   ]
  },
  {
   "cell_type": "markdown",
   "id": "6044b80f",
   "metadata": {},
   "source": [
    "<a id='Statistical_Summary'></a>\n",
    "**3.3 Correlation**\n",
    "\n",
    "Here we take a look at the Correlation of each attribute. "
   ]
  },
  {
   "cell_type": "markdown",
   "id": "c97bc5a0",
   "metadata": {},
   "source": [
    "Call the corr() function which will return the correlation matrix of numeric variables."
   ]
  },
  {
   "cell_type": "code",
   "execution_count": 206,
   "id": "e266492a",
   "metadata": {},
   "outputs": [],
   "source": [
    "# check correlation\n",
    "corr=df.corr()"
   ]
  },
  {
   "cell_type": "code",
   "execution_count": 207,
   "id": "14d85590",
   "metadata": {},
   "outputs": [
    {
     "data": {
      "image/png": "[encoded data removed]",
      "text/plain": [
       "<Figure size 720x720 with 2 Axes>"
      ]
     },
     "metadata": {
      "needs_background": "light"
     },
     "output_type": "display_data"
    }
   ],
   "source": [
    "#correlation map\n",
    "f,ax = plt.subplots(figsize=(10, 10))\n",
    "sns.heatmap(corr, annot=True, linewidths=.5, fmt= '.1f',ax=ax)\n",
    "plt.show()"
   ]
  },
  {
   "cell_type": "code",
   "execution_count": 208,
   "id": "59784b7b",
   "metadata": {},
   "outputs": [
    {
     "data": {
      "image/png": "[encoded data removed]",
      "text/plain": [
       "<Figure size 720x720 with 2 Axes>"
      ]
     },
     "metadata": {
      "needs_background": "light"
     },
     "output_type": "display_data"
    }
   ],
   "source": [
    "# ploting correlation plot\n",
    "\n",
    "# set the figure size\n",
    "plt.figure(figsize=(10, 10))\n",
    "\n",
    "# plotting the heat map\n",
    "# corr: give the correlation matrix\n",
    "# cmap: colour code used for plotting\n",
    "# vmax: gives maximum range of values for the chart\n",
    "# vmin: gives minimum range of values for the chart\n",
    "# annot: prints the correlation values in the chart\n",
    "# annot_kws: sets the font size of the annotation\n",
    "# set condition to get a strong correlation between the variables\n",
    "sns.heatmap(corr[(corr >= 0.9) | (corr <= -0.9)], \n",
    "            cmap='YlGnBu', vmax=1.0, vmin=-1.0,\n",
    "            annot=True, annot_kws={\"size\": 15})\n",
    "\n",
    "# set the title\n",
    "# fontsize=30: set the font size of the title\n",
    "plt.title('Correlation between features', fontsize=15)\n",
    "# display the plot\n",
    "plt.show()"
   ]
  },
  {
   "cell_type": "markdown",
   "id": "87ca9ae4",
   "metadata": {},
   "source": [
    "<a id='Checking Duplicates'></a>\n",
    " **3.4. Checking Duplicates**\n",
    "\n",
    "Checking the given dataset wheather it contains Duplicated values or not.\n"
   ]
  },
  {
   "cell_type": "code",
   "execution_count": 209,
   "id": "31c3d799",
   "metadata": {},
   "outputs": [
    {
     "data": {
      "text/plain": [
       "0"
      ]
     },
     "execution_count": 209,
     "metadata": {},
     "output_type": "execute_result"
    }
   ],
   "source": [
    "df.duplicated().sum()"
   ]
  },
  {
   "cell_type": "markdown",
   "id": "266b0aa8",
   "metadata": {},
   "source": [
    "The above output illustrates that the given dataset doesn't contain any duplicate values."
   ]
  },
  {
   "cell_type": "markdown",
   "id": "cb45e6b0",
   "metadata": {},
   "source": [
    "<a id='Missing_Data_Treatment'></a>\n",
    "**3.5. Missing Data Treatment**\n",
    "\n",
    "If the missing values are not handled properly we may end up drawing an inaccurate inference about the data. Due to improper handling, the result obtained will differ from the ones where the missing values are present."
   ]
  },
  {
   "cell_type": "markdown",
   "id": "4ccbb102",
   "metadata": {},
   "source": [
    "In order to get the count of missing values in each column, we use the in-built function .isna().sum()"
   ]
  },
  {
   "cell_type": "code",
   "execution_count": 210,
   "id": "a19ff349",
   "metadata": {},
   "outputs": [
    {
     "data": {
      "text/plain": [
       "step              0\n",
       "type              0\n",
       "amount            0\n",
       "nameOrig          0\n",
       "oldbalanceOrg     0\n",
       "newbalanceOrig    0\n",
       "nameDest          0\n",
       "oldbalanceDest    0\n",
       "newbalanceDest    0\n",
       "isFraud           0\n",
       "isFlaggedFraud    0\n",
       "dtype: int64"
      ]
     },
     "execution_count": 210,
     "metadata": {},
     "output_type": "execute_result"
    }
   ],
   "source": [
    "# checking for missing values\n",
    "\n",
    "df.isna().sum().sort_values(ascending=False)"
   ]
  },
  {
   "cell_type": "markdown",
   "id": "82177755",
   "metadata": {},
   "source": [
    "The above output illustrates that the given dataset doesn't contain any missing values."
   ]
  },
  {
   "cell_type": "markdown",
   "id": "44e3ad74",
   "metadata": {},
   "source": [
    "<a id='Visualization'></a>\n",
    "## 4. Visualization\n"
   ]
  },
  {
   "cell_type": "code",
   "execution_count": 211,
   "id": "7fe3f470",
   "metadata": {},
   "outputs": [
    {
     "data": {
      "text/plain": [
       "<AxesSubplot:xlabel='type', ylabel='count'>"
      ]
     },
     "execution_count": 211,
     "metadata": {},
     "output_type": "execute_result"
    },
    {
     "data": {
      "image/png": "[encoded data removed]",
      "text/plain": [
       "<Figure size 720x576 with 1 Axes>"
      ]
     },
     "metadata": {
      "needs_background": "light"
     },
     "output_type": "display_data"
    }
   ],
   "source": [
    "# counting the number of transactions per type\n",
    "import matplotlib.pyplot as plt\n",
    "import seaborn as sns\n",
    "plt.figure(figsize=(10,8))\n",
    "sns.countplot(x=\"type\", data=df,hue=\"isFraud\" , palette=\"Set2\")"
   ]
  },
  {
   "cell_type": "markdown",
   "id": "110fcaa1",
   "metadata": {},
   "source": [
    "From the above results, we get the type of the transactions that taken place."
   ]
  },
  {
   "cell_type": "code",
   "execution_count": 212,
   "id": "88e86563",
   "metadata": {},
   "outputs": [
    {
     "data": {
      "text/plain": [
       "<AxesSubplot:xlabel='amount', ylabel='Density'>"
      ]
     },
     "execution_count": 212,
     "metadata": {},
     "output_type": "execute_result"
    },
    {
     "data": {
      "image/png": "[encoded data removed]",
      "text/plain": [
       "<Figure size 432x288 with 1 Axes>"
      ]
     },
     "metadata": {
      "needs_background": "light"
     },
     "output_type": "display_data"
    }
   ],
   "source": [
    "#displot---- distplot represents the univariate distribution of data \n",
    "positive_case = df[df['isFraud']==1]\n",
    "sns.distplot(positive_case['amount'])"
   ]
  },
  {
   "cell_type": "markdown",
   "id": "cb6963b7",
   "metadata": {},
   "source": [
    "From the above results, we conclude the data distribution of a variable against the density distribution."
   ]
  },
  {
   "cell_type": "code",
   "execution_count": 213,
   "id": "7c604183",
   "metadata": {},
   "outputs": [
    {
     "data": {
      "image/png": "[encoded data removed]",
      "text/plain": [
       "<Figure size 432x288 with 1 Axes>"
      ]
     },
     "metadata": {
      "needs_background": "light"
     },
     "output_type": "display_data"
    },
    {
     "data": {
      "image/png": "[encoded data removed]",
      "text/plain": [
       "<Figure size 432x288 with 1 Axes>"
      ]
     },
     "metadata": {
      "needs_background": "light"
     },
     "output_type": "display_data"
    },
    {
     "data": {
      "image/png": "[encoded data removed]",
      "text/plain": [
       "<Figure size 432x288 with 1 Axes>"
      ]
     },
     "metadata": {
      "needs_background": "light"
     },
     "output_type": "display_data"
    },
    {
     "data": {
      "image/png": "[encoded data removed]",
      "text/plain": [
       "<Figure size 432x288 with 1 Axes>"
      ]
     },
     "metadata": {
      "needs_background": "light"
     },
     "output_type": "display_data"
    },
    {
     "data": {
      "image/png": "[encoded data removed]",
      "text/plain": [
       "<Figure size 432x288 with 1 Axes>"
      ]
     },
     "metadata": {
      "needs_background": "light"
     },
     "output_type": "display_data"
    }
   ],
   "source": [
    "#Boxplot\n",
    "import warnings\n",
    "warnings.filterwarnings('ignore')\n",
    "import matplotlib.pyplot as plt\n",
    "import seaborn as sns\n",
    "cols = ['amount','oldbalanceOrg','newbalanceOrig','oldbalanceDest', 'newbalanceDest']\n",
    "for i in cols:\n",
    "    sns.boxplot(df[i],whis=1.5)\n",
    "    plt.grid()\n",
    "    plt.show();"
   ]
  },
  {
   "cell_type": "markdown",
   "id": "c47b2e21",
   "metadata": {},
   "source": [
    "From the above results, we conclude the boxplots of the columns that are fed by us."
   ]
  },
  {
   "cell_type": "code",
   "execution_count": 214,
   "id": "c3202c14",
   "metadata": {},
   "outputs": [
    {
     "data": {
      "image/png": "[encoded data removed]",
      "text/plain": [
       "<Figure size 720x720 with 9 Axes>"
      ]
     },
     "metadata": {
      "needs_background": "light"
     },
     "output_type": "display_data"
    }
   ],
   "source": [
    "#Histogram\n",
    "import matplotlib.pyplot as plt\n",
    "fig=df.hist(figsize=(10,10),color='lightblue')\n",
    "plt.show()"
   ]
  },
  {
   "cell_type": "markdown",
   "id": "35c431aa",
   "metadata": {},
   "source": [
    "From the above results, we conclude the histogram of the given dataset."
   ]
  },
  {
   "cell_type": "markdown",
   "id": "82ae8e4e",
   "metadata": {},
   "source": [
    "<a id='Checking Outliers'></a>\n",
    "## 5. Checking Outliers\n"
   ]
  },
  {
   "cell_type": "code",
   "execution_count": 215,
   "id": "21e4500c",
   "metadata": {},
   "outputs": [],
   "source": [
    "# getting columns\n",
    "import numpy\n",
    "cols=['amount','oldbalanceOrg','newbalanceOrig','oldbalanceDest', 'newbalanceDest']"
   ]
  },
  {
   "cell_type": "markdown",
   "id": "bc579dfd",
   "metadata": {},
   "source": [
    "Here, we are getting only the required columns for checking the outliers."
   ]
  },
  {
   "cell_type": "code",
   "execution_count": 216,
   "id": "088b930e",
   "metadata": {},
   "outputs": [],
   "source": [
    "# IQR method (Inter Quantile Range Method)\n",
    "\n",
    "p0=[]\n",
    "p100=[]\n",
    "iqr=[]\n",
    "\n",
    "q1=[]\n",
    "q2=[]\n",
    "q3=[]\n",
    "\n",
    "\n",
    "for i in cols:\n",
    "\n",
    "  if type(df[i][0]) in [numpy.float64,numpy.int64] :\n",
    "    \n",
    "    p0.append(df[i].min())\n",
    "\n",
    "    p100.append(df[i].max())\n",
    "\n",
    "    x=df[i].quantile(0.25)                   # 25th quantile\n",
    "\n",
    "    y= df[i].quantile(0.50)                    # 50th quantile\n",
    "\n",
    "    z= df[i].quantile(0.75)                    # 75th quantile\n",
    "    \n",
    "    q1.append(x)\n",
    "    q2.append(y)\n",
    "    q3.append(z)\n",
    "    \n",
    "    iqr.append(z-x)                            # Inter Quantile Range\n",
    "  else:\n",
    "    p0.append(None)\n",
    "\n",
    "    p100.append(None)\n",
    "\n",
    "    iqr.append(None)\n",
    "\n",
    "    q1.append(None)\n",
    "    q2.append(None)\n",
    "    q3.append(None)"
   ]
  },
  {
   "cell_type": "markdown",
   "id": "2356079d",
   "metadata": {},
   "source": [
    "For checking the outliers, we are using the **IQR** method."
   ]
  },
  {
   "cell_type": "code",
   "execution_count": 217,
   "id": "4eca8f58",
   "metadata": {},
   "outputs": [
    {
     "name": "stdout",
     "output_type": "stream",
     "text": [
      "2.39 \t 10000000.0 \t 144137.13999999998\n",
      "0.0 \t 22352310.12 \t 156178.32749999998\n",
      "0.0 \t 22465998.18 \t 160842.4925\n",
      "0.0 \t 22787471.89 \t 316426.6075\n",
      "0.0 \t 28783585.38 \t 514823.4\n"
     ]
    }
   ],
   "source": [
    "n=len(cols)\n",
    "for i in range(0,n):\n",
    "  print(p0[i],'\\t',p100[i],'\\t',iqr[i])"
   ]
  },
  {
   "cell_type": "code",
   "execution_count": 218,
   "id": "f0ab32e2",
   "metadata": {},
   "outputs": [],
   "source": [
    "lower_cutoff=[]\n",
    "upper_cutoff=[]\n",
    "i=0\n",
    "for i in range(0,n):\n",
    "  if (iqr[i]!=None) and (q1[i]!=None) and (q3[i]!=None):\n",
    "    lower_cutoff.append(q1[i]- 1.5*iqr[i])\n",
    "    upper_cutoff.append(q3[i]+ 1.5*iqr[i])\n",
    "  else:\n",
    "    lower_cutoff.append(None)\n",
    "    upper_cutoff.append(None)\n",
    "              "
   ]
  },
  {
   "cell_type": "code",
   "execution_count": 219,
   "id": "5a44821c",
   "metadata": {},
   "outputs": [
    {
     "name": "stdout",
     "output_type": "stream",
     "text": [
      "[-210624.22749999995, -234267.49124999996, -241263.73875, -474639.91125, -772235.1000000001]\n",
      "[365924.33249999996, 390445.81875, 402106.23124999995, 791066.51875, 1287058.5]\n"
     ]
    }
   ],
   "source": [
    "print(lower_cutoff)\n",
    "print(upper_cutoff)"
   ]
  },
  {
   "cell_type": "code",
   "execution_count": 220,
   "id": "7c27c992",
   "metadata": {},
   "outputs": [
    {
     "data": {
      "image/png": "[encoded data removed]",
      "text/plain": [
       "<Figure size 432x288 with 1 Axes>"
      ]
     },
     "metadata": {
      "needs_background": "light"
     },
     "output_type": "display_data"
    },
    {
     "data": {
      "image/png": "[encoded data removed]",
      "text/plain": [
       "<Figure size 432x288 with 1 Axes>"
      ]
     },
     "metadata": {
      "needs_background": "light"
     },
     "output_type": "display_data"
    },
    {
     "data": {
      "image/png": "[encoded data removed]",
      "text/plain": [
       "<Figure size 432x288 with 1 Axes>"
      ]
     },
     "metadata": {
      "needs_background": "light"
     },
     "output_type": "display_data"
    },
    {
     "data": {
      "image/png": "[encoded data removed]",
      "text/plain": [
       "<Figure size 432x288 with 1 Axes>"
      ]
     },
     "metadata": {
      "needs_background": "light"
     },
     "output_type": "display_data"
    },
    {
     "data": {
      "image/png": "[encoded data removed]",
      "text/plain": [
       "<Figure size 432x288 with 1 Axes>"
      ]
     },
     "metadata": {
      "needs_background": "light"
     },
     "output_type": "display_data"
    }
   ],
   "source": [
    "# box plot for the outliers\n",
    "\n",
    "for i in cols:\n",
    "  df[i].plot(title=i,kind='box')\n",
    "  plt.show()"
   ]
  },
  {
   "cell_type": "markdown",
   "id": "32d92e37",
   "metadata": {},
   "source": [
    "From the above results, we conclude that the **outliers are present**in the given dataset.\n",
    "\n",
    "But there is **no need to clip the outliers** , because if **we remove the outliers , couldn't able to the fraudulents transactions**. "
   ]
  },
  {
   "cell_type": "markdown",
   "id": "ec45e913",
   "metadata": {},
   "source": [
    "<a id=\"Balancing of Data\"> </a>\n",
    "## 6. Balancing of Data"
   ]
  },
  {
   "cell_type": "markdown",
   "id": "502a9416",
   "metadata": {},
   "source": [
    "The Balancing of the given Dataset is an important feature, Her are using the **SMOTE(Synthetic Minority Oversampling Technique)**."
   ]
  },
  {
   "cell_type": "code",
   "execution_count": 221,
   "id": "84c30f0f",
   "metadata": {},
   "outputs": [],
   "source": [
    "# dropping the nameOrig and nameDest columns as they are of no use\n",
    "\n",
    "df.drop([\"nameOrig\" , \"nameDest\"] , inplace = True , axis =1)"
   ]
  },
  {
   "cell_type": "code",
   "execution_count": 222,
   "id": "d7555b23",
   "metadata": {},
   "outputs": [
    {
     "data": {
      "text/html": [
       "<div>\n",
       "<style scoped>\n",
       "    .dataframe tbody tr th:only-of-type {\n",
       "        vertical-align: middle;\n",
       "    }\n",
       "\n",
       "    .dataframe tbody tr th {\n",
       "        vertical-align: top;\n",
       "    }\n",
       "\n",
       "    .dataframe thead th {\n",
       "        text-align: right;\n",
       "    }\n",
       "</style>\n",
       "<table border=\"1\" class=\"dataframe\">\n",
       "  <thead>\n",
       "    <tr style=\"text-align: right;\">\n",
       "      <th></th>\n",
       "      <th>step</th>\n",
       "      <th>type</th>\n",
       "      <th>amount</th>\n",
       "      <th>oldbalanceOrg</th>\n",
       "      <th>newbalanceOrig</th>\n",
       "      <th>oldbalanceDest</th>\n",
       "      <th>newbalanceDest</th>\n",
       "      <th>isFraud</th>\n",
       "      <th>isFlaggedFraud</th>\n",
       "    </tr>\n",
       "  </thead>\n",
       "  <tbody>\n",
       "    <tr>\n",
       "      <th>0</th>\n",
       "      <td>1</td>\n",
       "      <td>3</td>\n",
       "      <td>9839.64</td>\n",
       "      <td>170136.0</td>\n",
       "      <td>160296.36</td>\n",
       "      <td>0.0</td>\n",
       "      <td>0.0</td>\n",
       "      <td>0</td>\n",
       "      <td>0</td>\n",
       "    </tr>\n",
       "    <tr>\n",
       "      <th>1</th>\n",
       "      <td>1</td>\n",
       "      <td>3</td>\n",
       "      <td>1864.28</td>\n",
       "      <td>21249.0</td>\n",
       "      <td>19384.72</td>\n",
       "      <td>0.0</td>\n",
       "      <td>0.0</td>\n",
       "      <td>0</td>\n",
       "      <td>0</td>\n",
       "    </tr>\n",
       "    <tr>\n",
       "      <th>2</th>\n",
       "      <td>1</td>\n",
       "      <td>4</td>\n",
       "      <td>181.00</td>\n",
       "      <td>181.0</td>\n",
       "      <td>0.00</td>\n",
       "      <td>0.0</td>\n",
       "      <td>0.0</td>\n",
       "      <td>1</td>\n",
       "      <td>0</td>\n",
       "    </tr>\n",
       "    <tr>\n",
       "      <th>3</th>\n",
       "      <td>1</td>\n",
       "      <td>1</td>\n",
       "      <td>181.00</td>\n",
       "      <td>181.0</td>\n",
       "      <td>0.00</td>\n",
       "      <td>21182.0</td>\n",
       "      <td>0.0</td>\n",
       "      <td>1</td>\n",
       "      <td>0</td>\n",
       "    </tr>\n",
       "    <tr>\n",
       "      <th>4</th>\n",
       "      <td>1</td>\n",
       "      <td>3</td>\n",
       "      <td>11668.14</td>\n",
       "      <td>41554.0</td>\n",
       "      <td>29885.86</td>\n",
       "      <td>0.0</td>\n",
       "      <td>0.0</td>\n",
       "      <td>0</td>\n",
       "      <td>0</td>\n",
       "    </tr>\n",
       "  </tbody>\n",
       "</table>\n",
       "</div>"
      ],
      "text/plain": [
       "   step  type    amount  oldbalanceOrg  newbalanceOrig  oldbalanceDest  \\\n",
       "0     1     3   9839.64       170136.0       160296.36             0.0   \n",
       "1     1     3   1864.28        21249.0        19384.72             0.0   \n",
       "2     1     4    181.00          181.0            0.00             0.0   \n",
       "3     1     1    181.00          181.0            0.00         21182.0   \n",
       "4     1     3  11668.14        41554.0        29885.86             0.0   \n",
       "\n",
       "   newbalanceDest  isFraud  isFlaggedFraud  \n",
       "0             0.0        0               0  \n",
       "1             0.0        0               0  \n",
       "2             0.0        1               0  \n",
       "3             0.0        1               0  \n",
       "4             0.0        0               0  "
      ]
     },
     "execution_count": 222,
     "metadata": {},
     "output_type": "execute_result"
    }
   ],
   "source": [
    "# label encoding of the type feature.\n",
    "\n",
    "from sklearn.preprocessing import LabelEncoder\n",
    "\n",
    "label_encoder = LabelEncoder()\n",
    "df[\"type\"] = label_encoder.fit_transform(df[\"type\"])\n",
    "df.head()"
   ]
  },
  {
   "cell_type": "markdown",
   "id": "29717714",
   "metadata": {},
   "source": [
    "Here,By using Label_Encoder method, we conclude with the tranformation of the categorical values into numerical values."
   ]
  },
  {
   "cell_type": "markdown",
   "id": "1268e81b",
   "metadata": {},
   "source": [
    "SMOTE (Synthetic Minority Oversampling Technique) for balancing data"
   ]
  },
  {
   "cell_type": "code",
   "execution_count": 223,
   "id": "5f376ac8",
   "metadata": {},
   "outputs": [],
   "source": [
    " #splitting features and the target variable\n",
    "# consider all the columns except 'target' using 'iloc'\n",
    "# here id is not required for analysis\n",
    "df_features = df.iloc[:, df.columns != 'isFraud']\n",
    "# consider the target variable\n",
    "df_target = df.iloc[:,df.columns == 'isFraud']"
   ]
  },
  {
   "cell_type": "code",
   "execution_count": 224,
   "id": "973643f0",
   "metadata": {},
   "outputs": [
    {
     "data": {
      "text/plain": [
       "0    22475\n",
       "1       81\n",
       "Name: isFraud, dtype: int64"
      ]
     },
     "execution_count": 224,
     "metadata": {},
     "output_type": "execute_result"
    }
   ],
   "source": [
    "# get counts of 0's and 1's in the 'target' variable using 'value_counts()'\n",
    "# store the values in 'class_frequency'\n",
    "class_frequency = df_target.isFraud.value_counts()\n",
    "class_frequency"
   ]
  },
  {
   "cell_type": "code",
   "execution_count": 225,
   "id": "a03af487",
   "metadata": {},
   "outputs": [
    {
     "data": {
      "image/png": "[encoded data removed]",
      "text/plain": [
       "<Figure size 432x288 with 1 Axes>"
      ]
     },
     "metadata": {
      "needs_background": "light"
     },
     "output_type": "display_data"
    }
   ],
   "source": [
    "xx = df['isFraud'].value_counts().reset_index()\n",
    "sns.barplot(x = \"index\", y = \"isFraud\", data=xx, palette = \"cividis\");"
   ]
  },
  {
   "cell_type": "markdown",
   "id": "dff76037",
   "metadata": {},
   "source": [
    "The above graph describes the imbalancing of the data."
   ]
  },
  {
   "cell_type": "code",
   "execution_count": 226,
   "id": "4bea5f06",
   "metadata": {},
   "outputs": [
    {
     "data": {
      "text/html": [
       "<div>\n",
       "<style scoped>\n",
       "    .dataframe tbody tr th:only-of-type {\n",
       "        vertical-align: middle;\n",
       "    }\n",
       "\n",
       "    .dataframe tbody tr th {\n",
       "        vertical-align: top;\n",
       "    }\n",
       "\n",
       "    .dataframe thead th {\n",
       "        text-align: right;\n",
       "    }\n",
       "</style>\n",
       "<table border=\"1\" class=\"dataframe\">\n",
       "  <thead>\n",
       "    <tr style=\"text-align: right;\">\n",
       "      <th></th>\n",
       "      <th>step</th>\n",
       "      <th>type</th>\n",
       "      <th>amount</th>\n",
       "      <th>oldbalanceOrg</th>\n",
       "      <th>newbalanceOrig</th>\n",
       "      <th>oldbalanceDest</th>\n",
       "      <th>newbalanceDest</th>\n",
       "      <th>isFlaggedFraud</th>\n",
       "      <th>isFraud</th>\n",
       "    </tr>\n",
       "  </thead>\n",
       "  <tbody>\n",
       "    <tr>\n",
       "      <th>0</th>\n",
       "      <td>1</td>\n",
       "      <td>3</td>\n",
       "      <td>9.839640e+03</td>\n",
       "      <td>1.701360e+05</td>\n",
       "      <td>160296.36</td>\n",
       "      <td>0.000000e+00</td>\n",
       "      <td>0.000000e+00</td>\n",
       "      <td>0</td>\n",
       "      <td>0</td>\n",
       "    </tr>\n",
       "    <tr>\n",
       "      <th>1</th>\n",
       "      <td>1</td>\n",
       "      <td>3</td>\n",
       "      <td>1.864280e+03</td>\n",
       "      <td>2.124900e+04</td>\n",
       "      <td>19384.72</td>\n",
       "      <td>0.000000e+00</td>\n",
       "      <td>0.000000e+00</td>\n",
       "      <td>0</td>\n",
       "      <td>0</td>\n",
       "    </tr>\n",
       "    <tr>\n",
       "      <th>2</th>\n",
       "      <td>1</td>\n",
       "      <td>4</td>\n",
       "      <td>1.810000e+02</td>\n",
       "      <td>1.810000e+02</td>\n",
       "      <td>0.00</td>\n",
       "      <td>0.000000e+00</td>\n",
       "      <td>0.000000e+00</td>\n",
       "      <td>0</td>\n",
       "      <td>1</td>\n",
       "    </tr>\n",
       "    <tr>\n",
       "      <th>3</th>\n",
       "      <td>1</td>\n",
       "      <td>1</td>\n",
       "      <td>1.810000e+02</td>\n",
       "      <td>1.810000e+02</td>\n",
       "      <td>0.00</td>\n",
       "      <td>2.118200e+04</td>\n",
       "      <td>0.000000e+00</td>\n",
       "      <td>0</td>\n",
       "      <td>1</td>\n",
       "    </tr>\n",
       "    <tr>\n",
       "      <th>4</th>\n",
       "      <td>1</td>\n",
       "      <td>3</td>\n",
       "      <td>1.166814e+04</td>\n",
       "      <td>4.155400e+04</td>\n",
       "      <td>29885.86</td>\n",
       "      <td>0.000000e+00</td>\n",
       "      <td>0.000000e+00</td>\n",
       "      <td>0</td>\n",
       "      <td>0</td>\n",
       "    </tr>\n",
       "    <tr>\n",
       "      <th>...</th>\n",
       "      <td>...</td>\n",
       "      <td>...</td>\n",
       "      <td>...</td>\n",
       "      <td>...</td>\n",
       "      <td>...</td>\n",
       "      <td>...</td>\n",
       "      <td>...</td>\n",
       "      <td>...</td>\n",
       "      <td>...</td>\n",
       "    </tr>\n",
       "    <tr>\n",
       "      <th>44945</th>\n",
       "      <td>1</td>\n",
       "      <td>4</td>\n",
       "      <td>2.424539e+04</td>\n",
       "      <td>2.424539e+04</td>\n",
       "      <td>0.00</td>\n",
       "      <td>0.000000e+00</td>\n",
       "      <td>0.000000e+00</td>\n",
       "      <td>0</td>\n",
       "      <td>1</td>\n",
       "    </tr>\n",
       "    <tr>\n",
       "      <th>44946</th>\n",
       "      <td>5</td>\n",
       "      <td>2</td>\n",
       "      <td>1.200747e+05</td>\n",
       "      <td>1.200747e+05</td>\n",
       "      <td>0.00</td>\n",
       "      <td>0.000000e+00</td>\n",
       "      <td>5.094106e+04</td>\n",
       "      <td>0</td>\n",
       "      <td>1</td>\n",
       "    </tr>\n",
       "    <tr>\n",
       "      <th>44947</th>\n",
       "      <td>1</td>\n",
       "      <td>1</td>\n",
       "      <td>1.179383e+06</td>\n",
       "      <td>1.179383e+06</td>\n",
       "      <td>0.00</td>\n",
       "      <td>0.000000e+00</td>\n",
       "      <td>1.716068e+06</td>\n",
       "      <td>0</td>\n",
       "      <td>1</td>\n",
       "    </tr>\n",
       "    <tr>\n",
       "      <th>44948</th>\n",
       "      <td>2</td>\n",
       "      <td>1</td>\n",
       "      <td>1.262564e+06</td>\n",
       "      <td>9.866231e+05</td>\n",
       "      <td>0.00</td>\n",
       "      <td>1.217519e+06</td>\n",
       "      <td>8.507784e+06</td>\n",
       "      <td>0</td>\n",
       "      <td>1</td>\n",
       "    </tr>\n",
       "    <tr>\n",
       "      <th>44949</th>\n",
       "      <td>1</td>\n",
       "      <td>4</td>\n",
       "      <td>2.473925e+03</td>\n",
       "      <td>2.473925e+03</td>\n",
       "      <td>0.00</td>\n",
       "      <td>0.000000e+00</td>\n",
       "      <td>0.000000e+00</td>\n",
       "      <td>0</td>\n",
       "      <td>1</td>\n",
       "    </tr>\n",
       "  </tbody>\n",
       "</table>\n",
       "<p>44950 rows × 9 columns</p>\n",
       "</div>"
      ],
      "text/plain": [
       "       step  type        amount  oldbalanceOrg  newbalanceOrig  \\\n",
       "0         1     3  9.839640e+03   1.701360e+05       160296.36   \n",
       "1         1     3  1.864280e+03   2.124900e+04        19384.72   \n",
       "2         1     4  1.810000e+02   1.810000e+02            0.00   \n",
       "3         1     1  1.810000e+02   1.810000e+02            0.00   \n",
       "4         1     3  1.166814e+04   4.155400e+04        29885.86   \n",
       "...     ...   ...           ...            ...             ...   \n",
       "44945     1     4  2.424539e+04   2.424539e+04            0.00   \n",
       "44946     5     2  1.200747e+05   1.200747e+05            0.00   \n",
       "44947     1     1  1.179383e+06   1.179383e+06            0.00   \n",
       "44948     2     1  1.262564e+06   9.866231e+05            0.00   \n",
       "44949     1     4  2.473925e+03   2.473925e+03            0.00   \n",
       "\n",
       "       oldbalanceDest  newbalanceDest  isFlaggedFraud  isFraud  \n",
       "0        0.000000e+00    0.000000e+00               0        0  \n",
       "1        0.000000e+00    0.000000e+00               0        0  \n",
       "2        0.000000e+00    0.000000e+00               0        1  \n",
       "3        2.118200e+04    0.000000e+00               0        1  \n",
       "4        0.000000e+00    0.000000e+00               0        0  \n",
       "...               ...             ...             ...      ...  \n",
       "44945    0.000000e+00    0.000000e+00               0        1  \n",
       "44946    0.000000e+00    5.094106e+04               0        1  \n",
       "44947    0.000000e+00    1.716068e+06               0        1  \n",
       "44948    1.217519e+06    8.507784e+06               0        1  \n",
       "44949    0.000000e+00    0.000000e+00               0        1  \n",
       "\n",
       "[44950 rows x 9 columns]"
      ]
     },
     "execution_count": 226,
     "metadata": {},
     "output_type": "execute_result"
    }
   ],
   "source": [
    "from imblearn.over_sampling import SMOTE\n",
    "col_names = list(df_features.columns)\n",
    "\n",
    "\n",
    "X = df_features[col_names]\n",
    "y = df_target['isFraud']\n",
    "\n",
    "oversample = SMOTE()\n",
    "X, y = oversample.fit_resample(X, y)\n",
    "\n",
    "\n",
    "df = pd.concat([pd.DataFrame(X), pd.DataFrame(y)], axis=1)\n",
    "df.columns = col_names + ['isFraud']\n",
    "df\n"
   ]
  },
  {
   "cell_type": "code",
   "execution_count": 227,
   "id": "04c3b93e",
   "metadata": {},
   "outputs": [
    {
     "data": {
      "image/png": "[encoded data removed]",
      "text/plain": [
       "<Figure size 432x288 with 1 Axes>"
      ]
     },
     "metadata": {
      "needs_background": "light"
     },
     "output_type": "display_data"
    }
   ],
   "source": [
    "xx = df['isFraud'].value_counts().reset_index()\n",
    "sns.barplot(x = \"index\", y = \"isFraud\", data=xx, palette = \"cividis\");"
   ]
  },
  {
   "cell_type": "markdown",
   "id": "668450be",
   "metadata": {},
   "source": [
    "From the above graph, we conclude that the proper balancing of the given dataset."
   ]
  },
  {
   "cell_type": "markdown",
   "id": "55a079c5",
   "metadata": {},
   "source": [
    "<a id=\"Classification of Models\"> </a>\n",
    "## 7. Feature Selection "
   ]
  },
  {
   "cell_type": "markdown",
   "id": "c4151f8e",
   "metadata": {},
   "source": [
    "**7.1 LOGISTIC_REGRESSION**"
   ]
  },
  {
   "cell_type": "code",
   "execution_count": 228,
   "id": "420a5b52",
   "metadata": {},
   "outputs": [],
   "source": [
    "#Logistic Regression\n",
    "#Assinging the x and y values for the dataset.\n",
    "x = df.drop(['isFraud'], axis = 1)\n",
    "y = df['isFraud']\n"
   ]
  },
  {
   "cell_type": "code",
   "execution_count": 229,
   "id": "f2a2c3d2",
   "metadata": {},
   "outputs": [],
   "source": [
    "# Splitting the dataset into the Training set and Test set\n",
    "\n",
    "x_train, x_test, y_train, y_test = train_test_split(x, y, test_size = 0.25, random_state = 0)\n"
   ]
  },
  {
   "cell_type": "code",
   "execution_count": 230,
   "id": "8bfb64d9",
   "metadata": {},
   "outputs": [],
   "source": [
    "#scaling\n",
    "from sklearn.preprocessing import StandardScaler\n",
    "sc=StandardScaler()\n",
    "x_train=sc.fit_transform(x_train)\n",
    "x_test=sc.transform(x_test)"
   ]
  },
  {
   "cell_type": "code",
   "execution_count": 231,
   "id": "a82aa814",
   "metadata": {},
   "outputs": [
    {
     "data": {
      "text/html": [
       "<style>#sk-container-id-7 {color: black;background-color: white;}#sk-container-id-7 pre{padding: 0;}#sk-container-id-7 div.sk-toggleable {background-color: white;}#sk-container-id-7 label.sk-toggleable__label {cursor: pointer;display: block;width: 100%;margin-bottom: 0;padding: 0.3em;box-sizing: border-box;text-align: center;}#sk-container-id-7 label.sk-toggleable__label-arrow:before {content: \"▸\";float: left;margin-right: 0.25em;color: #696969;}#sk-container-id-7 label.sk-toggleable__label-arrow:hover:before {color: black;}#sk-container-id-7 div.sk-estimator:hover label.sk-toggleable__label-arrow:before {color: black;}#sk-container-id-7 div.sk-toggleable__content {max-height: 0;max-width: 0;overflow: hidden;text-align: left;background-color: #f0f8ff;}#sk-container-id-7 div.sk-toggleable__content pre {margin: 0.2em;color: black;border-radius: 0.25em;background-color: #f0f8ff;}#sk-container-id-7 input.sk-toggleable__control:checked~div.sk-toggleable__content {max-height: 200px;max-width: 100%;overflow: auto;}#sk-container-id-7 input.sk-toggleable__control:checked~label.sk-toggleable__label-arrow:before {content: \"▾\";}#sk-container-id-7 div.sk-estimator input.sk-toggleable__control:checked~label.sk-toggleable__label {background-color: #d4ebff;}#sk-container-id-7 div.sk-label input.sk-toggleable__control:checked~label.sk-toggleable__label {background-color: #d4ebff;}#sk-container-id-7 input.sk-hidden--visually {border: 0;clip: rect(1px 1px 1px 1px);clip: rect(1px, 1px, 1px, 1px);height: 1px;margin: -1px;overflow: hidden;padding: 0;position: absolute;width: 1px;}#sk-container-id-7 div.sk-estimator {font-family: monospace;background-color: #f0f8ff;border: 1px dotted black;border-radius: 0.25em;box-sizing: border-box;margin-bottom: 0.5em;}#sk-container-id-7 div.sk-estimator:hover {background-color: #d4ebff;}#sk-container-id-7 div.sk-parallel-item::after {content: \"\";width: 100%;border-bottom: 1px solid gray;flex-grow: 1;}#sk-container-id-7 div.sk-label:hover label.sk-toggleable__label {background-color: #d4ebff;}#sk-container-id-7 div.sk-serial::before {content: \"\";position: absolute;border-left: 1px solid gray;box-sizing: border-box;top: 0;bottom: 0;left: 50%;z-index: 0;}#sk-container-id-7 div.sk-serial {display: flex;flex-direction: column;align-items: center;background-color: white;padding-right: 0.2em;padding-left: 0.2em;position: relative;}#sk-container-id-7 div.sk-item {position: relative;z-index: 1;}#sk-container-id-7 div.sk-parallel {display: flex;align-items: stretch;justify-content: center;background-color: white;position: relative;}#sk-container-id-7 div.sk-item::before, #sk-container-id-7 div.sk-parallel-item::before {content: \"\";position: absolute;border-left: 1px solid gray;box-sizing: border-box;top: 0;bottom: 0;left: 50%;z-index: -1;}#sk-container-id-7 div.sk-parallel-item {display: flex;flex-direction: column;z-index: 1;position: relative;background-color: white;}#sk-container-id-7 div.sk-parallel-item:first-child::after {align-self: flex-end;width: 50%;}#sk-container-id-7 div.sk-parallel-item:last-child::after {align-self: flex-start;width: 50%;}#sk-container-id-7 div.sk-parallel-item:only-child::after {width: 0;}#sk-container-id-7 div.sk-dashed-wrapped {border: 1px dashed gray;margin: 0 0.4em 0.5em 0.4em;box-sizing: border-box;padding-bottom: 0.4em;background-color: white;}#sk-container-id-7 div.sk-label label {font-family: monospace;font-weight: bold;display: inline-block;line-height: 1.2em;}#sk-container-id-7 div.sk-label-container {text-align: center;}#sk-container-id-7 div.sk-container {/* jupyter's `normalize.less` sets `[hidden] { display: none; }` but bootstrap.min.css set `[hidden] { display: none !important; }` so we also need the `!important` here to be able to override the default hidden behavior on the sphinx rendered scikit-learn.org. See: https://github.com/scikit-learn/scikit-learn/issues/21755 */display: inline-block !important;position: relative;}#sk-container-id-7 div.sk-text-repr-fallback {display: none;}</style><div id=\"sk-container-id-7\" class=\"sk-top-container\"><div class=\"sk-text-repr-fallback\"><pre>LogisticRegression()</pre><b>In a Jupyter environment, please rerun this cell to show the HTML representation or trust the notebook. <br />On GitHub, the HTML representation is unable to render, please try loading this page with nbviewer.org.</b></div><div class=\"sk-container\" hidden><div class=\"sk-item\"><div class=\"sk-estimator sk-toggleable\"><input class=\"sk-toggleable__control sk-hidden--visually\" id=\"sk-estimator-id-7\" type=\"checkbox\" checked><label for=\"sk-estimator-id-7\" class=\"sk-toggleable__label sk-toggleable__label-arrow\">LogisticRegression</label><div class=\"sk-toggleable__content\"><pre>LogisticRegression()</pre></div></div></div></div></div>"
      ],
      "text/plain": [
       "LogisticRegression()"
      ]
     },
     "execution_count": 231,
     "metadata": {},
     "output_type": "execute_result"
    }
   ],
   "source": [
    "# Fitting Logistic Regression to the Training set\n",
    "\n",
    "from sklearn.linear_model import LogisticRegression\n",
    "model=LogisticRegression()\n",
    "model.fit(x_train,y_train)"
   ]
  },
  {
   "cell_type": "code",
   "execution_count": 232,
   "id": "1f2033e1",
   "metadata": {},
   "outputs": [],
   "source": [
    "#prediction\n",
    "y_pred=model.predict(x_test)"
   ]
  },
  {
   "cell_type": "code",
   "execution_count": 233,
   "id": "10feef8f",
   "metadata": {},
   "outputs": [
    {
     "data": {
      "text/plain": [
       "array([[9.99995478e-01, 4.52217992e-06],\n",
       "       [1.40820964e-01, 8.59179036e-01],\n",
       "       [1.00000000e+00, 1.43398062e-21],\n",
       "       ...,\n",
       "       [9.63847332e-06, 9.99990362e-01],\n",
       "       [1.00000000e+00, 4.40547238e-23],\n",
       "       [7.18953778e-01, 2.81046222e-01]])"
      ]
     },
     "execution_count": 233,
     "metadata": {},
     "output_type": "execute_result"
    }
   ],
   "source": [
    "#predicting the occurances of  probabilitiess for the data\n",
    "model.predict_proba(x_test)"
   ]
  },
  {
   "cell_type": "code",
   "execution_count": 234,
   "id": "2bf264c2",
   "metadata": {},
   "outputs": [
    {
     "data": {
      "text/plain": [
       "0.8646556326748531"
      ]
     },
     "execution_count": 234,
     "metadata": {},
     "output_type": "execute_result"
    }
   ],
   "source": [
    "#to measure the accuracy of model\n",
    "from sklearn.metrics import accuracy_score,confusion_matrix,classification_report\n",
    "accuracy_score(y_test,y_pred)"
   ]
  },
  {
   "cell_type": "code",
   "execution_count": 235,
   "id": "45612675",
   "metadata": {},
   "outputs": [
    {
     "data": {
      "text/plain": [
       "array([[4740,  866],\n",
       "       [ 655, 4977]], dtype=int64)"
      ]
     },
     "execution_count": 235,
     "metadata": {},
     "output_type": "execute_result"
    }
   ],
   "source": [
    "#Confusion matrix\n",
    "confusion_matrix(y_test,y_pred)"
   ]
  },
  {
   "cell_type": "code",
   "execution_count": 236,
   "id": "e57dbd65",
   "metadata": {},
   "outputs": [
    {
     "name": "stdout",
     "output_type": "stream",
     "text": [
      "              precision    recall  f1-score   support\n",
      "\n",
      "           0       0.88      0.85      0.86      5606\n",
      "           1       0.85      0.88      0.87      5632\n",
      "\n",
      "    accuracy                           0.86     11238\n",
      "   macro avg       0.87      0.86      0.86     11238\n",
      "weighted avg       0.87      0.86      0.86     11238\n",
      "\n"
     ]
    }
   ],
   "source": [
    "#Classification Report\n",
    "z=classification_report(y_test,y_pred)\n",
    "print(z)"
   ]
  },
  {
   "cell_type": "code",
   "execution_count": 237,
   "id": "0261b7e7",
   "metadata": {},
   "outputs": [],
   "source": [
    "#for computing Receiver operating characteristics\n",
    "from sklearn.metrics import roc_curve\n",
    "#for computing area under curve\n",
    "from sklearn.metrics import roc_auc_score"
   ]
  },
  {
   "cell_type": "code",
   "execution_count": 238,
   "id": "c4ab91ed",
   "metadata": {},
   "outputs": [
    {
     "name": "stdout",
     "output_type": "stream",
     "text": [
      "[4.52217992e-06 8.59179036e-01 1.43398062e-21 ... 9.99990362e-01\n",
      " 4.40547238e-23 2.81046222e-01]\n"
     ]
    }
   ],
   "source": [
    "#visualizing the ROC-AUC curve\n",
    "y_proba=model.predict_proba(x_test)\n",
    "\n",
    "#we take the predicted values of class 1\n",
    "y_predicted=y_proba[:,1]\n",
    "\n",
    "#we check to see if the right values have been considered from the predicted values\n",
    "print(y_predicted)"
   ]
  },
  {
   "cell_type": "code",
   "execution_count": 239,
   "id": "d62fd499",
   "metadata": {},
   "outputs": [],
   "source": [
    "#using roc_curve() to generate fpr & tpr values\n",
    "fpr,tpr,thresholds=roc_curve(y_test,y_predicted)"
   ]
  },
  {
   "cell_type": "code",
   "execution_count": 240,
   "id": "09be39a7",
   "metadata": {},
   "outputs": [
    {
     "name": "stdout",
     "output_type": "stream",
     "text": [
      "Area under the curve for first model 0.9185060763325821\n"
     ]
    }
   ],
   "source": [
    "#passing the fpr&tpr values to auc()to calculate the area under curve\n",
    "from sklearn.metrics import auc\n",
    "roc_auc=auc(fpr,tpr)\n",
    "print(\"Area under the curve for first model\",roc_auc)"
   ]
  },
  {
   "cell_type": "code",
   "execution_count": 241,
   "id": "04a29a91",
   "metadata": {},
   "outputs": [
    {
     "data": {
      "text/plain": [
       "Text(0, 0.5, 'True Positive Rate(Sensitivity)')"
      ]
     },
     "execution_count": 241,
     "metadata": {},
     "output_type": "execute_result"
    },
    {
     "data": {
      "image/png": "[encoded data removed]",
      "text/plain": [
       "<Figure size 432x288 with 1 Axes>"
      ]
     },
     "metadata": {
      "needs_background": "light"
     },
     "output_type": "display_data"
    }
   ],
   "source": [
    "#plotting the ROC curve\n",
    "import matplotlib.pyplot as plt\n",
    "plt.figure()\n",
    "plt.plot(fpr,tpr,color='orange',lw=2,label='ROC curve(area under curve=%0.2f)'%roc_auc)\n",
    "plt.plot([0,1],[0,1],color='darkgrey',lw=2,linestyle='--')\n",
    "plt.xlim([0.0,1.0])\n",
    "plt.ylim([0.0,1.0])\n",
    "plt.xlabel('False Positive Rate(1-Specificity)')\n",
    "plt.ylabel('True Positive Rate(Sensitivity)')\n"
   ]
  },
  {
   "cell_type": "code",
   "execution_count": 242,
   "id": "424f6cb9",
   "metadata": {},
   "outputs": [
    {
     "data": {
      "text/html": [
       "<div>\n",
       "<style scoped>\n",
       "    .dataframe tbody tr th:only-of-type {\n",
       "        vertical-align: middle;\n",
       "    }\n",
       "\n",
       "    .dataframe tbody tr th {\n",
       "        vertical-align: top;\n",
       "    }\n",
       "\n",
       "    .dataframe thead th {\n",
       "        text-align: right;\n",
       "    }\n",
       "</style>\n",
       "<table border=\"1\" class=\"dataframe\">\n",
       "  <thead>\n",
       "    <tr style=\"text-align: right;\">\n",
       "      <th></th>\n",
       "      <th>Model</th>\n",
       "      <th>AUC Score</th>\n",
       "      <th>Precision Score</th>\n",
       "      <th>Recall Score</th>\n",
       "      <th>Accuracy Score</th>\n",
       "      <th>f1-score</th>\n",
       "    </tr>\n",
       "  </thead>\n",
       "  <tbody>\n",
       "    <tr>\n",
       "      <th>0</th>\n",
       "      <td>Logistic_Regression</td>\n",
       "      <td>0.864611</td>\n",
       "      <td>0.851788</td>\n",
       "      <td>0.8837</td>\n",
       "      <td>0.864656</td>\n",
       "      <td>0.867451</td>\n",
       "    </tr>\n",
       "  </tbody>\n",
       "</table>\n",
       "</div>"
      ],
      "text/plain": [
       "                 Model  AUC Score  Precision Score  Recall Score  \\\n",
       "0  Logistic_Regression   0.864611         0.851788        0.8837   \n",
       "\n",
       "   Accuracy Score  f1-score  \n",
       "0        0.864656  0.867451  "
      ]
     },
     "execution_count": 242,
     "metadata": {},
     "output_type": "execute_result"
    }
   ],
   "source": [
    "from sklearn import metrics\n",
    "# create the result table for all accuracy scores\n",
    "# Accuracy measures considered for model comparision are 'Model', 'AUC Score', 'Precision Score', 'Recall Score','Accuracy Score','Kappa Score', 'f1 - score'\n",
    "\n",
    "# create a list of column names\n",
    "cols = ['Model', 'AUC Score', 'Precision Score', 'Recall Score','Accuracy Score','f1-score']\n",
    "\n",
    "# creating an empty dataframe of the colums\n",
    "result_tabulation = pd.DataFrame(columns = cols)\n",
    "\n",
    "# compiling the required information\n",
    "Logistic_Regression = pd.Series({'Model': \"Logistic_Regression\",\n",
    "                     'AUC Score' : metrics.roc_auc_score(y_test, y_pred),\n",
    "                 'Precision Score': metrics.precision_score(y_test, y_pred),\n",
    "                 'Recall Score': metrics.recall_score(y_test, y_pred),\n",
    "                 'Accuracy Score': metrics.accuracy_score(y_test, y_pred),\n",
    "                  'f1-score':metrics.f1_score(y_test, y_pred)})\n",
    "\n",
    "\n",
    "\n",
    "# appending our result table\n",
    "result_tabulation = result_tabulation.append(Logistic_Regression , ignore_index = True)\n",
    "\n",
    "# view the result table\n",
    "result_tabulation"
   ]
  },
  {
   "cell_type": "markdown",
   "id": "e4f982ab",
   "metadata": {},
   "source": [
    "The above table shows the 'Model', 'AUC Score', 'Precision Score', 'Recall Score','Accuracy Score','f1 - score' are predicted for the Logistic_Regression."
   ]
  },
  {
   "cell_type": "markdown",
   "id": "6659cec7",
   "metadata": {},
   "source": [
    "**7.2 LOGISTICREGRESSION HYPERPARAMETER TUNING USING GRIDSEARCHCV**"
   ]
  },
  {
   "cell_type": "code",
   "execution_count": 243,
   "id": "d33333fd",
   "metadata": {},
   "outputs": [
    {
     "name": "stdout",
     "output_type": "stream",
     "text": [
      "tuned hpyerparameters :(best parameters)  {'C': 1000.0, 'penalty': 'l2'}\n",
      "accuracy : 0.9272366387930268\n"
     ]
    }
   ],
   "source": [
    "# Grid search cross validation\n",
    "from sklearn.model_selection import GridSearchCV\n",
    "from sklearn.linear_model import LogisticRegression\n",
    "grid={\"C\":np.logspace(-3,3,7), \"penalty\":[\"l1\",\"l2\"]}# l1 lasso l2 ridge\n",
    "logreg=LogisticRegression()\n",
    "logreg_cv=GridSearchCV(logreg,grid,cv=10)\n",
    "logreg_cv.fit(x_train,y_train)\n",
    "\n",
    "print(\"tuned hpyerparameters :(best parameters) \",logreg_cv.best_params_)\n",
    "print(\"accuracy :\",logreg_cv.best_score_)"
   ]
  },
  {
   "cell_type": "code",
   "execution_count": 244,
   "id": "36a7782d",
   "metadata": {},
   "outputs": [
    {
     "data": {
      "text/html": [
       "<div>\n",
       "<style scoped>\n",
       "    .dataframe tbody tr th:only-of-type {\n",
       "        vertical-align: middle;\n",
       "    }\n",
       "\n",
       "    .dataframe tbody tr th {\n",
       "        vertical-align: top;\n",
       "    }\n",
       "\n",
       "    .dataframe thead th {\n",
       "        text-align: right;\n",
       "    }\n",
       "</style>\n",
       "<table border=\"1\" class=\"dataframe\">\n",
       "  <thead>\n",
       "    <tr style=\"text-align: right;\">\n",
       "      <th></th>\n",
       "      <th>Model</th>\n",
       "      <th>AUC Score</th>\n",
       "      <th>Precision Score</th>\n",
       "      <th>Recall Score</th>\n",
       "      <th>Accuracy Score</th>\n",
       "      <th>f1-score</th>\n",
       "    </tr>\n",
       "  </thead>\n",
       "  <tbody>\n",
       "    <tr>\n",
       "      <th>0</th>\n",
       "      <td>Logistic_Regression</td>\n",
       "      <td>0.864611</td>\n",
       "      <td>0.851788</td>\n",
       "      <td>0.8837</td>\n",
       "      <td>0.864656</td>\n",
       "      <td>0.867451</td>\n",
       "    </tr>\n",
       "    <tr>\n",
       "      <th>1</th>\n",
       "      <td>GridSearchCV</td>\n",
       "      <td>-</td>\n",
       "      <td>-</td>\n",
       "      <td>-</td>\n",
       "      <td>0.927237</td>\n",
       "      <td>-</td>\n",
       "    </tr>\n",
       "  </tbody>\n",
       "</table>\n",
       "</div>"
      ],
      "text/plain": [
       "                 Model AUC Score Precision Score Recall Score  Accuracy Score  \\\n",
       "0  Logistic_Regression  0.864611        0.851788       0.8837        0.864656   \n",
       "1         GridSearchCV         -               -            -        0.927237   \n",
       "\n",
       "   f1-score  \n",
       "0  0.867451  \n",
       "1         -  "
      ]
     },
     "execution_count": 244,
     "metadata": {},
     "output_type": "execute_result"
    }
   ],
   "source": [
    "\n",
    "# compiling the required information\n",
    "GridSearchCV = pd.Series({'Model': \"GridSearchCV\",\n",
    "                     'AUC Score' : \"-\",\n",
    "                 'Precision Score': \"-\",\n",
    "                 'Recall Score': \"-\",\n",
    "                 'Accuracy Score': logreg_cv.best_score_,\n",
    "                  'f1-score':\"-\"})\n",
    "\n",
    "\n",
    "\n",
    "# appending our result table\n",
    "result_tabulation = result_tabulation.append(GridSearchCV , ignore_index = True)\n",
    "\n",
    "# view the result table\n",
    "result_tabulation"
   ]
  },
  {
   "cell_type": "markdown",
   "id": "d1f8005b",
   "metadata": {},
   "source": [
    "GridSearchCV is used here only for the improvement of the accuracy_score "
   ]
  },
  {
   "cell_type": "markdown",
   "id": "2834ce08",
   "metadata": {},
   "source": [
    "**7.3 RANDOM_FOREST_CLASSIFIER**"
   ]
  },
  {
   "cell_type": "code",
   "execution_count": 245,
   "id": "9d89e93e",
   "metadata": {},
   "outputs": [],
   "source": [
    "#RandomForestClassifier \n",
    "x = df.drop(['isFraud'], axis = 1)\n",
    "y = df['isFraud']"
   ]
  },
  {
   "cell_type": "code",
   "execution_count": 246,
   "id": "5a5d77ae",
   "metadata": {},
   "outputs": [],
   "source": [
    "# Splitting the dataset into the Training set and Test set\n",
    "from sklearn.model_selection import train_test_split\n",
    "x_train, x_test, y_train, y_test = train_test_split(x, y, test_size = 0.25, random_state = 0)"
   ]
  },
  {
   "cell_type": "code",
   "execution_count": 247,
   "id": "c305946e",
   "metadata": {},
   "outputs": [],
   "source": [
    "#scaling\n",
    "from sklearn.preprocessing import StandardScaler\n",
    "sc=StandardScaler()\n",
    "x_train=sc.fit_transform(x_train)\n",
    "x_test=sc.transform(x_test)"
   ]
  },
  {
   "cell_type": "code",
   "execution_count": 248,
   "id": "ae4cee41",
   "metadata": {},
   "outputs": [
    {
     "data": {
      "text/html": [
       "<style>#sk-container-id-8 {color: black;background-color: white;}#sk-container-id-8 pre{padding: 0;}#sk-container-id-8 div.sk-toggleable {background-color: white;}#sk-container-id-8 label.sk-toggleable__label {cursor: pointer;display: block;width: 100%;margin-bottom: 0;padding: 0.3em;box-sizing: border-box;text-align: center;}#sk-container-id-8 label.sk-toggleable__label-arrow:before {content: \"▸\";float: left;margin-right: 0.25em;color: #696969;}#sk-container-id-8 label.sk-toggleable__label-arrow:hover:before {color: black;}#sk-container-id-8 div.sk-estimator:hover label.sk-toggleable__label-arrow:before {color: black;}#sk-container-id-8 div.sk-toggleable__content {max-height: 0;max-width: 0;overflow: hidden;text-align: left;background-color: #f0f8ff;}#sk-container-id-8 div.sk-toggleable__content pre {margin: 0.2em;color: black;border-radius: 0.25em;background-color: #f0f8ff;}#sk-container-id-8 input.sk-toggleable__control:checked~div.sk-toggleable__content {max-height: 200px;max-width: 100%;overflow: auto;}#sk-container-id-8 input.sk-toggleable__control:checked~label.sk-toggleable__label-arrow:before {content: \"▾\";}#sk-container-id-8 div.sk-estimator input.sk-toggleable__control:checked~label.sk-toggleable__label {background-color: #d4ebff;}#sk-container-id-8 div.sk-label input.sk-toggleable__control:checked~label.sk-toggleable__label {background-color: #d4ebff;}#sk-container-id-8 input.sk-hidden--visually {border: 0;clip: rect(1px 1px 1px 1px);clip: rect(1px, 1px, 1px, 1px);height: 1px;margin: -1px;overflow: hidden;padding: 0;position: absolute;width: 1px;}#sk-container-id-8 div.sk-estimator {font-family: monospace;background-color: #f0f8ff;border: 1px dotted black;border-radius: 0.25em;box-sizing: border-box;margin-bottom: 0.5em;}#sk-container-id-8 div.sk-estimator:hover {background-color: #d4ebff;}#sk-container-id-8 div.sk-parallel-item::after {content: \"\";width: 100%;border-bottom: 1px solid gray;flex-grow: 1;}#sk-container-id-8 div.sk-label:hover label.sk-toggleable__label {background-color: #d4ebff;}#sk-container-id-8 div.sk-serial::before {content: \"\";position: absolute;border-left: 1px solid gray;box-sizing: border-box;top: 0;bottom: 0;left: 50%;z-index: 0;}#sk-container-id-8 div.sk-serial {display: flex;flex-direction: column;align-items: center;background-color: white;padding-right: 0.2em;padding-left: 0.2em;position: relative;}#sk-container-id-8 div.sk-item {position: relative;z-index: 1;}#sk-container-id-8 div.sk-parallel {display: flex;align-items: stretch;justify-content: center;background-color: white;position: relative;}#sk-container-id-8 div.sk-item::before, #sk-container-id-8 div.sk-parallel-item::before {content: \"\";position: absolute;border-left: 1px solid gray;box-sizing: border-box;top: 0;bottom: 0;left: 50%;z-index: -1;}#sk-container-id-8 div.sk-parallel-item {display: flex;flex-direction: column;z-index: 1;position: relative;background-color: white;}#sk-container-id-8 div.sk-parallel-item:first-child::after {align-self: flex-end;width: 50%;}#sk-container-id-8 div.sk-parallel-item:last-child::after {align-self: flex-start;width: 50%;}#sk-container-id-8 div.sk-parallel-item:only-child::after {width: 0;}#sk-container-id-8 div.sk-dashed-wrapped {border: 1px dashed gray;margin: 0 0.4em 0.5em 0.4em;box-sizing: border-box;padding-bottom: 0.4em;background-color: white;}#sk-container-id-8 div.sk-label label {font-family: monospace;font-weight: bold;display: inline-block;line-height: 1.2em;}#sk-container-id-8 div.sk-label-container {text-align: center;}#sk-container-id-8 div.sk-container {/* jupyter's `normalize.less` sets `[hidden] { display: none; }` but bootstrap.min.css set `[hidden] { display: none !important; }` so we also need the `!important` here to be able to override the default hidden behavior on the sphinx rendered scikit-learn.org. See: https://github.com/scikit-learn/scikit-learn/issues/21755 */display: inline-block !important;position: relative;}#sk-container-id-8 div.sk-text-repr-fallback {display: none;}</style><div id=\"sk-container-id-8\" class=\"sk-top-container\"><div class=\"sk-text-repr-fallback\"><pre>RandomForestClassifier(criterion=&#x27;entropy&#x27;, n_estimators=10, random_state=0)</pre><b>In a Jupyter environment, please rerun this cell to show the HTML representation or trust the notebook. <br />On GitHub, the HTML representation is unable to render, please try loading this page with nbviewer.org.</b></div><div class=\"sk-container\" hidden><div class=\"sk-item\"><div class=\"sk-estimator sk-toggleable\"><input class=\"sk-toggleable__control sk-hidden--visually\" id=\"sk-estimator-id-8\" type=\"checkbox\" checked><label for=\"sk-estimator-id-8\" class=\"sk-toggleable__label sk-toggleable__label-arrow\">RandomForestClassifier</label><div class=\"sk-toggleable__content\"><pre>RandomForestClassifier(criterion=&#x27;entropy&#x27;, n_estimators=10, random_state=0)</pre></div></div></div></div></div>"
      ],
      "text/plain": [
       "RandomForestClassifier(criterion='entropy', n_estimators=10, random_state=0)"
      ]
     },
     "execution_count": 248,
     "metadata": {},
     "output_type": "execute_result"
    }
   ],
   "source": [
    "#fitting random forest classification to the training set\n",
    "from sklearn.ensemble import RandomForestClassifier\n",
    "classifier=RandomForestClassifier(n_estimators=10,criterion='entropy',random_state=0)\n",
    "classifier.fit(x_train,y_train)"
   ]
  },
  {
   "cell_type": "code",
   "execution_count": 249,
   "id": "f4f43dea",
   "metadata": {},
   "outputs": [],
   "source": [
    "#predicting the test set results\n",
    "y_pred=classifier.predict(x_test)"
   ]
  },
  {
   "cell_type": "code",
   "execution_count": 250,
   "id": "f97edde7",
   "metadata": {},
   "outputs": [
    {
     "data": {
      "text/plain": [
       "0.999110161950525"
      ]
     },
     "execution_count": 250,
     "metadata": {},
     "output_type": "execute_result"
    }
   ],
   "source": [
    "#to measure the accuracy of model\n",
    "from sklearn.metrics import accuracy_score,confusion_matrix,classification_report\n",
    "accuracy_score(y_test,y_pred)"
   ]
  },
  {
   "cell_type": "code",
   "execution_count": 251,
   "id": "7fed09d1",
   "metadata": {},
   "outputs": [
    {
     "data": {
      "text/plain": [
       "array([[5597,    9],\n",
       "       [   1, 5631]], dtype=int64)"
      ]
     },
     "execution_count": 251,
     "metadata": {},
     "output_type": "execute_result"
    }
   ],
   "source": [
    "#making confusion matrix\n",
    "confusion_matrix(y_test,y_pred)"
   ]
  },
  {
   "cell_type": "code",
   "execution_count": 252,
   "id": "64fe597f",
   "metadata": {},
   "outputs": [
    {
     "name": "stdout",
     "output_type": "stream",
     "text": [
      "              precision    recall  f1-score   support\n",
      "\n",
      "           0       1.00      1.00      1.00      5606\n",
      "           1       1.00      1.00      1.00      5632\n",
      "\n",
      "    accuracy                           1.00     11238\n",
      "   macro avg       1.00      1.00      1.00     11238\n",
      "weighted avg       1.00      1.00      1.00     11238\n",
      "\n"
     ]
    }
   ],
   "source": [
    "#classification report\n",
    "z=classification_report(y_test,y_pred)\n",
    "print(z) "
   ]
  },
  {
   "cell_type": "code",
   "execution_count": 253,
   "id": "c78f87e3",
   "metadata": {},
   "outputs": [],
   "source": [
    "#for computing Receiver operating characteristics\n",
    "from sklearn.metrics import roc_curve\n",
    "#for computing area under curve\n",
    "from sklearn.metrics import roc_auc_score"
   ]
  },
  {
   "cell_type": "code",
   "execution_count": 254,
   "id": "bb362c5c",
   "metadata": {},
   "outputs": [
    {
     "name": "stdout",
     "output_type": "stream",
     "text": [
      "[0. 1. 0. ... 1. 0. 0.]\n"
     ]
    }
   ],
   "source": [
    "#visualizing the ROC-AUC curve\n",
    "y_proba=classifier.predict_proba(x_test)\n",
    "\n",
    "#we take the predicted values of class 1\n",
    "y_predicted=y_proba[:,1]\n",
    "\n",
    "#we check to see if the right values have been considered from the predicted values\n",
    "print(y_predicted)"
   ]
  },
  {
   "cell_type": "code",
   "execution_count": 255,
   "id": "43d2deb3",
   "metadata": {},
   "outputs": [],
   "source": [
    "#using roc_curve() to generate fpr & tpr values\n",
    "fpr,tpr,thresholds=roc_curve(y_test,y_predicted)"
   ]
  },
  {
   "cell_type": "code",
   "execution_count": 256,
   "id": "11bc0d77",
   "metadata": {},
   "outputs": [
    {
     "name": "stdout",
     "output_type": "stream",
     "text": [
      "Area under the curve for first model 0.9998117853385579\n"
     ]
    }
   ],
   "source": [
    "#passing the fpr&tpr values to auc()to calculate the area under curve\n",
    "from sklearn.metrics import auc\n",
    "roc_auc=auc(fpr,tpr)\n",
    "print(\"Area under the curve for first model\",roc_auc)"
   ]
  },
  {
   "cell_type": "code",
   "execution_count": 257,
   "id": "49a8aae2",
   "metadata": {},
   "outputs": [
    {
     "data": {
      "text/plain": [
       "Text(0, 0.5, 'True Positive Rate(Sensitivity)')"
      ]
     },
     "execution_count": 257,
     "metadata": {},
     "output_type": "execute_result"
    },
    {
     "data": {
      "image/png": "[encoded data removed]",
      "text/plain": [
       "<Figure size 432x288 with 1 Axes>"
      ]
     },
     "metadata": {
      "needs_background": "light"
     },
     "output_type": "display_data"
    }
   ],
   "source": [
    "#plotting the ROC curve\n",
    "import matplotlib.pyplot as plt\n",
    "plt.figure()\n",
    "plt.plot(fpr,tpr,color='orange',lw=2,label='ROC curve(area under curve=%0.2f)'%roc_auc)\n",
    "plt.plot([0,1],[0,1],color='darkgrey',lw=2,linestyle='--')\n",
    "plt.xlim([0.0,1.0])\n",
    "plt.ylim([0.0,1.0])\n",
    "plt.xlabel('False Positive Rate(1-Specificity)')\n",
    "plt.ylabel('True Positive Rate(Sensitivity)')\n"
   ]
  },
  {
   "cell_type": "code",
   "execution_count": 258,
   "id": "aca3767e",
   "metadata": {},
   "outputs": [
    {
     "data": {
      "text/html": [
       "<div>\n",
       "<style scoped>\n",
       "    .dataframe tbody tr th:only-of-type {\n",
       "        vertical-align: middle;\n",
       "    }\n",
       "\n",
       "    .dataframe tbody tr th {\n",
       "        vertical-align: top;\n",
       "    }\n",
       "\n",
       "    .dataframe thead th {\n",
       "        text-align: right;\n",
       "    }\n",
       "</style>\n",
       "<table border=\"1\" class=\"dataframe\">\n",
       "  <thead>\n",
       "    <tr style=\"text-align: right;\">\n",
       "      <th></th>\n",
       "      <th>Model</th>\n",
       "      <th>AUC Score</th>\n",
       "      <th>Precision Score</th>\n",
       "      <th>Recall Score</th>\n",
       "      <th>Accuracy Score</th>\n",
       "      <th>f1-score</th>\n",
       "    </tr>\n",
       "  </thead>\n",
       "  <tbody>\n",
       "    <tr>\n",
       "      <th>0</th>\n",
       "      <td>Logistic_Regression</td>\n",
       "      <td>0.864611</td>\n",
       "      <td>0.851788</td>\n",
       "      <td>0.8837</td>\n",
       "      <td>0.864656</td>\n",
       "      <td>0.867451</td>\n",
       "    </tr>\n",
       "    <tr>\n",
       "      <th>1</th>\n",
       "      <td>GridSearchCV</td>\n",
       "      <td>-</td>\n",
       "      <td>-</td>\n",
       "      <td>-</td>\n",
       "      <td>0.927237</td>\n",
       "      <td>-</td>\n",
       "    </tr>\n",
       "    <tr>\n",
       "      <th>2</th>\n",
       "      <td>RandomForestClassifier</td>\n",
       "      <td>0.999109</td>\n",
       "      <td>0.998404</td>\n",
       "      <td>0.999822</td>\n",
       "      <td>0.999110</td>\n",
       "      <td>0.999113</td>\n",
       "    </tr>\n",
       "  </tbody>\n",
       "</table>\n",
       "</div>"
      ],
      "text/plain": [
       "                    Model AUC Score Precision Score Recall Score  \\\n",
       "0     Logistic_Regression  0.864611        0.851788       0.8837   \n",
       "1            GridSearchCV         -               -            -   \n",
       "2  RandomForestClassifier  0.999109        0.998404     0.999822   \n",
       "\n",
       "   Accuracy Score  f1-score  \n",
       "0        0.864656  0.867451  \n",
       "1        0.927237         -  \n",
       "2        0.999110  0.999113  "
      ]
     },
     "execution_count": 258,
     "metadata": {},
     "output_type": "execute_result"
    }
   ],
   "source": [
    "\n",
    "# compiling the required information\n",
    "RandomForestClassifier = pd.Series({'Model': \"RandomForestClassifier\",\n",
    "                     'AUC Score' : metrics.roc_auc_score(y_test, y_pred),\n",
    "                 'Precision Score': metrics.precision_score(y_test, y_pred),\n",
    "                 'Recall Score': metrics.recall_score(y_test, y_pred),\n",
    "                 'Accuracy Score': metrics.accuracy_score(y_test, y_pred),\n",
    "                  'f1-score':metrics.f1_score(y_test, y_pred)})\n",
    "\n",
    "\n",
    "\n",
    "# appending our result table\n",
    "result_tabulation = result_tabulation.append(RandomForestClassifier , ignore_index = True)\n",
    "\n",
    "# view the result table\n",
    "result_tabulation"
   ]
  },
  {
   "cell_type": "markdown",
   "id": "0ff73aaa",
   "metadata": {},
   "source": [
    "The above table shows the 'Model', 'AUC Score', 'Precision Score', 'Recall Score','Accuracy Score', 'f1 - score' are predicted for the Logistic_Regression and Random_Forest_Classifier."
   ]
  },
  {
   "cell_type": "markdown",
   "id": "0e1eb27e",
   "metadata": {},
   "source": [
    "**7.4 Decision_Tree_Classifier**"
   ]
  },
  {
   "cell_type": "code",
   "execution_count": 259,
   "id": "394412f9",
   "metadata": {},
   "outputs": [],
   "source": [
    "#DecisionTreeClassifier\n",
    "x = df.drop(['isFraud'], axis = 1)\n",
    "y = df['isFraud']"
   ]
  },
  {
   "cell_type": "code",
   "execution_count": 260,
   "id": "e1e8228d",
   "metadata": {},
   "outputs": [],
   "source": [
    "# Splitting the dataset into the Training set and Test set\n",
    "from sklearn.model_selection import train_test_split\n",
    "x_train, x_test, y_train, y_test = train_test_split(x, y, test_size = 0.25, random_state = 0)"
   ]
  },
  {
   "cell_type": "code",
   "execution_count": 261,
   "id": "7a0d71dd",
   "metadata": {},
   "outputs": [],
   "source": [
    "#scaling\n",
    "from sklearn.preprocessing import StandardScaler\n",
    "sc=StandardScaler()\n",
    "x_train=sc.fit_transform(x_train)\n",
    "x_test=sc.transform(x_test)"
   ]
  },
  {
   "cell_type": "code",
   "execution_count": 262,
   "id": "461239fa",
   "metadata": {},
   "outputs": [],
   "source": [
    "#DecisionTreeClassifier\n",
    "from sklearn.tree import DecisionTreeClassifier\n",
    "model=DecisionTreeClassifier()"
   ]
  },
  {
   "cell_type": "code",
   "execution_count": 263,
   "id": "7ab9f02f",
   "metadata": {},
   "outputs": [
    {
     "data": {
      "text/html": [
       "<style>#sk-container-id-9 {color: black;background-color: white;}#sk-container-id-9 pre{padding: 0;}#sk-container-id-9 div.sk-toggleable {background-color: white;}#sk-container-id-9 label.sk-toggleable__label {cursor: pointer;display: block;width: 100%;margin-bottom: 0;padding: 0.3em;box-sizing: border-box;text-align: center;}#sk-container-id-9 label.sk-toggleable__label-arrow:before {content: \"▸\";float: left;margin-right: 0.25em;color: #696969;}#sk-container-id-9 label.sk-toggleable__label-arrow:hover:before {color: black;}#sk-container-id-9 div.sk-estimator:hover label.sk-toggleable__label-arrow:before {color: black;}#sk-container-id-9 div.sk-toggleable__content {max-height: 0;max-width: 0;overflow: hidden;text-align: left;background-color: #f0f8ff;}#sk-container-id-9 div.sk-toggleable__content pre {margin: 0.2em;color: black;border-radius: 0.25em;background-color: #f0f8ff;}#sk-container-id-9 input.sk-toggleable__control:checked~div.sk-toggleable__content {max-height: 200px;max-width: 100%;overflow: auto;}#sk-container-id-9 input.sk-toggleable__control:checked~label.sk-toggleable__label-arrow:before {content: \"▾\";}#sk-container-id-9 div.sk-estimator input.sk-toggleable__control:checked~label.sk-toggleable__label {background-color: #d4ebff;}#sk-container-id-9 div.sk-label input.sk-toggleable__control:checked~label.sk-toggleable__label {background-color: #d4ebff;}#sk-container-id-9 input.sk-hidden--visually {border: 0;clip: rect(1px 1px 1px 1px);clip: rect(1px, 1px, 1px, 1px);height: 1px;margin: -1px;overflow: hidden;padding: 0;position: absolute;width: 1px;}#sk-container-id-9 div.sk-estimator {font-family: monospace;background-color: #f0f8ff;border: 1px dotted black;border-radius: 0.25em;box-sizing: border-box;margin-bottom: 0.5em;}#sk-container-id-9 div.sk-estimator:hover {background-color: #d4ebff;}#sk-container-id-9 div.sk-parallel-item::after {content: \"\";width: 100%;border-bottom: 1px solid gray;flex-grow: 1;}#sk-container-id-9 div.sk-label:hover label.sk-toggleable__label {background-color: #d4ebff;}#sk-container-id-9 div.sk-serial::before {content: \"\";position: absolute;border-left: 1px solid gray;box-sizing: border-box;top: 0;bottom: 0;left: 50%;z-index: 0;}#sk-container-id-9 div.sk-serial {display: flex;flex-direction: column;align-items: center;background-color: white;padding-right: 0.2em;padding-left: 0.2em;position: relative;}#sk-container-id-9 div.sk-item {position: relative;z-index: 1;}#sk-container-id-9 div.sk-parallel {display: flex;align-items: stretch;justify-content: center;background-color: white;position: relative;}#sk-container-id-9 div.sk-item::before, #sk-container-id-9 div.sk-parallel-item::before {content: \"\";position: absolute;border-left: 1px solid gray;box-sizing: border-box;top: 0;bottom: 0;left: 50%;z-index: -1;}#sk-container-id-9 div.sk-parallel-item {display: flex;flex-direction: column;z-index: 1;position: relative;background-color: white;}#sk-container-id-9 div.sk-parallel-item:first-child::after {align-self: flex-end;width: 50%;}#sk-container-id-9 div.sk-parallel-item:last-child::after {align-self: flex-start;width: 50%;}#sk-container-id-9 div.sk-parallel-item:only-child::after {width: 0;}#sk-container-id-9 div.sk-dashed-wrapped {border: 1px dashed gray;margin: 0 0.4em 0.5em 0.4em;box-sizing: border-box;padding-bottom: 0.4em;background-color: white;}#sk-container-id-9 div.sk-label label {font-family: monospace;font-weight: bold;display: inline-block;line-height: 1.2em;}#sk-container-id-9 div.sk-label-container {text-align: center;}#sk-container-id-9 div.sk-container {/* jupyter's `normalize.less` sets `[hidden] { display: none; }` but bootstrap.min.css set `[hidden] { display: none !important; }` so we also need the `!important` here to be able to override the default hidden behavior on the sphinx rendered scikit-learn.org. See: https://github.com/scikit-learn/scikit-learn/issues/21755 */display: inline-block !important;position: relative;}#sk-container-id-9 div.sk-text-repr-fallback {display: none;}</style><div id=\"sk-container-id-9\" class=\"sk-top-container\"><div class=\"sk-text-repr-fallback\"><pre>DecisionTreeClassifier()</pre><b>In a Jupyter environment, please rerun this cell to show the HTML representation or trust the notebook. <br />On GitHub, the HTML representation is unable to render, please try loading this page with nbviewer.org.</b></div><div class=\"sk-container\" hidden><div class=\"sk-item\"><div class=\"sk-estimator sk-toggleable\"><input class=\"sk-toggleable__control sk-hidden--visually\" id=\"sk-estimator-id-9\" type=\"checkbox\" checked><label for=\"sk-estimator-id-9\" class=\"sk-toggleable__label sk-toggleable__label-arrow\">DecisionTreeClassifier</label><div class=\"sk-toggleable__content\"><pre>DecisionTreeClassifier()</pre></div></div></div></div></div>"
      ],
      "text/plain": [
       "DecisionTreeClassifier()"
      ]
     },
     "execution_count": 263,
     "metadata": {},
     "output_type": "execute_result"
    }
   ],
   "source": [
    "#Fitting\n",
    "model.fit(x_train,y_train)"
   ]
  },
  {
   "cell_type": "code",
   "execution_count": 264,
   "id": "5c626cc1",
   "metadata": {},
   "outputs": [],
   "source": [
    "#prediction\n",
    "y_pred=model.predict(x_test)"
   ]
  },
  {
   "cell_type": "code",
   "execution_count": 265,
   "id": "7c8937f9",
   "metadata": {},
   "outputs": [
    {
     "data": {
      "text/plain": [
       "0.997686421071365"
      ]
     },
     "execution_count": 265,
     "metadata": {},
     "output_type": "execute_result"
    }
   ],
   "source": [
    "#to measure the accuracy of model\n",
    "from sklearn.metrics import accuracy_score,confusion_matrix,classification_report\n",
    "accuracy_score(y_test,y_pred)"
   ]
  },
  {
   "cell_type": "code",
   "execution_count": 266,
   "id": "a8c5cd12",
   "metadata": {},
   "outputs": [
    {
     "data": {
      "text/plain": [
       "array([[5583,   23],\n",
       "       [   3, 5629]], dtype=int64)"
      ]
     },
     "execution_count": 266,
     "metadata": {},
     "output_type": "execute_result"
    }
   ],
   "source": [
    "#Confusion Matrix\n",
    "confusion_matrix(y_test,y_pred)"
   ]
  },
  {
   "cell_type": "code",
   "execution_count": 267,
   "id": "88156fef",
   "metadata": {},
   "outputs": [
    {
     "name": "stdout",
     "output_type": "stream",
     "text": [
      "              precision    recall  f1-score   support\n",
      "\n",
      "           0       1.00      1.00      1.00      5606\n",
      "           1       1.00      1.00      1.00      5632\n",
      "\n",
      "    accuracy                           1.00     11238\n",
      "   macro avg       1.00      1.00      1.00     11238\n",
      "weighted avg       1.00      1.00      1.00     11238\n",
      "\n"
     ]
    }
   ],
   "source": [
    "#Classification Report\n",
    "z=classification_report(y_test,y_pred)\n",
    "print(z)"
   ]
  },
  {
   "cell_type": "code",
   "execution_count": 268,
   "id": "e6871f01",
   "metadata": {},
   "outputs": [],
   "source": [
    "#for computing Receiver operating characteristics\n",
    "from sklearn.metrics import roc_curve\n",
    "#for computing area under curve\n",
    "from sklearn.metrics import roc_auc_score"
   ]
  },
  {
   "cell_type": "code",
   "execution_count": 269,
   "id": "5c48157d",
   "metadata": {},
   "outputs": [
    {
     "name": "stdout",
     "output_type": "stream",
     "text": [
      "[0. 1. 0. ... 1. 0. 0.]\n"
     ]
    }
   ],
   "source": [
    "#visualizing the ROC-AUC curve\n",
    "y_proba=classifier.predict_proba(x_test)\n",
    "\n",
    "#we take the predicted values of class 1\n",
    "y_predicted=y_proba[:,1]\n",
    "\n",
    "#we check to see if the right values have been considered from the predicted values\n",
    "print(y_predicted)"
   ]
  },
  {
   "cell_type": "code",
   "execution_count": 270,
   "id": "b86385fe",
   "metadata": {},
   "outputs": [],
   "source": [
    "#using roc_curve() to generate fpr & tpr values\n",
    "fpr,tpr,thresholds=roc_curve(y_test,y_predicted)"
   ]
  },
  {
   "cell_type": "code",
   "execution_count": 271,
   "id": "83ddcca6",
   "metadata": {},
   "outputs": [
    {
     "name": "stdout",
     "output_type": "stream",
     "text": [
      "Area under the curve for first model 0.9998117853385579\n"
     ]
    }
   ],
   "source": [
    "#passing the fpr&tpr values to auc()to calculate the area under curve\n",
    "from sklearn.metrics import auc\n",
    "roc_auc=auc(fpr,tpr)\n",
    "print(\"Area under the curve for first model\",roc_auc)"
   ]
  },
  {
   "cell_type": "code",
   "execution_count": 272,
   "id": "ac760bd7",
   "metadata": {},
   "outputs": [
    {
     "data": {
      "text/plain": [
       "Text(0, 0.5, 'True Positive Rate(Sensitivity)')"
      ]
     },
     "execution_count": 272,
     "metadata": {},
     "output_type": "execute_result"
    },
    {
     "data": {
      "image/png": "[encoded data removed]",
      "text/plain": [
       "<Figure size 432x288 with 1 Axes>"
      ]
     },
     "metadata": {
      "needs_background": "light"
     },
     "output_type": "display_data"
    }
   ],
   "source": [
    "#plotting the ROC curve\n",
    "import matplotlib.pyplot as plt\n",
    "plt.figure()\n",
    "plt.plot(fpr,tpr,color='orange',lw=2,label='ROC curve(area under curve=%0.2f)'%roc_auc)\n",
    "plt.plot([0,1],[0,1],color='darkgrey',lw=2,linestyle='--')\n",
    "plt.xlim([0.0,1.0])\n",
    "plt.ylim([0.0,1.0])\n",
    "plt.xlabel('False Positive Rate(1-Specificity)')\n",
    "plt.ylabel('True Positive Rate(Sensitivity)')\n"
   ]
  },
  {
   "cell_type": "code",
   "execution_count": 273,
   "id": "dfd3d446",
   "metadata": {},
   "outputs": [
    {
     "data": {
      "text/html": [
       "<div>\n",
       "<style scoped>\n",
       "    .dataframe tbody tr th:only-of-type {\n",
       "        vertical-align: middle;\n",
       "    }\n",
       "\n",
       "    .dataframe tbody tr th {\n",
       "        vertical-align: top;\n",
       "    }\n",
       "\n",
       "    .dataframe thead th {\n",
       "        text-align: right;\n",
       "    }\n",
       "</style>\n",
       "<table border=\"1\" class=\"dataframe\">\n",
       "  <thead>\n",
       "    <tr style=\"text-align: right;\">\n",
       "      <th></th>\n",
       "      <th>Model</th>\n",
       "      <th>AUC Score</th>\n",
       "      <th>Precision Score</th>\n",
       "      <th>Recall Score</th>\n",
       "      <th>Accuracy Score</th>\n",
       "      <th>f1-score</th>\n",
       "    </tr>\n",
       "  </thead>\n",
       "  <tbody>\n",
       "    <tr>\n",
       "      <th>0</th>\n",
       "      <td>Logistic_Regression</td>\n",
       "      <td>0.864611</td>\n",
       "      <td>0.851788</td>\n",
       "      <td>0.8837</td>\n",
       "      <td>0.864656</td>\n",
       "      <td>0.867451</td>\n",
       "    </tr>\n",
       "    <tr>\n",
       "      <th>1</th>\n",
       "      <td>GridSearchCV</td>\n",
       "      <td>-</td>\n",
       "      <td>-</td>\n",
       "      <td>-</td>\n",
       "      <td>0.927237</td>\n",
       "      <td>-</td>\n",
       "    </tr>\n",
       "    <tr>\n",
       "      <th>2</th>\n",
       "      <td>RandomForestClassifier</td>\n",
       "      <td>0.999109</td>\n",
       "      <td>0.998404</td>\n",
       "      <td>0.999822</td>\n",
       "      <td>0.999110</td>\n",
       "      <td>0.999113</td>\n",
       "    </tr>\n",
       "    <tr>\n",
       "      <th>3</th>\n",
       "      <td>DecisionTreeClassifier</td>\n",
       "      <td>0.997682</td>\n",
       "      <td>0.995931</td>\n",
       "      <td>0.999467</td>\n",
       "      <td>0.997686</td>\n",
       "      <td>0.997696</td>\n",
       "    </tr>\n",
       "  </tbody>\n",
       "</table>\n",
       "</div>"
      ],
      "text/plain": [
       "                    Model AUC Score Precision Score Recall Score  \\\n",
       "0     Logistic_Regression  0.864611        0.851788       0.8837   \n",
       "1            GridSearchCV         -               -            -   \n",
       "2  RandomForestClassifier  0.999109        0.998404     0.999822   \n",
       "3  DecisionTreeClassifier  0.997682        0.995931     0.999467   \n",
       "\n",
       "   Accuracy Score  f1-score  \n",
       "0        0.864656  0.867451  \n",
       "1        0.927237         -  \n",
       "2        0.999110  0.999113  \n",
       "3        0.997686  0.997696  "
      ]
     },
     "execution_count": 273,
     "metadata": {},
     "output_type": "execute_result"
    }
   ],
   "source": [
    "\n",
    "# compiling the required information\n",
    "DecisionTreeClassifier = pd.Series({'Model': \"DecisionTreeClassifier\",\n",
    "                     'AUC Score' : metrics.roc_auc_score(y_test, y_pred),\n",
    "                 'Precision Score': metrics.precision_score(y_test, y_pred),\n",
    "                 'Recall Score': metrics.recall_score(y_test, y_pred),\n",
    "                 'Accuracy Score': metrics.accuracy_score(y_test, y_pred),\n",
    "                  'f1-score':metrics.f1_score(y_test, y_pred)})\n",
    "\n",
    "\n",
    "\n",
    "# appending our result table\n",
    "result_tabulation = result_tabulation.append(DecisionTreeClassifier , ignore_index = True)\n",
    "\n",
    "# view the result table\n",
    "result_tabulation"
   ]
  },
  {
   "cell_type": "markdown",
   "id": "44a77179",
   "metadata": {},
   "source": [
    "The above table shows the 'Model', 'AUC Score', 'Precision Score', 'Recall Score','Accuracy Score','f1 - score' are predicted for the Logistic_Regression, Random_Forest_Classifier and Decision_Tree_Classifier."
   ]
  },
  {
   "cell_type": "markdown",
   "id": "2b6bb503",
   "metadata": {},
   "source": [
    "<a id=\"model_cmp\"> </a>\n",
    "## 8. Model Comparision"
   ]
  },
  {
   "cell_type": "code",
   "execution_count": 274,
   "id": "525c4341",
   "metadata": {},
   "outputs": [
    {
     "data": {
      "text/html": [
       "<div>\n",
       "<style scoped>\n",
       "    .dataframe tbody tr th:only-of-type {\n",
       "        vertical-align: middle;\n",
       "    }\n",
       "\n",
       "    .dataframe tbody tr th {\n",
       "        vertical-align: top;\n",
       "    }\n",
       "\n",
       "    .dataframe thead th {\n",
       "        text-align: right;\n",
       "    }\n",
       "</style>\n",
       "<table border=\"1\" class=\"dataframe\">\n",
       "  <thead>\n",
       "    <tr style=\"text-align: right;\">\n",
       "      <th></th>\n",
       "      <th>Model</th>\n",
       "      <th>AUC Score</th>\n",
       "      <th>Precision Score</th>\n",
       "      <th>Recall Score</th>\n",
       "      <th>Accuracy Score</th>\n",
       "      <th>f1-score</th>\n",
       "    </tr>\n",
       "  </thead>\n",
       "  <tbody>\n",
       "    <tr>\n",
       "      <th>0</th>\n",
       "      <td>Logistic_Regression</td>\n",
       "      <td>0.864611</td>\n",
       "      <td>0.851788</td>\n",
       "      <td>0.8837</td>\n",
       "      <td>0.864656</td>\n",
       "      <td>0.867451</td>\n",
       "    </tr>\n",
       "    <tr>\n",
       "      <th>1</th>\n",
       "      <td>GridSearchCV</td>\n",
       "      <td>-</td>\n",
       "      <td>-</td>\n",
       "      <td>-</td>\n",
       "      <td>0.927237</td>\n",
       "      <td>-</td>\n",
       "    </tr>\n",
       "    <tr>\n",
       "      <th>2</th>\n",
       "      <td>RandomForestClassifier</td>\n",
       "      <td>0.999109</td>\n",
       "      <td>0.998404</td>\n",
       "      <td>0.999822</td>\n",
       "      <td>0.999110</td>\n",
       "      <td>0.999113</td>\n",
       "    </tr>\n",
       "    <tr>\n",
       "      <th>3</th>\n",
       "      <td>DecisionTreeClassifier</td>\n",
       "      <td>0.997682</td>\n",
       "      <td>0.995931</td>\n",
       "      <td>0.999467</td>\n",
       "      <td>0.997686</td>\n",
       "      <td>0.997696</td>\n",
       "    </tr>\n",
       "  </tbody>\n",
       "</table>\n",
       "</div>"
      ],
      "text/plain": [
       "                    Model AUC Score Precision Score Recall Score  \\\n",
       "0     Logistic_Regression  0.864611        0.851788       0.8837   \n",
       "1            GridSearchCV         -               -            -   \n",
       "2  RandomForestClassifier  0.999109        0.998404     0.999822   \n",
       "3  DecisionTreeClassifier  0.997682        0.995931     0.999467   \n",
       "\n",
       "   Accuracy Score  f1-score  \n",
       "0        0.864656  0.867451  \n",
       "1        0.927237         -  \n",
       "2        0.999110  0.999113  \n",
       "3        0.997686  0.997696  "
      ]
     },
     "execution_count": 274,
     "metadata": {},
     "output_type": "execute_result"
    }
   ],
   "source": [
    "# view the result table\n",
    "result_tabulation"
   ]
  },
  {
   "cell_type": "markdown",
   "id": "ce56b05c",
   "metadata": {},
   "source": [
    "From the above results table, we conclude that **the accuracy score for the given dataset is more ,when using RandomForestClassifier and DecisionTreeClasifier** classification models."
   ]
  },
  {
   "cell_type": "code",
   "execution_count": 275,
   "id": "cc16bffe",
   "metadata": {
    "collapsed": true
   },
   "outputs": [
    {
     "name": "stdout",
     "output_type": "stream",
     "text": [
      "Requirement already satisfied: powerbiclient in c:\\users\\dell\\anaconda3\\lib\\site-packages (1.0.0)\n",
      "Requirement already satisfied: msal>=1.8.0 in c:\\users\\dell\\anaconda3\\lib\\site-packages (from powerbiclient) (1.18.0)\n",
      "Requirement already satisfied: jupyter-ui-poll>=0.1.2 in c:\\users\\dell\\anaconda3\\lib\\site-packages (from powerbiclient) (0.2.1)\n",
      "Requirement already satisfied: ipywidgets>=7.0.0 in c:\\users\\dell\\anaconda3\\lib\\site-packages (from powerbiclient) (7.6.5)\n",
      "Requirement already satisfied: requests>=2.25.1 in c:\\users\\dell\\anaconda3\\lib\\site-packages (from powerbiclient) (2.26.0)\n",
      "Requirement already satisfied: jupyterlab-widgets>=1.0.0 in c:\\users\\dell\\anaconda3\\lib\\site-packages (from ipywidgets>=7.0.0->powerbiclient) (1.0.0)\n",
      "Requirement already satisfied: ipython-genutils~=0.2.0 in c:\\users\\dell\\anaconda3\\lib\\site-packages (from ipywidgets>=7.0.0->powerbiclient) (0.2.0)Note: you may need to restart the kernel to use updated packages.\n",
      "\n",
      "Requirement already satisfied: traitlets>=4.3.1 in c:\\users\\dell\\anaconda3\\lib\\site-packages (from ipywidgets>=7.0.0->powerbiclient) (5.1.0)\n",
      "Requirement already satisfied: widgetsnbextension~=3.5.0 in c:\\users\\dell\\anaconda3\\lib\\site-packages (from ipywidgets>=7.0.0->powerbiclient) (3.5.1)\n",
      "Requirement already satisfied: ipykernel>=4.5.1 in c:\\users\\dell\\anaconda3\\lib\\site-packages (from ipywidgets>=7.0.0->powerbiclient) (6.4.1)\n",
      "Requirement already satisfied: nbformat>=4.2.0 in c:\\users\\dell\\anaconda3\\lib\\site-packages (from ipywidgets>=7.0.0->powerbiclient) (5.1.3)\n",
      "Requirement already satisfied: ipython>=4.0.0 in c:\\users\\dell\\anaconda3\\lib\\site-packages (from ipywidgets>=7.0.0->powerbiclient) (7.29.0)\n",
      "Requirement already satisfied: debugpy<2.0,>=1.0.0 in c:\\users\\dell\\anaconda3\\lib\\site-packages (from ipykernel>=4.5.1->ipywidgets>=7.0.0->powerbiclient) (1.4.1)\n",
      "Requirement already satisfied: tornado<7.0,>=4.2 in c:\\users\\dell\\anaconda3\\lib\\site-packages (from ipykernel>=4.5.1->ipywidgets>=7.0.0->powerbiclient) (6.1)\n",
      "Requirement already satisfied: matplotlib-inline<0.2.0,>=0.1.0 in c:\\users\\dell\\anaconda3\\lib\\site-packages (from ipykernel>=4.5.1->ipywidgets>=7.0.0->powerbiclient) (0.1.2)\n",
      "Requirement already satisfied: jupyter-client<8.0 in c:\\users\\dell\\anaconda3\\lib\\site-packages (from ipykernel>=4.5.1->ipywidgets>=7.0.0->powerbiclient) (6.1.12)\n",
      "Requirement already satisfied: decorator in c:\\users\\dell\\anaconda3\\lib\\site-packages (from ipython>=4.0.0->ipywidgets>=7.0.0->powerbiclient) (5.1.0)\n",
      "Requirement already satisfied: pygments in c:\\users\\dell\\anaconda3\\lib\\site-packages (from ipython>=4.0.0->ipywidgets>=7.0.0->powerbiclient) (2.10.0)\n",
      "Requirement already satisfied: pickleshare in c:\\users\\dell\\anaconda3\\lib\\site-packages (from ipython>=4.0.0->ipywidgets>=7.0.0->powerbiclient) (0.7.5)\n",
      "Requirement already satisfied: jedi>=0.16 in c:\\users\\dell\\anaconda3\\lib\\site-packages (from ipython>=4.0.0->ipywidgets>=7.0.0->powerbiclient) (0.18.0)\n",
      "Requirement already satisfied: prompt-toolkit!=3.0.0,!=3.0.1,<3.1.0,>=2.0.0 in c:\\users\\dell\\anaconda3\\lib\\site-packages (from ipython>=4.0.0->ipywidgets>=7.0.0->powerbiclient) (3.0.20)\n",
      "Requirement already satisfied: setuptools>=18.5 in c:\\users\\dell\\anaconda3\\lib\\site-packages (from ipython>=4.0.0->ipywidgets>=7.0.0->powerbiclient) (58.0.4)\n",
      "Requirement already satisfied: colorama in c:\\users\\dell\\anaconda3\\lib\\site-packages (from ipython>=4.0.0->ipywidgets>=7.0.0->powerbiclient) (0.4.4)\n",
      "Requirement already satisfied: backcall in c:\\users\\dell\\anaconda3\\lib\\site-packages (from ipython>=4.0.0->ipywidgets>=7.0.0->powerbiclient) (0.2.0)\n",
      "Requirement already satisfied: parso<0.9.0,>=0.8.0 in c:\\users\\dell\\anaconda3\\lib\\site-packages (from jedi>=0.16->ipython>=4.0.0->ipywidgets>=7.0.0->powerbiclient) (0.8.2)\n",
      "Requirement already satisfied: pyzmq>=13 in c:\\users\\dell\\anaconda3\\lib\\site-packages (from jupyter-client<8.0->ipykernel>=4.5.1->ipywidgets>=7.0.0->powerbiclient) (22.2.1)\n",
      "Requirement already satisfied: jupyter-core>=4.6.0 in c:\\users\\dell\\anaconda3\\lib\\site-packages (from jupyter-client<8.0->ipykernel>=4.5.1->ipywidgets>=7.0.0->powerbiclient) (4.8.1)\n",
      "Requirement already satisfied: python-dateutil>=2.1 in c:\\users\\dell\\anaconda3\\lib\\site-packages (from jupyter-client<8.0->ipykernel>=4.5.1->ipywidgets>=7.0.0->powerbiclient) (2.8.2)\n",
      "Requirement already satisfied: pywin32>=1.0 in c:\\users\\dell\\anaconda3\\lib\\site-packages (from jupyter-core>=4.6.0->jupyter-client<8.0->ipykernel>=4.5.1->ipywidgets>=7.0.0->powerbiclient) (228)\n",
      "Requirement already satisfied: PyJWT[crypto]<3,>=1.0.0 in c:\\users\\dell\\anaconda3\\lib\\site-packages (from msal>=1.8.0->powerbiclient) (2.1.0)\n",
      "Requirement already satisfied: cryptography<40,>=0.6 in c:\\users\\dell\\anaconda3\\lib\\site-packages (from msal>=1.8.0->powerbiclient) (3.4.8)\n",
      "Requirement already satisfied: cffi>=1.12 in c:\\users\\dell\\anaconda3\\lib\\site-packages (from cryptography<40,>=0.6->msal>=1.8.0->powerbiclient) (1.14.6)\n",
      "Requirement already satisfied: pycparser in c:\\users\\dell\\anaconda3\\lib\\site-packages (from cffi>=1.12->cryptography<40,>=0.6->msal>=1.8.0->powerbiclient) (2.20)\n",
      "Requirement already satisfied: jsonschema!=2.5.0,>=2.4 in c:\\users\\dell\\anaconda3\\lib\\site-packages (from nbformat>=4.2.0->ipywidgets>=7.0.0->powerbiclient) (3.2.0)\n",
      "Requirement already satisfied: six>=1.11.0 in c:\\users\\dell\\anaconda3\\lib\\site-packages (from jsonschema!=2.5.0,>=2.4->nbformat>=4.2.0->ipywidgets>=7.0.0->powerbiclient) (1.16.0)\n",
      "Requirement already satisfied: pyrsistent>=0.14.0 in c:\\users\\dell\\anaconda3\\lib\\site-packages (from jsonschema!=2.5.0,>=2.4->nbformat>=4.2.0->ipywidgets>=7.0.0->powerbiclient) (0.18.0)\n",
      "Requirement already satisfied: attrs>=17.4.0 in c:\\users\\dell\\anaconda3\\lib\\site-packages (from jsonschema!=2.5.0,>=2.4->nbformat>=4.2.0->ipywidgets>=7.0.0->powerbiclient) (21.2.0)\n",
      "Requirement already satisfied: wcwidth in c:\\users\\dell\\anaconda3\\lib\\site-packages (from prompt-toolkit!=3.0.0,!=3.0.1,<3.1.0,>=2.0.0->ipython>=4.0.0->ipywidgets>=7.0.0->powerbiclient) (0.2.5)\n",
      "Requirement already satisfied: urllib3<1.27,>=1.21.1 in c:\\users\\dell\\anaconda3\\lib\\site-packages (from requests>=2.25.1->powerbiclient) (1.26.7)\n",
      "Requirement already satisfied: certifi>=2017.4.17 in c:\\users\\dell\\anaconda3\\lib\\site-packages (from requests>=2.25.1->powerbiclient) (2021.10.8)\n",
      "Requirement already satisfied: idna<4,>=2.5 in c:\\users\\dell\\anaconda3\\lib\\site-packages (from requests>=2.25.1->powerbiclient) (3.2)\n",
      "Requirement already satisfied: charset-normalizer~=2.0.0 in c:\\users\\dell\\anaconda3\\lib\\site-packages (from requests>=2.25.1->powerbiclient) (2.0.4)\n",
      "Requirement already satisfied: notebook>=4.4.1 in c:\\users\\dell\\anaconda3\\lib\\site-packages (from widgetsnbextension~=3.5.0->ipywidgets>=7.0.0->powerbiclient) (6.4.5)\n",
      "Requirement already satisfied: prometheus-client in c:\\users\\dell\\anaconda3\\lib\\site-packages (from notebook>=4.4.1->widgetsnbextension~=3.5.0->ipywidgets>=7.0.0->powerbiclient) (0.11.0)\n",
      "Requirement already satisfied: nbconvert in c:\\users\\dell\\anaconda3\\lib\\site-packages (from notebook>=4.4.1->widgetsnbextension~=3.5.0->ipywidgets>=7.0.0->powerbiclient) (6.1.0)\n",
      "Requirement already satisfied: argon2-cffi in c:\\users\\dell\\anaconda3\\lib\\site-packages (from notebook>=4.4.1->widgetsnbextension~=3.5.0->ipywidgets>=7.0.0->powerbiclient) (20.1.0)\n",
      "Requirement already satisfied: terminado>=0.8.3 in c:\\users\\dell\\anaconda3\\lib\\site-packages (from notebook>=4.4.1->widgetsnbextension~=3.5.0->ipywidgets>=7.0.0->powerbiclient) (0.9.4)\n",
      "Requirement already satisfied: Send2Trash>=1.5.0 in c:\\users\\dell\\anaconda3\\lib\\site-packages (from notebook>=4.4.1->widgetsnbextension~=3.5.0->ipywidgets>=7.0.0->powerbiclient) (1.8.0)\n",
      "Requirement already satisfied: jinja2 in c:\\users\\dell\\anaconda3\\lib\\site-packages (from notebook>=4.4.1->widgetsnbextension~=3.5.0->ipywidgets>=7.0.0->powerbiclient) (2.11.3)\n",
      "Requirement already satisfied: pywinpty>=0.5 in c:\\users\\dell\\anaconda3\\lib\\site-packages (from terminado>=0.8.3->notebook>=4.4.1->widgetsnbextension~=3.5.0->ipywidgets>=7.0.0->powerbiclient) (0.5.7)\n",
      "Requirement already satisfied: MarkupSafe>=0.23 in c:\\users\\dell\\anaconda3\\lib\\site-packages (from jinja2->notebook>=4.4.1->widgetsnbextension~=3.5.0->ipywidgets>=7.0.0->powerbiclient) (1.1.1)\n",
      "Requirement already satisfied: jupyterlab-pygments in c:\\users\\dell\\anaconda3\\lib\\site-packages (from nbconvert->notebook>=4.4.1->widgetsnbextension~=3.5.0->ipywidgets>=7.0.0->powerbiclient) (0.1.2)\n",
      "Requirement already satisfied: defusedxml in c:\\users\\dell\\anaconda3\\lib\\site-packages (from nbconvert->notebook>=4.4.1->widgetsnbextension~=3.5.0->ipywidgets>=7.0.0->powerbiclient) (0.7.1)\n",
      "Requirement already satisfied: testpath in c:\\users\\dell\\anaconda3\\lib\\site-packages (from nbconvert->notebook>=4.4.1->widgetsnbextension~=3.5.0->ipywidgets>=7.0.0->powerbiclient) (0.5.0)\n",
      "Requirement already satisfied: pandocfilters>=1.4.1 in c:\\users\\dell\\anaconda3\\lib\\site-packages (from nbconvert->notebook>=4.4.1->widgetsnbextension~=3.5.0->ipywidgets>=7.0.0->powerbiclient) (1.4.3)\n",
      "Requirement already satisfied: mistune<2,>=0.8.1 in c:\\users\\dell\\anaconda3\\lib\\site-packages (from nbconvert->notebook>=4.4.1->widgetsnbextension~=3.5.0->ipywidgets>=7.0.0->powerbiclient) (0.8.4)\n",
      "Requirement already satisfied: entrypoints>=0.2.2 in c:\\users\\dell\\anaconda3\\lib\\site-packages (from nbconvert->notebook>=4.4.1->widgetsnbextension~=3.5.0->ipywidgets>=7.0.0->powerbiclient) (0.3)\n",
      "Requirement already satisfied: bleach in c:\\users\\dell\\anaconda3\\lib\\site-packages (from nbconvert->notebook>=4.4.1->widgetsnbextension~=3.5.0->ipywidgets>=7.0.0->powerbiclient) (4.0.0)\n",
      "Requirement already satisfied: nbclient<0.6.0,>=0.5.0 in c:\\users\\dell\\anaconda3\\lib\\site-packages (from nbconvert->notebook>=4.4.1->widgetsnbextension~=3.5.0->ipywidgets>=7.0.0->powerbiclient) (0.5.3)\n",
      "Requirement already satisfied: async-generator in c:\\users\\dell\\anaconda3\\lib\\site-packages (from nbclient<0.6.0,>=0.5.0->nbconvert->notebook>=4.4.1->widgetsnbextension~=3.5.0->ipywidgets>=7.0.0->powerbiclient) (1.10)\n",
      "Requirement already satisfied: nest-asyncio in c:\\users\\dell\\anaconda3\\lib\\site-packages (from nbclient<0.6.0,>=0.5.0->nbconvert->notebook>=4.4.1->widgetsnbextension~=3.5.0->ipywidgets>=7.0.0->powerbiclient) (1.5.1)\n",
      "Requirement already satisfied: webencodings in c:\\users\\dell\\anaconda3\\lib\\site-packages (from bleach->nbconvert->notebook>=4.4.1->widgetsnbextension~=3.5.0->ipywidgets>=7.0.0->powerbiclient) (0.5.1)\n",
      "Requirement already satisfied: packaging in c:\\users\\dell\\anaconda3\\lib\\site-packages (from bleach->nbconvert->notebook>=4.4.1->widgetsnbextension~=3.5.0->ipywidgets>=7.0.0->powerbiclient) (21.0)\n",
      "Requirement already satisfied: pyparsing>=2.0.2 in c:\\users\\dell\\anaconda3\\lib\\site-packages (from packaging->bleach->nbconvert->notebook>=4.4.1->widgetsnbextension~=3.5.0->ipywidgets>=7.0.0->powerbiclient) (3.0.4)\n"
     ]
    }
   ],
   "source": [
    "pip install powerbiclient"
   ]
  },
  {
   "cell_type": "markdown",
   "id": "79a08620",
   "metadata": {},
   "source": [
    "<a id=\"Power BI\"> </a>\n",
    "## 9. Power BI"
   ]
  },
  {
   "cell_type": "code",
   "execution_count": 276,
   "id": "0c3f52d1",
   "metadata": {},
   "outputs": [],
   "source": [
    "#import libraries\n",
    "from powerbiclient import Report, models"
   ]
  },
  {
   "cell_type": "code",
   "execution_count": 277,
   "id": "7902b756",
   "metadata": {
    "scrolled": true
   },
   "outputs": [
    {
     "name": "stdout",
     "output_type": "stream",
     "text": [
      "Performing interactive authentication. Please follow the instructions on the terminal.\n",
      " To sign in, use a web browser to open the page https://microsoft.com/devicelogin and enter the code IZQV2PSSH to authenticate.\n",
      "You have logged in.\n",
      "Interactive authentication successfully completed.\n"
     ]
    }
   ],
   "source": [
    "# Import the DeviceCodeLoginAuthentication class to authenticate against Power BI\n",
    "from powerbiclient.authentication import DeviceCodeLoginAuthentication\n",
    "\n",
    "# Initiate device authentication\n",
    "device_auth = DeviceCodeLoginAuthentication()"
   ]
  },
  {
   "cell_type": "code",
   "execution_count": 278,
   "id": "a313f843",
   "metadata": {},
   "outputs": [
    {
     "data": {
      "application/vnd.jupyter.widget-view+json": {
       "model_id": "6a36a0f4916040b1827ca995b289a406",
       "version_major": 2,
       "version_minor": 0
      },
      "text/plain": [
       "Report()"
      ]
     },
     "metadata": {},
     "output_type": "display_data"
    }
   ],
   "source": [
    "group_id=\"c022f164-e173-4892-850c-e67976ca07a1\"\n",
    "report_id=\"a36e8346-254c-42ad-80de-ed5ce1486e39\"\n",
    "report = Report(group_id=group_id, report_id=report_id, auth=device_auth)\n",
    "\n",
    "report"
   ]
  }
 ],
 "metadata": {
  "kernelspec": {
   "display_name": "Python 3 (ipykernel)",
   "language": "python",
   "name": "python3"
  },
  "language_info": {
   "codemirror_mode": {
    "name": "ipython",
    "version": 3
   },
   "file_extension": ".py",
   "mimetype": "text/x-python",
   "name": "python",
   "nbconvert_exporter": "python",
   "pygments_lexer": "ipython3",
   "version": "3.9.7"
  }
 },
 "nbformat": 4,
 "nbformat_minor": 5
}
