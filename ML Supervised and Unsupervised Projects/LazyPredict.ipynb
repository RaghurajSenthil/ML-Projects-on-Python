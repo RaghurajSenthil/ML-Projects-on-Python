{
  "nbformat": 4,
  "nbformat_minor": 0,
  "metadata": {
    "colab": {
      "name": "LazyPredict.ipynb",
      "provenance": []
    },
    "kernelspec": {
      "name": "python3",
      "display_name": "Python 3"
    },
    "language_info": {
      "name": "python"
    }
  },
  "cells": [
    {
      "cell_type": "code",
      "execution_count": 1,
      "metadata": {
        "colab": {
          "base_uri": "https://localhost:8080/"
        },
        "id": "6uziFwse4DU_",
        "outputId": "89e6b475-dfba-44c7-8ed0-5a995089bbd5"
      },
      "outputs": [
        {
          "output_type": "stream",
          "name": "stdout",
          "text": [
            "Requirement already satisfied: lazypredict in /usr/local/lib/python3.7/dist-packages (0.2.9)\n",
            "Requirement already satisfied: PyYAML==5.3.1 in /usr/local/lib/python3.7/dist-packages (from lazypredict) (5.3.1)\n",
            "Requirement already satisfied: tqdm==4.56.0 in /usr/local/lib/python3.7/dist-packages (from lazypredict) (4.56.0)\n",
            "Requirement already satisfied: pandas==1.0.5 in /usr/local/lib/python3.7/dist-packages (from lazypredict) (1.0.5)\n",
            "Requirement already satisfied: xgboost==1.1.1 in /usr/local/lib/python3.7/dist-packages (from lazypredict) (1.1.1)\n",
            "Requirement already satisfied: numpy==1.19.1 in /usr/local/lib/python3.7/dist-packages (from lazypredict) (1.19.1)\n",
            "Requirement already satisfied: scikit-learn==0.23.1 in /usr/local/lib/python3.7/dist-packages (from lazypredict) (0.23.1)\n",
            "Requirement already satisfied: lightgbm==2.3.1 in /usr/local/lib/python3.7/dist-packages (from lazypredict) (2.3.1)\n",
            "Requirement already satisfied: click==7.1.2 in /usr/local/lib/python3.7/dist-packages (from lazypredict) (7.1.2)\n",
            "Requirement already satisfied: six==1.15.0 in /usr/local/lib/python3.7/dist-packages (from lazypredict) (1.15.0)\n",
            "Requirement already satisfied: joblib==1.0.0 in /usr/local/lib/python3.7/dist-packages (from lazypredict) (1.0.0)\n",
            "Requirement already satisfied: pytest==5.4.3 in /usr/local/lib/python3.7/dist-packages (from lazypredict) (5.4.3)\n",
            "Requirement already satisfied: scipy==1.5.4 in /usr/local/lib/python3.7/dist-packages (from lazypredict) (1.5.4)\n",
            "Requirement already satisfied: python-dateutil>=2.6.1 in /usr/local/lib/python3.7/dist-packages (from pandas==1.0.5->lazypredict) (2.8.2)\n",
            "Requirement already satisfied: pytz>=2017.2 in /usr/local/lib/python3.7/dist-packages (from pandas==1.0.5->lazypredict) (2022.1)\n",
            "Requirement already satisfied: more-itertools>=4.0.0 in /usr/local/lib/python3.7/dist-packages (from pytest==5.4.3->lazypredict) (8.12.0)\n",
            "Requirement already satisfied: py>=1.5.0 in /usr/local/lib/python3.7/dist-packages (from pytest==5.4.3->lazypredict) (1.11.0)\n",
            "Requirement already satisfied: attrs>=17.4.0 in /usr/local/lib/python3.7/dist-packages (from pytest==5.4.3->lazypredict) (21.4.0)\n",
            "Requirement already satisfied: wcwidth in /usr/local/lib/python3.7/dist-packages (from pytest==5.4.3->lazypredict) (0.2.5)\n",
            "Requirement already satisfied: packaging in /usr/local/lib/python3.7/dist-packages (from pytest==5.4.3->lazypredict) (21.3)\n",
            "Requirement already satisfied: importlib-metadata>=0.12 in /usr/local/lib/python3.7/dist-packages (from pytest==5.4.3->lazypredict) (4.11.3)\n",
            "Requirement already satisfied: pluggy<1.0,>=0.12 in /usr/local/lib/python3.7/dist-packages (from pytest==5.4.3->lazypredict) (0.13.1)\n",
            "Requirement already satisfied: threadpoolctl>=2.0.0 in /usr/local/lib/python3.7/dist-packages (from scikit-learn==0.23.1->lazypredict) (3.1.0)\n",
            "Requirement already satisfied: zipp>=0.5 in /usr/local/lib/python3.7/dist-packages (from importlib-metadata>=0.12->pytest==5.4.3->lazypredict) (3.8.0)\n",
            "Requirement already satisfied: typing-extensions>=3.6.4 in /usr/local/lib/python3.7/dist-packages (from importlib-metadata>=0.12->pytest==5.4.3->lazypredict) (4.2.0)\n",
            "Requirement already satisfied: pyparsing!=3.0.5,>=2.0.2 in /usr/local/lib/python3.7/dist-packages (from packaging->pytest==5.4.3->lazypredict) (3.0.8)\n"
          ]
        }
      ],
      "source": [
        "! pip install lazypredict\n",
        "import lazypredict"
      ]
    },
    {
      "cell_type": "code",
      "source": [
        "# import \n",
        "import lazypredict\n",
        "from lazypredict.Supervised import LazyClassifier\n",
        "\n",
        "from sklearn.datasets import load_breast_cancer\n",
        "\n",
        "from sklearn.model_selection import train_test_split\n"
      ],
      "metadata": {
        "id": "glkwbhsa4YMu"
      },
      "execution_count": 13,
      "outputs": []
    },
    {
      "cell_type": "code",
      "source": [
        "data=load_breast_cancer()"
      ],
      "metadata": {
        "id": "6s0J8r7L5d2x"
      },
      "execution_count": 14,
      "outputs": []
    },
    {
      "cell_type": "code",
      "source": [
        "x=data.data\n",
        "y=data.target"
      ],
      "metadata": {
        "id": "oJj223NN5i1J"
      },
      "execution_count": 15,
      "outputs": []
    },
    {
      "cell_type": "code",
      "source": [
        "from sklearn.model_selection import train_test_split\n",
        "xtrain,xtest,ytrain,ytest=train_test_split(x,y,test_size=0.5,random_state=123)\n"
      ],
      "metadata": {
        "id": "28dyhKHY5pJa"
      },
      "execution_count": 16,
      "outputs": []
    },
    {
      "cell_type": "code",
      "source": [
        "clf=LazyClassifier(verbose=0,ignore_warnings=True,custom_metric=None)"
      ],
      "metadata": {
        "id": "gQ5m8XpL5509"
      },
      "execution_count": 17,
      "outputs": []
    },
    {
      "cell_type": "code",
      "source": [
        "#fitting data\n",
        "models,predictions=clf.fit(xtrain,xtest,ytrain,ytest)\n",
        "#les check which models did better on Breast Cancer Datasets\n",
        "print(models)\n"
      ],
      "metadata": {
        "colab": {
          "base_uri": "https://localhost:8080/"
        },
        "id": "dVjiRiK26Her",
        "outputId": "e40680ac-f4f4-4fd4-ddc6-5896957cec6b"
      },
      "execution_count": 18,
      "outputs": [
        {
          "output_type": "stream",
          "name": "stderr",
          "text": [
            "100%|██████████| 29/29 [00:01<00:00, 21.41it/s]"
          ]
        },
        {
          "output_type": "stream",
          "name": "stdout",
          "text": [
            "                               Accuracy  Balanced Accuracy  ROC AUC  F1 Score  \\\n",
            "Model                                                                           \n",
            "LinearSVC                          0.99               0.99     0.99      0.99   \n",
            "Perceptron                         0.99               0.98     0.98      0.99   \n",
            "LogisticRegression                 0.99               0.98     0.98      0.99   \n",
            "SVC                                0.98               0.98     0.98      0.98   \n",
            "XGBClassifier                      0.98               0.98     0.98      0.98   \n",
            "LabelPropagation                   0.98               0.97     0.97      0.98   \n",
            "LabelSpreading                     0.98               0.97     0.97      0.98   \n",
            "BaggingClassifier                  0.97               0.97     0.97      0.97   \n",
            "PassiveAggressiveClassifier        0.98               0.97     0.97      0.98   \n",
            "SGDClassifier                      0.98               0.97     0.97      0.98   \n",
            "RandomForestClassifier             0.97               0.97     0.97      0.97   \n",
            "CalibratedClassifierCV             0.98               0.97     0.97      0.98   \n",
            "QuadraticDiscriminantAnalysis      0.96               0.97     0.97      0.97   \n",
            "ExtraTreesClassifier               0.97               0.96     0.96      0.97   \n",
            "RidgeClassifierCV                  0.97               0.96     0.96      0.97   \n",
            "LGBMClassifier                     0.96               0.96     0.96      0.96   \n",
            "RidgeClassifier                    0.97               0.96     0.96      0.97   \n",
            "AdaBoostClassifier                 0.96               0.96     0.96      0.96   \n",
            "KNeighborsClassifier               0.96               0.96     0.96      0.96   \n",
            "BernoulliNB                        0.95               0.95     0.95      0.95   \n",
            "LinearDiscriminantAnalysis         0.96               0.95     0.95      0.96   \n",
            "GaussianNB                         0.95               0.95     0.95      0.95   \n",
            "NuSVC                              0.95               0.94     0.94      0.95   \n",
            "ExtraTreeClassifier                0.94               0.93     0.93      0.94   \n",
            "NearestCentroid                    0.95               0.93     0.93      0.95   \n",
            "DecisionTreeClassifier             0.93               0.93     0.93      0.93   \n",
            "DummyClassifier                    0.53               0.50     0.50      0.53   \n",
            "\n",
            "                               Time Taken  \n",
            "Model                                      \n",
            "LinearSVC                            0.03  \n",
            "Perceptron                           0.02  \n",
            "LogisticRegression                   0.04  \n",
            "SVC                                  0.04  \n",
            "XGBClassifier                        0.08  \n",
            "LabelPropagation                     0.03  \n",
            "LabelSpreading                       0.04  \n",
            "BaggingClassifier                    0.06  \n",
            "PassiveAggressiveClassifier          0.02  \n",
            "SGDClassifier                        0.03  \n",
            "RandomForestClassifier               0.21  \n",
            "CalibratedClassifierCV               0.04  \n",
            "QuadraticDiscriminantAnalysis        0.02  \n",
            "ExtraTreesClassifier                 0.17  \n",
            "RidgeClassifierCV                    0.03  \n",
            "LGBMClassifier                       0.09  \n",
            "RidgeClassifier                      0.02  \n",
            "AdaBoostClassifier                   0.15  \n",
            "KNeighborsClassifier                 0.03  \n",
            "BernoulliNB                          0.02  \n",
            "LinearDiscriminantAnalysis           0.05  \n",
            "GaussianNB                           0.03  \n",
            "NuSVC                                0.02  \n",
            "ExtraTreeClassifier                  0.02  \n",
            "NearestCentroid                      0.02  \n",
            "DecisionTreeClassifier               0.02  \n",
            "DummyClassifier                      0.02  \n"
          ]
        },
        {
          "output_type": "stream",
          "name": "stderr",
          "text": [
            "\n"
          ]
        }
      ]
    },
    {
      "cell_type": "code",
      "source": [
        "print(predictions)"
      ],
      "metadata": {
        "colab": {
          "base_uri": "https://localhost:8080/"
        },
        "id": "U-5asEzG6ii5",
        "outputId": "16d8922a-6c91-440f-87a5-7fbab5aec044"
      },
      "execution_count": 19,
      "outputs": [
        {
          "output_type": "stream",
          "name": "stdout",
          "text": [
            "                               Accuracy  Balanced Accuracy  ROC AUC  F1 Score  \\\n",
            "Model                                                                           \n",
            "LinearSVC                          0.99               0.99     0.99      0.99   \n",
            "Perceptron                         0.99               0.98     0.98      0.99   \n",
            "LogisticRegression                 0.99               0.98     0.98      0.99   \n",
            "SVC                                0.98               0.98     0.98      0.98   \n",
            "XGBClassifier                      0.98               0.98     0.98      0.98   \n",
            "LabelPropagation                   0.98               0.97     0.97      0.98   \n",
            "LabelSpreading                     0.98               0.97     0.97      0.98   \n",
            "BaggingClassifier                  0.97               0.97     0.97      0.97   \n",
            "PassiveAggressiveClassifier        0.98               0.97     0.97      0.98   \n",
            "SGDClassifier                      0.98               0.97     0.97      0.98   \n",
            "RandomForestClassifier             0.97               0.97     0.97      0.97   \n",
            "CalibratedClassifierCV             0.98               0.97     0.97      0.98   \n",
            "QuadraticDiscriminantAnalysis      0.96               0.97     0.97      0.97   \n",
            "ExtraTreesClassifier               0.97               0.96     0.96      0.97   \n",
            "RidgeClassifierCV                  0.97               0.96     0.96      0.97   \n",
            "LGBMClassifier                     0.96               0.96     0.96      0.96   \n",
            "RidgeClassifier                    0.97               0.96     0.96      0.97   \n",
            "AdaBoostClassifier                 0.96               0.96     0.96      0.96   \n",
            "KNeighborsClassifier               0.96               0.96     0.96      0.96   \n",
            "BernoulliNB                        0.95               0.95     0.95      0.95   \n",
            "LinearDiscriminantAnalysis         0.96               0.95     0.95      0.96   \n",
            "GaussianNB                         0.95               0.95     0.95      0.95   \n",
            "NuSVC                              0.95               0.94     0.94      0.95   \n",
            "ExtraTreeClassifier                0.94               0.93     0.93      0.94   \n",
            "NearestCentroid                    0.95               0.93     0.93      0.95   \n",
            "DecisionTreeClassifier             0.93               0.93     0.93      0.93   \n",
            "DummyClassifier                    0.53               0.50     0.50      0.53   \n",
            "\n",
            "                               Time Taken  \n",
            "Model                                      \n",
            "LinearSVC                            0.03  \n",
            "Perceptron                           0.02  \n",
            "LogisticRegression                   0.04  \n",
            "SVC                                  0.04  \n",
            "XGBClassifier                        0.08  \n",
            "LabelPropagation                     0.03  \n",
            "LabelSpreading                       0.04  \n",
            "BaggingClassifier                    0.06  \n",
            "PassiveAggressiveClassifier          0.02  \n",
            "SGDClassifier                        0.03  \n",
            "RandomForestClassifier               0.21  \n",
            "CalibratedClassifierCV               0.04  \n",
            "QuadraticDiscriminantAnalysis        0.02  \n",
            "ExtraTreesClassifier                 0.17  \n",
            "RidgeClassifierCV                    0.03  \n",
            "LGBMClassifier                       0.09  \n",
            "RidgeClassifier                      0.02  \n",
            "AdaBoostClassifier                   0.15  \n",
            "KNeighborsClassifier                 0.03  \n",
            "BernoulliNB                          0.02  \n",
            "LinearDiscriminantAnalysis           0.05  \n",
            "GaussianNB                           0.03  \n",
            "NuSVC                                0.02  \n",
            "ExtraTreeClassifier                  0.02  \n",
            "NearestCentroid                      0.02  \n",
            "DecisionTreeClassifier               0.02  \n",
            "DummyClassifier                      0.02  \n"
          ]
        }
      ]
    }
  ]
}