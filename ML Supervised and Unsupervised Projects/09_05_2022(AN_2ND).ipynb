{
  "nbformat": 4,
  "nbformat_minor": 0,
  "metadata": {
    "colab": {
      "name": "09.05.2022(AN-2ND).ipynb",
      "provenance": []
    },
    "kernelspec": {
      "name": "python3",
      "display_name": "Python 3"
    },
    "language_info": {
      "name": "python"
    }
  },
  "cells": [
    {
      "cell_type": "code",
      "execution_count": null,
      "metadata": {
        "id": "rumzy0n-RZIg",
        "colab": {
          "base_uri": "https://localhost:8080/"
        },
        "outputId": "5dcd7d7f-cda4-4c51-9481-5f2101f591e6"
      },
      "outputs": [
        {
          "output_type": "stream",
          "name": "stdout",
          "text": [
            "Drive already mounted at /content/drive; to attempt to forcibly remount, call drive.mount(\"/content/drive\", force_remount=True).\n"
          ]
        }
      ],
      "source": [
        "from google.colab import drive\n",
        "drive.mount('/content/drive')"
      ]
    },
    {
      "cell_type": "code",
      "source": [
        "import pandas as pd\n",
        "df=pd.read_csv('/content/drive/MyDrive/0.MKCE/3.Logistic Regression/2 Project/Vaccine Usage Prediction/Dataset/h1n1_vaccine_prediction.csv')"
      ],
      "metadata": {
        "id": "vdlrbB11RhZu"
      },
      "execution_count": null,
      "outputs": []
    },
    {
      "cell_type": "code",
      "source": [
        "df.info()\n"
      ],
      "metadata": {
        "colab": {
          "base_uri": "https://localhost:8080/"
        },
        "id": "ZTd62N9GUBHP",
        "outputId": "067ae89d-5c90-484d-afaa-b4f89bf5f994"
      },
      "execution_count": null,
      "outputs": [
        {
          "output_type": "stream",
          "name": "stdout",
          "text": [
            "<class 'pandas.core.frame.DataFrame'>\n",
            "RangeIndex: 26707 entries, 0 to 26706\n",
            "Data columns (total 34 columns):\n",
            " #   Column                     Non-Null Count  Dtype  \n",
            "---  ------                     --------------  -----  \n",
            " 0   unique_id                  26707 non-null  int64  \n",
            " 1   h1n1_worry                 26615 non-null  float64\n",
            " 2   h1n1_awareness             26591 non-null  float64\n",
            " 3   antiviral_medication       26636 non-null  float64\n",
            " 4   contact_avoidance          26499 non-null  float64\n",
            " 5   bought_face_mask           26688 non-null  float64\n",
            " 6   wash_hands_frequently      26665 non-null  float64\n",
            " 7   avoid_large_gatherings     26620 non-null  float64\n",
            " 8   reduced_outside_home_cont  26625 non-null  float64\n",
            " 9   avoid_touch_face           26579 non-null  float64\n",
            " 10  dr_recc_h1n1_vacc          24547 non-null  float64\n",
            " 11  dr_recc_seasonal_vacc      24547 non-null  float64\n",
            " 12  chronic_medic_condition    25736 non-null  float64\n",
            " 13  cont_child_undr_6_mnths    25887 non-null  float64\n",
            " 14  is_health_worker           25903 non-null  float64\n",
            " 15  has_health_insur           14433 non-null  float64\n",
            " 16  is_h1n1_vacc_effective     26316 non-null  float64\n",
            " 17  is_h1n1_risky              26319 non-null  float64\n",
            " 18  sick_from_h1n1_vacc        26312 non-null  float64\n",
            " 19  is_seas_vacc_effective     26245 non-null  float64\n",
            " 20  is_seas_risky              26193 non-null  float64\n",
            " 21  sick_from_seas_vacc        26170 non-null  float64\n",
            " 22  age_bracket                26707 non-null  object \n",
            " 23  qualification              25300 non-null  object \n",
            " 24  race                       26707 non-null  object \n",
            " 25  sex                        26707 non-null  object \n",
            " 26  income_level               22284 non-null  object \n",
            " 27  marital_status             25299 non-null  object \n",
            " 28  housing_status             24665 non-null  object \n",
            " 29  employment                 25244 non-null  object \n",
            " 30  census_msa                 26707 non-null  object \n",
            " 31  no_of_adults               26458 non-null  float64\n",
            " 32  no_of_children             26458 non-null  float64\n",
            " 33  h1n1_vaccine               26707 non-null  int64  \n",
            "dtypes: float64(23), int64(2), object(9)\n",
            "memory usage: 6.9+ MB\n"
          ]
        }
      ]
    },
    {
      "cell_type": "code",
      "source": [
        "import pandas as pd\n",
        "df=pd.get_dummies(df)"
      ],
      "metadata": {
        "id": "uLUo5-GnUBOl"
      },
      "execution_count": null,
      "outputs": []
    },
    {
      "cell_type": "code",
      "source": [
        "df.info()"
      ],
      "metadata": {
        "colab": {
          "base_uri": "https://localhost:8080/"
        },
        "id": "wW7L3-K5VIra",
        "outputId": "856dba5f-eb0f-4e6f-cec2-459a0a1efcc4"
      },
      "execution_count": null,
      "outputs": [
        {
          "output_type": "stream",
          "name": "stdout",
          "text": [
            "<class 'pandas.core.frame.DataFrame'>\n",
            "RangeIndex: 26707 entries, 0 to 26706\n",
            "Data columns (total 53 columns):\n",
            " #   Column                                  Non-Null Count  Dtype  \n",
            "---  ------                                  --------------  -----  \n",
            " 0   unique_id                               26707 non-null  int64  \n",
            " 1   h1n1_worry                              26615 non-null  float64\n",
            " 2   h1n1_awareness                          26591 non-null  float64\n",
            " 3   antiviral_medication                    26636 non-null  float64\n",
            " 4   contact_avoidance                       26499 non-null  float64\n",
            " 5   bought_face_mask                        26688 non-null  float64\n",
            " 6   wash_hands_frequently                   26665 non-null  float64\n",
            " 7   avoid_large_gatherings                  26620 non-null  float64\n",
            " 8   reduced_outside_home_cont               26625 non-null  float64\n",
            " 9   avoid_touch_face                        26579 non-null  float64\n",
            " 10  dr_recc_h1n1_vacc                       24547 non-null  float64\n",
            " 11  dr_recc_seasonal_vacc                   24547 non-null  float64\n",
            " 12  chronic_medic_condition                 25736 non-null  float64\n",
            " 13  cont_child_undr_6_mnths                 25887 non-null  float64\n",
            " 14  is_health_worker                        25903 non-null  float64\n",
            " 15  has_health_insur                        14433 non-null  float64\n",
            " 16  is_h1n1_vacc_effective                  26316 non-null  float64\n",
            " 17  is_h1n1_risky                           26319 non-null  float64\n",
            " 18  sick_from_h1n1_vacc                     26312 non-null  float64\n",
            " 19  is_seas_vacc_effective                  26245 non-null  float64\n",
            " 20  is_seas_risky                           26193 non-null  float64\n",
            " 21  sick_from_seas_vacc                     26170 non-null  float64\n",
            " 22  no_of_adults                            26458 non-null  float64\n",
            " 23  no_of_children                          26458 non-null  float64\n",
            " 24  h1n1_vaccine                            26707 non-null  int64  \n",
            " 25  age_bracket_18 - 34 Years               26707 non-null  uint8  \n",
            " 26  age_bracket_35 - 44 Years               26707 non-null  uint8  \n",
            " 27  age_bracket_45 - 54 Years               26707 non-null  uint8  \n",
            " 28  age_bracket_55 - 64 Years               26707 non-null  uint8  \n",
            " 29  age_bracket_65+ Years                   26707 non-null  uint8  \n",
            " 30  qualification_12 Years                  26707 non-null  uint8  \n",
            " 31  qualification_< 12 Years                26707 non-null  uint8  \n",
            " 32  qualification_College Graduate          26707 non-null  uint8  \n",
            " 33  qualification_Some College              26707 non-null  uint8  \n",
            " 34  race_Black                              26707 non-null  uint8  \n",
            " 35  race_Hispanic                           26707 non-null  uint8  \n",
            " 36  race_Other or Multiple                  26707 non-null  uint8  \n",
            " 37  race_White                              26707 non-null  uint8  \n",
            " 38  sex_Female                              26707 non-null  uint8  \n",
            " 39  sex_Male                                26707 non-null  uint8  \n",
            " 40  income_level_<= $75,000, Above Poverty  26707 non-null  uint8  \n",
            " 41  income_level_> $75,000                  26707 non-null  uint8  \n",
            " 42  income_level_Below Poverty              26707 non-null  uint8  \n",
            " 43  marital_status_Married                  26707 non-null  uint8  \n",
            " 44  marital_status_Not Married              26707 non-null  uint8  \n",
            " 45  housing_status_Own                      26707 non-null  uint8  \n",
            " 46  housing_status_Rent                     26707 non-null  uint8  \n",
            " 47  employment_Employed                     26707 non-null  uint8  \n",
            " 48  employment_Not in Labor Force           26707 non-null  uint8  \n",
            " 49  employment_Unemployed                   26707 non-null  uint8  \n",
            " 50  census_msa_MSA, Not Principle  City     26707 non-null  uint8  \n",
            " 51  census_msa_MSA, Principle City          26707 non-null  uint8  \n",
            " 52  census_msa_Non-MSA                      26707 non-null  uint8  \n",
            "dtypes: float64(23), int64(2), uint8(28)\n",
            "memory usage: 5.8 MB\n"
          ]
        }
      ]
    },
    {
      "cell_type": "code",
      "source": [
        "df.dropna(axis=0,inplace=True)"
      ],
      "metadata": {
        "id": "K6a3NHSia9uX"
      },
      "execution_count": null,
      "outputs": []
    },
    {
      "cell_type": "code",
      "source": [
        "x=df.drop(['h1n1_vaccine'],axis=1).values"
      ],
      "metadata": {
        "id": "fHmk_MZ0UOt_"
      },
      "execution_count": null,
      "outputs": []
    },
    {
      "cell_type": "code",
      "source": [
        "y=df['h1n1_vaccine'].values"
      ],
      "metadata": {
        "id": "ov_3QxzbUc_k"
      },
      "execution_count": null,
      "outputs": []
    },
    {
      "cell_type": "code",
      "source": [
        "# Splitting the dataset into the Training set and Test set\n",
        "from sklearn.model_selection import train_test_split\n",
        "x_train, x_test, y_train, y_test = train_test_split(x, y, test_size = 0.25, random_state = 0)\n"
      ],
      "metadata": {
        "id": "LXrXu3udU3nu"
      },
      "execution_count": null,
      "outputs": []
    },
    {
      "cell_type": "code",
      "source": [
        "\n",
        "# Fitting Logistic Regression to the Training set\n",
        "from sklearn.linear_model import LogisticRegression\n",
        "model=LogisticRegression()\n",
        "\n"
      ],
      "metadata": {
        "id": "B0vyMyBJU6ls"
      },
      "execution_count": null,
      "outputs": []
    },
    {
      "cell_type": "code",
      "source": [
        "df.shape"
      ],
      "metadata": {
        "colab": {
          "base_uri": "https://localhost:8080/"
        },
        "id": "dat8GDMXaSTs",
        "outputId": "7b910b8c-e50b-4091-a60f-c2018973c7db"
      },
      "execution_count": null,
      "outputs": [
        {
          "output_type": "execute_result",
          "data": {
            "text/plain": [
              "(13506, 53)"
            ]
          },
          "metadata": {},
          "execution_count": 62
        }
      ]
    },
    {
      "cell_type": "code",
      "source": [
        "model.fit(x_train,y_train)"
      ],
      "metadata": {
        "colab": {
          "base_uri": "https://localhost:8080/"
        },
        "id": "qY-CK2h4U9Do",
        "outputId": "75b8e753-b39a-4cf5-c346-c828218d7ea1"
      },
      "execution_count": null,
      "outputs": [
        {
          "output_type": "execute_result",
          "data": {
            "text/plain": [
              "LogisticRegression()"
            ]
          },
          "metadata": {},
          "execution_count": 63
        }
      ]
    },
    {
      "cell_type": "code",
      "source": [
        "#prediction\n",
        "y_pred=model.predict(x_test)\n",
        "y_pred"
      ],
      "metadata": {
        "colab": {
          "base_uri": "https://localhost:8080/"
        },
        "id": "8rxYuQR2bN5o",
        "outputId": "8b6ea7b3-974e-427e-a5cc-5399fea92be2"
      },
      "execution_count": null,
      "outputs": [
        {
          "output_type": "execute_result",
          "data": {
            "text/plain": [
              "array([1, 0, 0, ..., 0, 1, 0])"
            ]
          },
          "metadata": {},
          "execution_count": 64
        }
      ]
    },
    {
      "cell_type": "code",
      "source": [
        "#predicting the occurances of  probabilitiess for the data\n",
        "model.predict_proba(x_test)"
      ],
      "metadata": {
        "colab": {
          "base_uri": "https://localhost:8080/"
        },
        "id": "uEyMzqYMcBxX",
        "outputId": "e484e3d2-8761-46ca-d059-c6e0b6c9855c"
      },
      "execution_count": null,
      "outputs": [
        {
          "output_type": "execute_result",
          "data": {
            "text/plain": [
              "array([[0.10445936, 0.89554064],\n",
              "       [0.86127602, 0.13872398],\n",
              "       [0.79080737, 0.20919263],\n",
              "       ...,\n",
              "       [0.92419754, 0.07580246],\n",
              "       [0.42374779, 0.57625221],\n",
              "       [0.9766335 , 0.0233665 ]])"
            ]
          },
          "metadata": {},
          "execution_count": 65
        }
      ]
    },
    {
      "cell_type": "code",
      "source": [
        "#to measure the accuracy of model\n",
        "from sklearn.metrics import accuracy_score,confusion_matrix,classification_report\n"
      ],
      "metadata": {
        "id": "Y9okpKcdcWSb"
      },
      "execution_count": null,
      "outputs": []
    },
    {
      "cell_type": "code",
      "source": [
        "accuracy_score(y_test,y_pred)"
      ],
      "metadata": {
        "colab": {
          "base_uri": "https://localhost:8080/"
        },
        "id": "vs7E_0vIcZeT",
        "outputId": "1a7a976f-a228-41bb-ea1b-05b9958ceef8"
      },
      "execution_count": null,
      "outputs": [
        {
          "output_type": "execute_result",
          "data": {
            "text/plain": [
              "0.7936037903464613"
            ]
          },
          "metadata": {},
          "execution_count": 67
        }
      ]
    },
    {
      "cell_type": "code",
      "source": [
        "confusion_matrix(y_test,y_pred)"
      ],
      "metadata": {
        "colab": {
          "base_uri": "https://localhost:8080/"
        },
        "id": "nTkMbSmeccHd",
        "outputId": "19cc77e1-7ece-4f9b-d7dc-6c822930a297"
      },
      "execution_count": null,
      "outputs": [
        {
          "output_type": "execute_result",
          "data": {
            "text/plain": [
              "array([[2133,  246],\n",
              "       [ 451,  547]])"
            ]
          },
          "metadata": {},
          "execution_count": 68
        }
      ]
    },
    {
      "cell_type": "code",
      "source": [
        "z=classification_report(y_test,y_pred)\n",
        "print(z)"
      ],
      "metadata": {
        "colab": {
          "base_uri": "https://localhost:8080/"
        },
        "id": "M9InYUwAcfYU",
        "outputId": "4b5869fc-8f74-4e75-85fd-55ca4012098a"
      },
      "execution_count": null,
      "outputs": [
        {
          "output_type": "stream",
          "name": "stdout",
          "text": [
            "              precision    recall  f1-score   support\n",
            "\n",
            "           0       0.83      0.90      0.86      2379\n",
            "           1       0.69      0.55      0.61       998\n",
            "\n",
            "    accuracy                           0.79      3377\n",
            "   macro avg       0.76      0.72      0.74      3377\n",
            "weighted avg       0.79      0.79      0.79      3377\n",
            "\n"
          ]
        }
      ]
    }
  ]
}