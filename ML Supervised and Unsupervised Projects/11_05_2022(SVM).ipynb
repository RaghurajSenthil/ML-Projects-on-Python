{
  "nbformat": 4,
  "nbformat_minor": 0,
  "metadata": {
    "colab": {
      "name": "11.05.2022(SVM).ipynb",
      "provenance": []
    },
    "kernelspec": {
      "name": "python3",
      "display_name": "Python 3"
    },
    "language_info": {
      "name": "python"
    }
  },
  "cells": [
    {
      "cell_type": "code",
      "execution_count": 1,
      "metadata": {
        "colab": {
          "base_uri": "https://localhost:8080/"
        },
        "id": "ejdrzcFyk_PX",
        "outputId": "2ea02943-ae0c-4796-8db7-776988914f01"
      },
      "outputs": [
        {
          "output_type": "stream",
          "name": "stdout",
          "text": [
            "Mounted at /content/drive\n"
          ]
        }
      ],
      "source": [
        "#svm-support vector machine\n",
        "from google.colab import drive \n",
        "drive.mount('/content/drive')"
      ]
    },
    {
      "cell_type": "code",
      "source": [
        "import pandas as pd\n",
        "df=pd.read_csv(\"/content/drive/MyDrive/0.MKCE/Datasets/Social_Network_Ads.csv\")"
      ],
      "metadata": {
        "id": "8blaOTjBmzif"
      },
      "execution_count": 2,
      "outputs": []
    },
    {
      "cell_type": "code",
      "source": [
        "df=pd.get_dummies(df)"
      ],
      "metadata": {
        "id": "vIz7dErqnQDo"
      },
      "execution_count": 3,
      "outputs": []
    },
    {
      "cell_type": "code",
      "source": [
        "x=df.drop(['Purchased'],axis=1)"
      ],
      "metadata": {
        "id": "pIQUnoi0nVxo"
      },
      "execution_count": 4,
      "outputs": []
    },
    {
      "cell_type": "code",
      "source": [
        "y=df['Purchased'].values"
      ],
      "metadata": {
        "id": "DtBlwA8jna4e"
      },
      "execution_count": 5,
      "outputs": []
    },
    {
      "cell_type": "code",
      "source": [
        "# Splitting the dataset into the Training set and Test set\n",
        "from sklearn.model_selection import train_test_split\n",
        "x_train, x_test, y_train, y_test = train_test_split(x, y, test_size = 0.25, random_state = 0)"
      ],
      "metadata": {
        "id": "4IGTvEFLn6Ch"
      },
      "execution_count": 6,
      "outputs": []
    },
    {
      "cell_type": "code",
      "source": [
        "#scaling\n",
        "from sklearn.preprocessing import StandardScaler\n",
        "sc=StandardScaler()\n",
        "x_train=sc.fit_transform(x_train)\n",
        "x_test=sc.transform(x_test)"
      ],
      "metadata": {
        "id": "bP9J__vbJbsZ"
      },
      "execution_count": 7,
      "outputs": []
    },
    {
      "cell_type": "code",
      "source": [
        "#fiting svm to the training set\n",
        "from sklearn.svm import SVC\n",
        "classifier2=SVC(kernel='rbf',probability= True, random_state=0)\n",
        "classifier2.fit(x_train,y_train)"
      ],
      "metadata": {
        "colab": {
          "base_uri": "https://localhost:8080/"
        },
        "id": "H-T7B1nTJq3F",
        "outputId": "112f7f1c-2d66-45e3-f89d-6bbc5afe2546"
      },
      "execution_count": 42,
      "outputs": [
        {
          "output_type": "execute_result",
          "data": {
            "text/plain": [
              "SVC(probability=True, random_state=0)"
            ]
          },
          "metadata": {},
          "execution_count": 42
        }
      ]
    },
    {
      "cell_type": "code",
      "source": [
        "classifier2.get_params()"
      ],
      "metadata": {
        "colab": {
          "base_uri": "https://localhost:8080/"
        },
        "id": "CmfVNlWEP6cv",
        "outputId": "8568c435-9d9b-4782-bdc6-50d97ffb1163"
      },
      "execution_count": 41,
      "outputs": [
        {
          "output_type": "execute_result",
          "data": {
            "text/plain": [
              "{'C': 1.0,\n",
              " 'break_ties': False,\n",
              " 'cache_size': 200,\n",
              " 'class_weight': None,\n",
              " 'coef0': 0.0,\n",
              " 'decision_function_shape': 'ovr',\n",
              " 'degree': 3,\n",
              " 'gamma': 'scale',\n",
              " 'kernel': 'rbf',\n",
              " 'max_iter': -1,\n",
              " 'probability': False,\n",
              " 'random_state': 0,\n",
              " 'shrinking': True,\n",
              " 'tol': 0.001,\n",
              " 'verbose': False}"
            ]
          },
          "metadata": {},
          "execution_count": 41
        }
      ]
    },
    {
      "cell_type": "code",
      "source": [
        "#predicting the test set results\n",
        "y_pred2=classifier2.predict(x_test)"
      ],
      "metadata": {
        "id": "Lf5-V9z1KPoo"
      },
      "execution_count": 43,
      "outputs": []
    },
    {
      "cell_type": "code",
      "source": [
        "#to measure the accuracy of model\n",
        "from sklearn.metrics import accuracy_score,confusion_matrix,classification_report\n",
        "accuracy_score(y_test,y_pred2)"
      ],
      "metadata": {
        "colab": {
          "base_uri": "https://localhost:8080/"
        },
        "id": "Fs5hMFvxKVbA",
        "outputId": "d233a2da-1990-4b03-eada-bb00609cf943"
      },
      "execution_count": 44,
      "outputs": [
        {
          "output_type": "execute_result",
          "data": {
            "text/plain": [
              "0.92"
            ]
          },
          "metadata": {},
          "execution_count": 44
        }
      ]
    },
    {
      "cell_type": "code",
      "source": [
        "#making confusion matrix\n",
        "confusion_matrix(y_test,y_pred2)"
      ],
      "metadata": {
        "colab": {
          "base_uri": "https://localhost:8080/"
        },
        "id": "JGJm7mHZKYZi",
        "outputId": "c169f56c-2f1a-4c3a-ee1b-176171f8c2c8"
      },
      "execution_count": 45,
      "outputs": [
        {
          "output_type": "execute_result",
          "data": {
            "text/plain": [
              "array([[64,  4],\n",
              "       [ 4, 28]])"
            ]
          },
          "metadata": {},
          "execution_count": 45
        }
      ]
    },
    {
      "cell_type": "code",
      "source": [
        "#classification report\n",
        "z=classification_report(y_test,y_pred2)\n",
        "print(z) "
      ],
      "metadata": {
        "colab": {
          "base_uri": "https://localhost:8080/"
        },
        "id": "S2cRka9pKbIY",
        "outputId": "76b11de5-9d6a-4154-83ec-8599ad741800"
      },
      "execution_count": 46,
      "outputs": [
        {
          "output_type": "stream",
          "name": "stdout",
          "text": [
            "              precision    recall  f1-score   support\n",
            "\n",
            "           0       0.94      0.94      0.94        68\n",
            "           1       0.88      0.88      0.88        32\n",
            "\n",
            "    accuracy                           0.92       100\n",
            "   macro avg       0.91      0.91      0.91       100\n",
            "weighted avg       0.92      0.92      0.92       100\n",
            "\n"
          ]
        }
      ]
    },
    {
      "cell_type": "code",
      "source": [
        "#for computing Receiver operating characteristics\n",
        "from sklearn.metrics import roc_curve\n",
        "#for computing area under curve\n",
        "from sklearn.metrics import roc_auc_score"
      ],
      "metadata": {
        "id": "IRs7QlqJKgUQ"
      },
      "execution_count": 47,
      "outputs": []
    },
    {
      "cell_type": "code",
      "source": [
        "#visualizing the ROC-AUC curve\n",
        "y_proba=classifier2.predict_proba(x_test)\n",
        "\n",
        "#we take the predicted values of class 1\n",
        "y_predicted=y_proba[:,1]\n",
        "\n",
        "#we check to see if the right values have been considered from the predicted values\n",
        "print(y_predicted)"
      ],
      "metadata": {
        "colab": {
          "base_uri": "https://localhost:8080/"
        },
        "id": "iiYOJqFYKjbg",
        "outputId": "e9309b14-1165-4505-9328-9bd3cbbe7046"
      },
      "execution_count": 48,
      "outputs": [
        {
          "output_type": "stream",
          "name": "stdout",
          "text": [
            "[0.06487154 0.06481808 0.03854901 0.03249812 0.03200872 0.07152784\n",
            " 0.11876328 0.97561626 0.0401064  0.71252143 0.00944477 0.01477504\n",
            " 0.0272774  0.17349447 0.11603974 0.67392227 0.05509601 0.17618327\n",
            " 0.92358437 0.11087928 0.04773159 0.96412145 0.13958291 0.83064255\n",
            " 0.03342787 0.96156359 0.050876   0.03555486 0.04888202 0.07115621\n",
            " 0.23788476 0.09627075 0.89838916 0.04073723 0.01358638 0.04614107\n",
            " 0.0667627  0.06115947 0.02141302 0.92071678 0.0802529  0.12108905\n",
            " 0.04461321 0.10295609 0.79179521 0.01056206 0.08570353 0.87407124\n",
            " 0.02634617 0.78476996 0.94471188 0.10110309 0.06717683 0.85601792\n",
            " 0.95053295 0.60677427 0.04585183 0.04781979 0.78303066 0.05722676\n",
            " 0.10331173 0.96349033 0.11471294 0.35064872 0.04643876 0.9503775\n",
            " 0.08485209 0.01003384 0.11196278 0.16029623 0.95733438 0.05782738\n",
            " 0.02867885 0.8605039  0.10311854 0.1569857  0.21757071 0.15210192\n",
            " 0.85176016 0.77518991 0.92510554 0.95413377 0.01240649 0.01475199\n",
            " 0.96733716 0.23101162 0.11092434 0.94217336 0.6211658  0.11079761\n",
            " 0.14491604 0.90623626 0.02034362 0.03038012 0.06276611 0.1452439\n",
            " 0.04934436 0.62263856 0.77275605 0.74219508]\n"
          ]
        }
      ]
    },
    {
      "cell_type": "code",
      "source": [
        "#using roc_curve() to generate fpr & tpr values\n",
        "fpr,tpr,thresholds=roc_curve(y_test,y_predicted)"
      ],
      "metadata": {
        "id": "AE5WnUL7KzfY"
      },
      "execution_count": 49,
      "outputs": []
    },
    {
      "cell_type": "code",
      "source": [
        "#passing the fpr&tpr values to auc()to calculate the area under curve\n",
        "from sklearn.metrics import auc\n",
        "roc_auc=auc(fpr,tpr)\n",
        "print(\"Area under the curve for first model\",roc_auc)"
      ],
      "metadata": {
        "colab": {
          "base_uri": "https://localhost:8080/"
        },
        "id": "3q1QuvIeK1y7",
        "outputId": "51fe49fb-594f-46d8-98e9-028ed2d37c35"
      },
      "execution_count": 50,
      "outputs": [
        {
          "output_type": "stream",
          "name": "stdout",
          "text": [
            "Area under the curve for first model 0.9613970588235294\n"
          ]
        }
      ]
    },
    {
      "cell_type": "code",
      "source": [
        "#plotting the ROC curve\n",
        "import matplotlib.pyplot as plt\n",
        "plt.figure()\n",
        "plt.plot(fpr,tpr,color='orange',lw=2,label='ROC curve(area under curve=%0.2f)'%roc_auc)\n",
        "plt.plot([0,1],[0,1],color='darkgrey',lw=2,linestyle='--')\n",
        "plt.xlim([0.0,1.0])\n",
        "plt.ylim([0.0,1.0])\n",
        "plt.xlabel('False Positive Rate(1-Specificity)')\n",
        "plt.ylabel('True Positive Rate(Sensitivity)')\n"
      ],
      "metadata": {
        "colab": {
          "base_uri": "https://localhost:8080/",
          "height": 300
        },
        "id": "NVBtwdUFK3yc",
        "outputId": "06fa06ef-8659-4329-bed7-2a2058ebc219"
      },
      "execution_count": 51,
      "outputs": [
        {
          "output_type": "execute_result",
          "data": {
            "text/plain": [
              "Text(0, 0.5, 'True Positive Rate(Sensitivity)')"
            ]
          },
          "metadata": {},
          "execution_count": 51
        },
        {
          "output_type": "display_data",
          "data": {
            "text/plain": [
              "<Figure size 432x288 with 1 Axes>"
            ],
            "image/png": "[encoded data removed]"
          },
          "metadata": {
            "needs_background": "light"
          }
        }
      ]
    }
  ]
}