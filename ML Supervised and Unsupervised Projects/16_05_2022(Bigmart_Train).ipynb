{
  "nbformat": 4,
  "nbformat_minor": 0,
  "metadata": {
    "colab": {
      "name": "16.05.2022(Bigmart_Train).ipynb",
      "provenance": [],
      "collapsed_sections": []
    },
    "kernelspec": {
      "name": "python3",
      "display_name": "Python 3"
    },
    "language_info": {
      "name": "python"
    }
  },
  "cells": [
    {
      "cell_type": "code",
      "execution_count": null,
      "metadata": {
        "colab": {
          "base_uri": "https://localhost:8080/"
        },
        "id": "jtR5HI6qbT4M",
        "outputId": "cc6bf4dd-b694-48a6-b5e7-df4c7019e50c"
      },
      "outputs": [
        {
          "output_type": "stream",
          "name": "stdout",
          "text": [
            "Mounted at /content/drive\n"
          ]
        }
      ],
      "source": [
        "from google.colab import drive\n",
        "drive.mount('/content/drive')"
      ]
    },
    {
      "cell_type": "code",
      "source": [
        "import pandas as pd\n",
        "import matplotlib.pyplot as plt\n",
        "import seaborn as sns\n",
        "\n",
        "df=pd.read_csv(\"/content/drive/MyDrive/0.MKCE/Datasets/bigmart_train.csv\")"
      ],
      "metadata": {
        "id": "NoIx7LOdbuEA"
      },
      "execution_count": null,
      "outputs": []
    },
    {
      "cell_type": "code",
      "source": [
        "df.info()"
      ],
      "metadata": {
        "colab": {
          "base_uri": "https://localhost:8080/"
        },
        "id": "ctOn6VpzcBp1",
        "outputId": "c905c016-7765-4e03-a6f5-78322572b4b9"
      },
      "execution_count": null,
      "outputs": [
        {
          "output_type": "stream",
          "name": "stdout",
          "text": [
            "<class 'pandas.core.frame.DataFrame'>\n",
            "RangeIndex: 8523 entries, 0 to 8522\n",
            "Data columns (total 12 columns):\n",
            " #   Column                     Non-Null Count  Dtype  \n",
            "---  ------                     --------------  -----  \n",
            " 0   Item_Identifier            8523 non-null   object \n",
            " 1   Item_Weight                7060 non-null   float64\n",
            " 2   Item_Fat_Content           8523 non-null   object \n",
            " 3   Item_Visibility            8523 non-null   float64\n",
            " 4   Item_Type                  8523 non-null   object \n",
            " 5   Item_MRP                   8523 non-null   float64\n",
            " 6   Outlet_Identifier          8523 non-null   object \n",
            " 7   Outlet_Establishment_Year  8523 non-null   int64  \n",
            " 8   Outlet_Size                6113 non-null   object \n",
            " 9   Outlet_Location_Type       8523 non-null   object \n",
            " 10  Outlet_Type                8523 non-null   object \n",
            " 11  Item_Outlet_Sales          8523 non-null   float64\n",
            "dtypes: float64(4), int64(1), object(7)\n",
            "memory usage: 799.2+ KB\n"
          ]
        }
      ]
    },
    {
      "cell_type": "code",
      "source": [
        "df.shape"
      ],
      "metadata": {
        "colab": {
          "base_uri": "https://localhost:8080/"
        },
        "id": "9hfsclhucEja",
        "outputId": "b5997ac5-afcf-405f-aff6-3bff7ccddd8d"
      },
      "execution_count": null,
      "outputs": [
        {
          "output_type": "execute_result",
          "data": {
            "text/plain": [
              "(8523, 12)"
            ]
          },
          "metadata": {},
          "execution_count": 4
        }
      ]
    },
    {
      "cell_type": "code",
      "source": [
        "df.columns"
      ],
      "metadata": {
        "colab": {
          "base_uri": "https://localhost:8080/"
        },
        "id": "YJj_8fplcQM-",
        "outputId": "81fc90ae-e5af-438e-f45c-e5ac49103810"
      },
      "execution_count": null,
      "outputs": [
        {
          "output_type": "execute_result",
          "data": {
            "text/plain": [
              "Index(['Item_Identifier', 'Item_Weight', 'Item_Fat_Content', 'Item_Visibility',\n",
              "       'Item_Type', 'Item_MRP', 'Outlet_Identifier',\n",
              "       'Outlet_Establishment_Year', 'Outlet_Size', 'Outlet_Location_Type',\n",
              "       'Outlet_Type', 'Item_Outlet_Sales'],\n",
              "      dtype='object')"
            ]
          },
          "metadata": {},
          "execution_count": 5
        }
      ]
    },
    {
      "cell_type": "code",
      "source": [
        "df.describe()"
      ],
      "metadata": {
        "colab": {
          "base_uri": "https://localhost:8080/",
          "height": 300
        },
        "id": "qQQu97dIcSnD",
        "outputId": "21c06bc9-67fe-4d39-81ed-e7073f10c36e"
      },
      "execution_count": null,
      "outputs": [
        {
          "output_type": "execute_result",
          "data": {
            "text/plain": [
              "       Item_Weight  Item_Visibility     Item_MRP  Outlet_Establishment_Year  \\\n",
              "count  7060.000000      8523.000000  8523.000000                8523.000000   \n",
              "mean     12.857645         0.066132   140.992782                1997.831867   \n",
              "std       4.643456         0.051598    62.275067                   8.371760   \n",
              "min       4.555000         0.000000    31.290000                1985.000000   \n",
              "25%       8.773750         0.026989    93.826500                1987.000000   \n",
              "50%      12.600000         0.053931   143.012800                1999.000000   \n",
              "75%      16.850000         0.094585   185.643700                2004.000000   \n",
              "max      21.350000         0.328391   266.888400                2009.000000   \n",
              "\n",
              "       Item_Outlet_Sales  \n",
              "count        8523.000000  \n",
              "mean         2181.288914  \n",
              "std          1706.499616  \n",
              "min            33.290000  \n",
              "25%           834.247400  \n",
              "50%          1794.331000  \n",
              "75%          3101.296400  \n",
              "max         13086.964800  "
            ],
            "text/html": [
              "\n",
              "  <div id=\"df-87df773d-1a98-40ec-abe7-811befbd09cd\">\n",
              "    <div class=\"colab-df-container\">\n",
              "      <div>\n",
              "<style scoped>\n",
              "    .dataframe tbody tr th:only-of-type {\n",
              "        vertical-align: middle;\n",
              "    }\n",
              "\n",
              "    .dataframe tbody tr th {\n",
              "        vertical-align: top;\n",
              "    }\n",
              "\n",
              "    .dataframe thead th {\n",
              "        text-align: right;\n",
              "    }\n",
              "</style>\n",
              "<table border=\"1\" class=\"dataframe\">\n",
              "  <thead>\n",
              "    <tr style=\"text-align: right;\">\n",
              "      <th></th>\n",
              "      <th>Item_Weight</th>\n",
              "      <th>Item_Visibility</th>\n",
              "      <th>Item_MRP</th>\n",
              "      <th>Outlet_Establishment_Year</th>\n",
              "      <th>Item_Outlet_Sales</th>\n",
              "    </tr>\n",
              "  </thead>\n",
              "  <tbody>\n",
              "    <tr>\n",
              "      <th>count</th>\n",
              "      <td>7060.000000</td>\n",
              "      <td>8523.000000</td>\n",
              "      <td>8523.000000</td>\n",
              "      <td>8523.000000</td>\n",
              "      <td>8523.000000</td>\n",
              "    </tr>\n",
              "    <tr>\n",
              "      <th>mean</th>\n",
              "      <td>12.857645</td>\n",
              "      <td>0.066132</td>\n",
              "      <td>140.992782</td>\n",
              "      <td>1997.831867</td>\n",
              "      <td>2181.288914</td>\n",
              "    </tr>\n",
              "    <tr>\n",
              "      <th>std</th>\n",
              "      <td>4.643456</td>\n",
              "      <td>0.051598</td>\n",
              "      <td>62.275067</td>\n",
              "      <td>8.371760</td>\n",
              "      <td>1706.499616</td>\n",
              "    </tr>\n",
              "    <tr>\n",
              "      <th>min</th>\n",
              "      <td>4.555000</td>\n",
              "      <td>0.000000</td>\n",
              "      <td>31.290000</td>\n",
              "      <td>1985.000000</td>\n",
              "      <td>33.290000</td>\n",
              "    </tr>\n",
              "    <tr>\n",
              "      <th>25%</th>\n",
              "      <td>8.773750</td>\n",
              "      <td>0.026989</td>\n",
              "      <td>93.826500</td>\n",
              "      <td>1987.000000</td>\n",
              "      <td>834.247400</td>\n",
              "    </tr>\n",
              "    <tr>\n",
              "      <th>50%</th>\n",
              "      <td>12.600000</td>\n",
              "      <td>0.053931</td>\n",
              "      <td>143.012800</td>\n",
              "      <td>1999.000000</td>\n",
              "      <td>1794.331000</td>\n",
              "    </tr>\n",
              "    <tr>\n",
              "      <th>75%</th>\n",
              "      <td>16.850000</td>\n",
              "      <td>0.094585</td>\n",
              "      <td>185.643700</td>\n",
              "      <td>2004.000000</td>\n",
              "      <td>3101.296400</td>\n",
              "    </tr>\n",
              "    <tr>\n",
              "      <th>max</th>\n",
              "      <td>21.350000</td>\n",
              "      <td>0.328391</td>\n",
              "      <td>266.888400</td>\n",
              "      <td>2009.000000</td>\n",
              "      <td>13086.964800</td>\n",
              "    </tr>\n",
              "  </tbody>\n",
              "</table>\n",
              "</div>\n",
              "      <button class=\"colab-df-convert\" onclick=\"convertToInteractive('df-87df773d-1a98-40ec-abe7-811befbd09cd')\"\n",
              "              title=\"Convert this dataframe to an interactive table.\"\n",
              "              style=\"display:none;\">\n",
              "        \n",
              "  <svg xmlns=\"http://www.w3.org/2000/svg\" height=\"24px\"viewBox=\"0 0 24 24\"\n",
              "       width=\"24px\">\n",
              "    <path d=\"M0 0h24v24H0V0z\" fill=\"none\"/>\n",
              "    <path d=\"M18.56 5.44l.94 2.06.94-2.06 2.06-.94-2.06-.94-.94-2.06-.94 2.06-2.06.94zm-11 1L8.5 8.5l.94-2.06 2.06-.94-2.06-.94L8.5 2.5l-.94 2.06-2.06.94zm10 10l.94 2.06.94-2.06 2.06-.94-2.06-.94-.94-2.06-.94 2.06-2.06.94z\"/><path d=\"M17.41 7.96l-1.37-1.37c-.4-.4-.92-.59-1.43-.59-.52 0-1.04.2-1.43.59L10.3 9.45l-7.72 7.72c-.78.78-.78 2.05 0 2.83L4 21.41c.39.39.9.59 1.41.59.51 0 1.02-.2 1.41-.59l7.78-7.78 2.81-2.81c.8-.78.8-2.07 0-2.86zM5.41 20L4 18.59l7.72-7.72 1.47 1.35L5.41 20z\"/>\n",
              "  </svg>\n",
              "      </button>\n",
              "      \n",
              "  <style>\n",
              "    .colab-df-container {\n",
              "      display:flex;\n",
              "      flex-wrap:wrap;\n",
              "      gap: 12px;\n",
              "    }\n",
              "\n",
              "    .colab-df-convert {\n",
              "      background-color: #E8F0FE;\n",
              "      border: none;\n",
              "      border-radius: 50%;\n",
              "      cursor: pointer;\n",
              "      display: none;\n",
              "      fill: #1967D2;\n",
              "      height: 32px;\n",
              "      padding: 0 0 0 0;\n",
              "      width: 32px;\n",
              "    }\n",
              "\n",
              "    .colab-df-convert:hover {\n",
              "      background-color: #E2EBFA;\n",
              "      box-shadow: 0px 1px 2px rgba(60, 64, 67, 0.3), 0px 1px 3px 1px rgba(60, 64, 67, 0.15);\n",
              "      fill: #174EA6;\n",
              "    }\n",
              "\n",
              "    [theme=dark] .colab-df-convert {\n",
              "      background-color: #3B4455;\n",
              "      fill: #D2E3FC;\n",
              "    }\n",
              "\n",
              "    [theme=dark] .colab-df-convert:hover {\n",
              "      background-color: #434B5C;\n",
              "      box-shadow: 0px 1px 3px 1px rgba(0, 0, 0, 0.15);\n",
              "      filter: drop-shadow(0px 1px 2px rgba(0, 0, 0, 0.3));\n",
              "      fill: #FFFFFF;\n",
              "    }\n",
              "  </style>\n",
              "\n",
              "      <script>\n",
              "        const buttonEl =\n",
              "          document.querySelector('#df-87df773d-1a98-40ec-abe7-811befbd09cd button.colab-df-convert');\n",
              "        buttonEl.style.display =\n",
              "          google.colab.kernel.accessAllowed ? 'block' : 'none';\n",
              "\n",
              "        async function convertToInteractive(key) {\n",
              "          const element = document.querySelector('#df-87df773d-1a98-40ec-abe7-811befbd09cd');\n",
              "          const dataTable =\n",
              "            await google.colab.kernel.invokeFunction('convertToInteractive',\n",
              "                                                     [key], {});\n",
              "          if (!dataTable) return;\n",
              "\n",
              "          const docLinkHtml = 'Like what you see? Visit the ' +\n",
              "            '<a target=\"_blank\" href=https://colab.research.google.com/notebooks/data_table.ipynb>data table notebook</a>'\n",
              "            + ' to learn more about interactive tables.';\n",
              "          element.innerHTML = '';\n",
              "          dataTable['output_type'] = 'display_data';\n",
              "          await google.colab.output.renderOutput(dataTable, element);\n",
              "          const docLink = document.createElement('div');\n",
              "          docLink.innerHTML = docLinkHtml;\n",
              "          element.appendChild(docLink);\n",
              "        }\n",
              "      </script>\n",
              "    </div>\n",
              "  </div>\n",
              "  "
            ]
          },
          "metadata": {},
          "execution_count": 6
        }
      ]
    },
    {
      "cell_type": "code",
      "source": [
        "df.duplicated()"
      ],
      "metadata": {
        "colab": {
          "base_uri": "https://localhost:8080/"
        },
        "id": "CwwJDBikcWxf",
        "outputId": "705c2f15-3715-4433-cbdb-8e2ba3fefa1c"
      },
      "execution_count": null,
      "outputs": [
        {
          "output_type": "execute_result",
          "data": {
            "text/plain": [
              "0       False\n",
              "1       False\n",
              "2       False\n",
              "3       False\n",
              "4       False\n",
              "        ...  \n",
              "8518    False\n",
              "8519    False\n",
              "8520    False\n",
              "8521    False\n",
              "8522    False\n",
              "Length: 8523, dtype: bool"
            ]
          },
          "metadata": {},
          "execution_count": 7
        }
      ]
    },
    {
      "cell_type": "code",
      "source": [
        "#Handling Outliers\n",
        "## Percentile method\n",
        "### IQR Method\n",
        "####Standard Deviation Method"
      ],
      "metadata": {
        "id": "aK9VTMziccv3"
      },
      "execution_count": null,
      "outputs": []
    },
    {
      "cell_type": "code",
      "source": [
        "#continous data --> variable possesses range\n",
        "#categorical data --> variable doesn't possesses range\n",
        "p0=df.Item_Weight.min()\n",
        "p100=df.Item_Weight.max()\n",
        "q1=df.Item_Weight.quantile(0.25)    #25th Quantile value\n",
        "q2=df.Item_Weight.quantile(0.5)     #50th Quantile value\n",
        "q3=df.Item_Weight.quantile(0.75)    #75th Quantile value\n",
        "\n",
        "iqr=q3 - q1  #Inter quantile  range"
      ],
      "metadata": {
        "id": "QJhqwC91ciR0"
      },
      "execution_count": null,
      "outputs": []
    },
    {
      "cell_type": "code",
      "source": [
        "lower_cutoff= q1 - 1.5*iqr            #if lower_cutoff<p0 --> There are NO outliers on the lower side\n",
        "upper_cutoff= q3 + 1.5*iqr            # if upper_cutoff>p100 --> There are NO ouliers in the Upper side\n",
        "print(lower_cutoff,upper_cutoff)"
      ],
      "metadata": {
        "colab": {
          "base_uri": "https://localhost:8080/"
        },
        "id": "k_N4SLqVc6Mv",
        "outputId": "a56e776f-4c59-4eb7-e867-65815a7d025f"
      },
      "execution_count": null,
      "outputs": [
        {
          "output_type": "stream",
          "name": "stdout",
          "text": [
            "-3.340625000000003 28.964375000000004\n"
          ]
        }
      ]
    },
    {
      "cell_type": "code",
      "source": [
        "print(\"p0 =\",p0,\n",
        "      \"\\np100 =\",p100,\n",
        "      \"\\nlc =\",lower_cutoff,\n",
        "      \"\\nuc =\",upper_cutoff)"
      ],
      "metadata": {
        "colab": {
          "base_uri": "https://localhost:8080/"
        },
        "id": "kKyfN8hXc9RN",
        "outputId": "9ce6bd35-c956-4c7b-e2f5-78e5a2731778"
      },
      "execution_count": null,
      "outputs": [
        {
          "output_type": "stream",
          "name": "stdout",
          "text": [
            "p0 = 4.555 \n",
            "p100 = 21.35 \n",
            "lc = -3.340625000000003 \n",
            "uc = 28.964375000000004\n"
          ]
        }
      ]
    },
    {
      "cell_type": "code",
      "source": [
        "df.Item_Weight.plot(kind='box')  #using pandas"
      ],
      "metadata": {
        "colab": {
          "base_uri": "https://localhost:8080/",
          "height": 283
        },
        "id": "dCbxNQrAc_aO",
        "outputId": "c31ec360-0c76-4fcc-9122-f30d5328797a"
      },
      "execution_count": null,
      "outputs": [
        {
          "output_type": "execute_result",
          "data": {
            "text/plain": [
              "<matplotlib.axes._subplots.AxesSubplot at 0x7f9af5abdf50>"
            ]
          },
          "metadata": {},
          "execution_count": 13
        },
        {
          "output_type": "display_data",
          "data": {
            "text/plain": [
              "<Figure size 432x288 with 1 Axes>"
            ],
            "image/png": "[encoded data removed]"
          },
          "metadata": {
            "needs_background": "light"
          }
        }
      ]
    },
    {
      "cell_type": "code",
      "source": [
        "#continous data --> variable possesses range\n",
        "#categorical data --> variable doesn't possesses range\n",
        "p0=df.Item_Visibility.min()\n",
        "p100=df.Item_Visibility.max()\n",
        "q1=df.Item_Visibility.quantile(0.25)    #25th Quantile value\n",
        "q2=df.Item_Visibility.quantile(0.5)     #50th Quantile value\n",
        "q3=df.Item_Visibility.quantile(0.75)    #75th Quantile value\n",
        "\n",
        "iqr=q3 - q1  #Inter quantile  range"
      ],
      "metadata": {
        "id": "R4v4OLEkdKfc"
      },
      "execution_count": null,
      "outputs": []
    },
    {
      "cell_type": "code",
      "source": [
        "lower_cutoff= q1 - 1.5*iqr            #if lower_cutoff<p0 --> There are NO outliers on the lower side\n",
        "upper_cutoff= q3 + 1.5*iqr            # if upper_cutoff>p100 --> There are NO ouliers in the Upper side\n",
        "print(lower_cutoff,upper_cutoff)"
      ],
      "metadata": {
        "colab": {
          "base_uri": "https://localhost:8080/"
        },
        "id": "L4jykKZkdUCh",
        "outputId": "fc5ab039-a38c-49ad-e428-65352a9bf3a2"
      },
      "execution_count": null,
      "outputs": [
        {
          "output_type": "stream",
          "name": "stdout",
          "text": [
            "-0.07440424500000001 0.195979015\n"
          ]
        }
      ]
    },
    {
      "cell_type": "code",
      "source": [
        "print(\"p0 =\",p0,\n",
        "      \"\\np100 =\",p100,\n",
        "      \"\\nlc =\",lower_cutoff,\n",
        "      \"\\nuc =\",upper_cutoff)"
      ],
      "metadata": {
        "colab": {
          "base_uri": "https://localhost:8080/"
        },
        "id": "bXDJ1R8idWl2",
        "outputId": "4122739b-05ab-4015-a313-a8e412e87132"
      },
      "execution_count": null,
      "outputs": [
        {
          "output_type": "stream",
          "name": "stdout",
          "text": [
            "p0 = 0.0 \n",
            "p100 = 0.328390948 \n",
            "lc = -0.07440424500000001 \n",
            "uc = 0.195979015\n"
          ]
        }
      ]
    },
    {
      "cell_type": "code",
      "source": [
        "df.Item_Visibility.plot(kind='box')  #using pandas"
      ],
      "metadata": {
        "colab": {
          "base_uri": "https://localhost:8080/",
          "height": 283
        },
        "id": "r9O52hkddZGX",
        "outputId": "a5da3a3c-d124-48ba-f6a5-21635847f31f"
      },
      "execution_count": null,
      "outputs": [
        {
          "output_type": "execute_result",
          "data": {
            "text/plain": [
              "<matplotlib.axes._subplots.AxesSubplot at 0x7f9af5a20190>"
            ]
          },
          "metadata": {},
          "execution_count": 17
        },
        {
          "output_type": "display_data",
          "data": {
            "text/plain": [
              "<Figure size 432x288 with 1 Axes>"
            ],
            "image/png": "[encoded data removed]"
          },
          "metadata": {
            "needs_background": "light"
          }
        }
      ]
    },
    {
      "cell_type": "code",
      "source": [
        "#Outlier Treatment\n",
        "## Clipping all values greater than the upper cutoff to the upper cutoff\n",
        "\n",
        "df.Item_Visibility.clip(upper=upper_cutoff)\n",
        "df.Item_Visibility.clip(upper=upper_cutoff,inplace=True)\n",
        "df.Item_Visibility.plot(kind='box')"
      ],
      "metadata": {
        "colab": {
          "base_uri": "https://localhost:8080/",
          "height": 283
        },
        "id": "xSYsEcVBdhXr",
        "outputId": "e9a4b3af-1ed4-4884-a813-79df31e12109"
      },
      "execution_count": null,
      "outputs": [
        {
          "output_type": "execute_result",
          "data": {
            "text/plain": [
              "<matplotlib.axes._subplots.AxesSubplot at 0x7f9af5a0c950>"
            ]
          },
          "metadata": {},
          "execution_count": 20
        },
        {
          "output_type": "display_data",
          "data": {
            "text/plain": [
              "<Figure size 432x288 with 1 Axes>"
            ],
            "image/png": "[encoded data removed]"
          },
          "metadata": {
            "needs_background": "light"
          }
        }
      ]
    },
    {
      "cell_type": "code",
      "source": [
        "#continous data --> variable possesses range\n",
        "#categorical data --> variable doesn't possesses range\n",
        "p0=df.Item_MRP.min()\n",
        "p100=df.Item_MRP.max()\n",
        "q1=df.Item_MRP.quantile(0.25)    #25th Quantile value\n",
        "q2=df.Item_MRP.quantile(0.5)     #50th Quantile value\n",
        "q3=df.Item_MRP.quantile(0.75)    #75th Quantile value\n",
        "\n",
        "iqr=q3 - q1  #Inter quantile  range"
      ],
      "metadata": {
        "id": "eQSwXCCkd5yP"
      },
      "execution_count": null,
      "outputs": []
    },
    {
      "cell_type": "code",
      "source": [
        "lower_cutoff= q1 - 1.5*iqr            #if lower_cutoff<p0 --> There are NO outliers on the lower side\n",
        "upper_cutoff= q3 + 1.5*iqr            # if upper_cutoff>p100 --> There are NO ouliers in the Upper side\n",
        "print(lower_cutoff,upper_cutoff)"
      ],
      "metadata": {
        "colab": {
          "base_uri": "https://localhost:8080/"
        },
        "id": "S20L5u5reGGk",
        "outputId": "698a3382-9b5e-4601-b5e3-f3f26fcf5005"
      },
      "execution_count": null,
      "outputs": [
        {
          "output_type": "stream",
          "name": "stdout",
          "text": [
            "-43.8993 323.3695\n"
          ]
        }
      ]
    },
    {
      "cell_type": "code",
      "source": [
        "print(\"p0 =\",p0,\n",
        "      \"\\np100 =\",p100,\n",
        "      \"\\nlc =\",lower_cutoff,\n",
        "      \"\\nuc =\",upper_cutoff)"
      ],
      "metadata": {
        "colab": {
          "base_uri": "https://localhost:8080/"
        },
        "id": "PhivYuxSeJUZ",
        "outputId": "6e24f6f8-0fe1-4ed7-b104-b5c83c26af5f"
      },
      "execution_count": null,
      "outputs": [
        {
          "output_type": "stream",
          "name": "stdout",
          "text": [
            "p0 = 31.29 \n",
            "p100 = 266.8884 \n",
            "lc = -43.8993 \n",
            "uc = 323.3695\n"
          ]
        }
      ]
    },
    {
      "cell_type": "code",
      "source": [
        "df.Item_MRP.plot(kind='box')  #using pandas"
      ],
      "metadata": {
        "colab": {
          "base_uri": "https://localhost:8080/",
          "height": 283
        },
        "id": "9EJjregweMFv",
        "outputId": "fe032aca-b209-4056-8632-6fd980a274b1"
      },
      "execution_count": null,
      "outputs": [
        {
          "output_type": "execute_result",
          "data": {
            "text/plain": [
              "<matplotlib.axes._subplots.AxesSubplot at 0x7f9af54744d0>"
            ]
          },
          "metadata": {},
          "execution_count": 24
        },
        {
          "output_type": "display_data",
          "data": {
            "text/plain": [
              "<Figure size 432x288 with 1 Axes>"
            ],
            "image/png": "[encoded data removed]"
          },
          "metadata": {
            "needs_background": "light"
          }
        }
      ]
    },
    {
      "cell_type": "code",
      "source": [
        "#continous data --> variable possesses range\n",
        "#categorical data --> variable doesn't possesses range\n",
        "p0=df.Outlet_Establishment_Year.min()\n",
        "p100=df.Outlet_Establishment_Year.max()\n",
        "q1=df.Outlet_Establishment_Year.quantile(0.25)    #25th Quantile value\n",
        "q2=df.Outlet_Establishment_Year.quantile(0.5)     #50th Quantile value\n",
        "q3=df.Outlet_Establishment_Year.quantile(0.75)    #75th Quantile value\n",
        "\n",
        "iqr=q3 - q1  #Inter quantile  range"
      ],
      "metadata": {
        "id": "66diAxc4eTVW"
      },
      "execution_count": null,
      "outputs": []
    },
    {
      "cell_type": "code",
      "source": [
        "lower_cutoff= q1 - 1.5*iqr            #if lower_cutoff<p0 --> There are NO outliers on the lower side\n",
        "upper_cutoff= q3 + 1.5*iqr            # if upper_cutoff>p100 --> There are NO ouliers in the Upper side\n",
        "print(lower_cutoff,upper_cutoff)"
      ],
      "metadata": {
        "colab": {
          "base_uri": "https://localhost:8080/"
        },
        "id": "UIHkj3YBeh3K",
        "outputId": "c85a2ae5-7518-4efc-900d-9616a1f723ab"
      },
      "execution_count": null,
      "outputs": [
        {
          "output_type": "stream",
          "name": "stdout",
          "text": [
            "1961.5 2029.5\n"
          ]
        }
      ]
    },
    {
      "cell_type": "code",
      "source": [
        "print(\"p0 =\",p0,\n",
        "      \"\\np100 =\",p100,\n",
        "      \"\\nlc =\",lower_cutoff,\n",
        "      \"\\nuc =\",upper_cutoff)"
      ],
      "metadata": {
        "colab": {
          "base_uri": "https://localhost:8080/"
        },
        "id": "CZurQN1yekVv",
        "outputId": "a039ecff-f831-45c0-bcd5-5c18390246dd"
      },
      "execution_count": null,
      "outputs": [
        {
          "output_type": "stream",
          "name": "stdout",
          "text": [
            "p0 = 1985 \n",
            "p100 = 2009 \n",
            "lc = 1961.5 \n",
            "uc = 2029.5\n"
          ]
        }
      ]
    },
    {
      "cell_type": "code",
      "source": [
        "df.Outlet_Establishment_Year.plot(kind='box')  #using pandas"
      ],
      "metadata": {
        "colab": {
          "base_uri": "https://localhost:8080/",
          "height": 286
        },
        "id": "4hI4emA6eoJV",
        "outputId": "b31d2a95-ebc6-4929-e79f-05981ce041b6"
      },
      "execution_count": null,
      "outputs": [
        {
          "output_type": "execute_result",
          "data": {
            "text/plain": [
              "<matplotlib.axes._subplots.AxesSubplot at 0x7f9af53f8890>"
            ]
          },
          "metadata": {},
          "execution_count": 28
        },
        {
          "output_type": "display_data",
          "data": {
            "text/plain": [
              "<Figure size 432x288 with 1 Axes>"
            ],
            "image/png": "[encoded data removed]"
          },
          "metadata": {
            "needs_background": "light"
          }
        }
      ]
    },
    {
      "cell_type": "code",
      "source": [
        "#continous data --> variable possesses range\n",
        "#categorical data --> variable doesn't possesses range\n",
        "p0=df.Item_Outlet_Sales.min()\n",
        "p100=df.Item_Outlet_Sales.max()\n",
        "q1=df.Item_Outlet_Sales.quantile(0.25)    #25th Quantile value\n",
        "q2=df.Item_Outlet_Sales.quantile(0.5)     #50th Quantile value\n",
        "q3=df.Item_Outlet_Sales.quantile(0.75)    #75th Quantile value\n",
        "\n",
        "iqr=q3 - q1  #Inter quantile  range"
      ],
      "metadata": {
        "id": "WdXEp-Cuet02"
      },
      "execution_count": null,
      "outputs": []
    },
    {
      "cell_type": "code",
      "source": [
        "lower_cutoff= q1 - 1.5*iqr            #if lower_cutoff<p0 --> There are NO outliers on the lower side\n",
        "upper_cutoff= q3 + 1.5*iqr            # if upper_cutoff>p100 --> There are NO ouliers in the Upper side\n",
        "print(lower_cutoff,upper_cutoff)"
      ],
      "metadata": {
        "colab": {
          "base_uri": "https://localhost:8080/"
        },
        "id": "pvh8zsRne7Gj",
        "outputId": "dff46d46-3512-4248-b07b-aefbc1332ec2"
      },
      "execution_count": null,
      "outputs": [
        {
          "output_type": "stream",
          "name": "stdout",
          "text": [
            "-2566.3261 6501.8699\n"
          ]
        }
      ]
    },
    {
      "cell_type": "code",
      "source": [
        "print(\"p0 =\",p0,\n",
        "      \"\\np100 =\",p100,\n",
        "      \"\\nlc =\",lower_cutoff,\n",
        "      \"\\nuc =\",upper_cutoff)"
      ],
      "metadata": {
        "colab": {
          "base_uri": "https://localhost:8080/"
        },
        "id": "9j9thtbye-RZ",
        "outputId": "da8c1234-5720-4a22-c056-cc5affd20adc"
      },
      "execution_count": null,
      "outputs": [
        {
          "output_type": "stream",
          "name": "stdout",
          "text": [
            "p0 = 33.29 \n",
            "p100 = 13086.9648 \n",
            "lc = -2566.3261 \n",
            "uc = 6501.8699\n"
          ]
        }
      ]
    },
    {
      "cell_type": "code",
      "source": [
        "df.Item_Outlet_Sales.plot(kind='box')  #using pandas"
      ],
      "metadata": {
        "colab": {
          "base_uri": "https://localhost:8080/",
          "height": 283
        },
        "id": "zQ8aDMTIfAOw",
        "outputId": "647e688d-09d7-4acf-bcfa-75fc6c43dafc"
      },
      "execution_count": null,
      "outputs": [
        {
          "output_type": "execute_result",
          "data": {
            "text/plain": [
              "<matplotlib.axes._subplots.AxesSubplot at 0x7f9af536fa50>"
            ]
          },
          "metadata": {},
          "execution_count": 32
        },
        {
          "output_type": "display_data",
          "data": {
            "text/plain": [
              "<Figure size 432x288 with 1 Axes>"
            ],
            "image/png": "[encoded data removed]"
          },
          "metadata": {
            "needs_background": "light"
          }
        }
      ]
    },
    {
      "cell_type": "code",
      "source": [
        "#Outlier Treatment\n",
        "## Clipping all values greater than the upper cutoff to the upper cutoff\n",
        "\n",
        "df.Item_Outlet_Sales.clip(upper=upper_cutoff)\n",
        "df.Item_Outlet_Sales.clip(upper=upper_cutoff,inplace=True)\n",
        "df.Item_Outlet_Sales.plot(kind='box')"
      ],
      "metadata": {
        "colab": {
          "base_uri": "https://localhost:8080/",
          "height": 283
        },
        "id": "zgry37G6fIaF",
        "outputId": "b9529dcd-cbb5-4878-e65c-964d6f3870d3"
      },
      "execution_count": null,
      "outputs": [
        {
          "output_type": "execute_result",
          "data": {
            "text/plain": [
              "<matplotlib.axes._subplots.AxesSubplot at 0x7f9af52e69d0>"
            ]
          },
          "metadata": {},
          "execution_count": 33
        },
        {
          "output_type": "display_data",
          "data": {
            "text/plain": [
              "<Figure size 432x288 with 1 Axes>"
            ],
            "image/png": "[encoded data removed]"
          },
          "metadata": {
            "needs_background": "light"
          }
        }
      ]
    }
  ]
}